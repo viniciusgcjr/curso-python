{
  "nbformat": 4,
  "nbformat_minor": 0,
  "metadata": {
    "colab": {
      "provenance": [],
      "toc_visible": true,
      "include_colab_link": true
    },
    "kernelspec": {
      "name": "python3",
      "display_name": "Python 3"
    },
    "language_info": {
      "name": "python"
    }
  },
  "cells": [
    {
      "cell_type": "markdown",
      "metadata": {
        "id": "view-in-github",
        "colab_type": "text"
      },
      "source": [
        "<a href=\"https://colab.research.google.com/github/viniciusgcjr/curso-python/blob/main/Curso_Apac_3.ipynb\" target=\"_parent\"><img src=\"https://colab.research.google.com/assets/colab-badge.svg\" alt=\"Open In Colab\"/></a>"
      ]
    },
    {
      "cell_type": "markdown",
      "source": [
        "# Métodos de String\n",
        "\n",
        "[Referência](https://docs.python.org/pt-br/3.7/library/string.html)"
      ],
      "metadata": {
        "id": "Ky-hUDMeyaar"
      }
    },
    {
      "cell_type": "code",
      "source": [
        "'   vinicius   '.lstrip()"
      ],
      "metadata": {
        "colab": {
          "base_uri": "https://localhost:8080/",
          "height": 35
        },
        "id": "JVWha4j9pQwq",
        "outputId": "8b123012-beb2-4d47-a35e-ec7a4a9fe2c5"
      },
      "execution_count": null,
      "outputs": [
        {
          "output_type": "execute_result",
          "data": {
            "text/plain": [
              "'vinicius   '"
            ],
            "application/vnd.google.colaboratory.intrinsic+json": {
              "type": "string"
            }
          },
          "metadata": {},
          "execution_count": 2
        }
      ]
    },
    {
      "cell_type": "code",
      "source": [
        "'   vinicius   '.rstrip()"
      ],
      "metadata": {
        "colab": {
          "base_uri": "https://localhost:8080/",
          "height": 35
        },
        "id": "ltCEnf_KpXob",
        "outputId": "62d10fce-ca34-47a1-c012-b11c89e0d79d"
      },
      "execution_count": null,
      "outputs": [
        {
          "output_type": "execute_result",
          "data": {
            "text/plain": [
              "'   vinicius'"
            ],
            "application/vnd.google.colaboratory.intrinsic+json": {
              "type": "string"
            }
          },
          "metadata": {},
          "execution_count": 3
        }
      ]
    },
    {
      "cell_type": "code",
      "source": [
        "'VINICIUS'.lower()"
      ],
      "metadata": {
        "colab": {
          "base_uri": "https://localhost:8080/",
          "height": 35
        },
        "id": "h8Gs7zi3pdeZ",
        "outputId": "8fa5eea4-aefa-4e01-e322-1c87ab5d5fd1"
      },
      "execution_count": null,
      "outputs": [
        {
          "output_type": "execute_result",
          "data": {
            "text/plain": [
              "'vinicius'"
            ],
            "application/vnd.google.colaboratory.intrinsic+json": {
              "type": "string"
            }
          },
          "metadata": {},
          "execution_count": 4
        }
      ]
    },
    {
      "cell_type": "code",
      "source": [
        "'BaseTestCase'.replace('Test', 'Gome')"
      ],
      "metadata": {
        "colab": {
          "base_uri": "https://localhost:8080/",
          "height": 35
        },
        "id": "RzapV9Fppm7B",
        "outputId": "07a02cab-040b-4a3b-f095-11882944d318"
      },
      "execution_count": null,
      "outputs": [
        {
          "output_type": "execute_result",
          "data": {
            "text/plain": [
              "'BaseGomeCase'"
            ],
            "application/vnd.google.colaboratory.intrinsic+json": {
              "type": "string"
            }
          },
          "metadata": {},
          "execution_count": 5
        }
      ]
    },
    {
      "cell_type": "code",
      "source": [
        "'Base-Test-Case'.rsplit(sep='-')"
      ],
      "metadata": {
        "colab": {
          "base_uri": "https://localhost:8080/"
        },
        "id": "dLtjO1qspoTB",
        "outputId": "0e528e9f-1f97-4a89-b41f-f9a03a324eca"
      },
      "execution_count": null,
      "outputs": [
        {
          "output_type": "execute_result",
          "data": {
            "text/plain": [
              "['Base', 'Test', 'Case']"
            ]
          },
          "metadata": {},
          "execution_count": 6
        }
      ]
    },
    {
      "cell_type": "code",
      "source": [
        "'1,2,3'.split(',')\n",
        "\n"
      ],
      "metadata": {
        "colab": {
          "base_uri": "https://localhost:8080/"
        },
        "id": "YebOjAgbp5Kz",
        "outputId": "9dbc38e8-e6c7-4818-ac10-d729d5e947fb"
      },
      "execution_count": null,
      "outputs": [
        {
          "output_type": "execute_result",
          "data": {
            "text/plain": [
              "['1', '2', '3']"
            ]
          },
          "metadata": {},
          "execution_count": 7
        }
      ]
    },
    {
      "cell_type": "code",
      "source": [
        "'1,2,3'.split(',', maxsplit=1)\n"
      ],
      "metadata": {
        "colab": {
          "base_uri": "https://localhost:8080/"
        },
        "id": "gQIve3mwqAjv",
        "outputId": "3c88be76-b77d-40a9-ba50-73901886dc1a"
      },
      "execution_count": null,
      "outputs": [
        {
          "output_type": "execute_result",
          "data": {
            "text/plain": [
              "['1', '2,3']"
            ]
          },
          "metadata": {},
          "execution_count": 8
        }
      ]
    },
    {
      "cell_type": "code",
      "source": [
        "\n",
        "'1,2,,3,'.split(',')"
      ],
      "metadata": {
        "colab": {
          "base_uri": "https://localhost:8080/"
        },
        "id": "rzQnmFkWqXat",
        "outputId": "e89b8f9f-46cb-48ad-a338-5a68c740699f"
      },
      "execution_count": null,
      "outputs": [
        {
          "output_type": "execute_result",
          "data": {
            "text/plain": [
              "['1', '2', '', '3', '']"
            ]
          },
          "metadata": {},
          "execution_count": 9
        }
      ]
    },
    {
      "cell_type": "code",
      "source": [
        "'1 2 3'.split()"
      ],
      "metadata": {
        "colab": {
          "base_uri": "https://localhost:8080/"
        },
        "id": "6BOXBJ5QqZqW",
        "outputId": "fbf71d82-8531-490f-98dd-8d52de878881"
      },
      "execution_count": null,
      "outputs": [
        {
          "output_type": "execute_result",
          "data": {
            "text/plain": [
              "['1', '2', '3']"
            ]
          },
          "metadata": {},
          "execution_count": 10
        }
      ]
    },
    {
      "cell_type": "code",
      "source": [
        "'1 2 3'.split(maxsplit=1)"
      ],
      "metadata": {
        "colab": {
          "base_uri": "https://localhost:8080/"
        },
        "id": "lJvjLusgqaBm",
        "outputId": "5533126a-d6cb-48af-a720-f49654f5aa38"
      },
      "execution_count": null,
      "outputs": [
        {
          "output_type": "execute_result",
          "data": {
            "text/plain": [
              "['1', '2 3']"
            ]
          },
          "metadata": {},
          "execution_count": 11
        }
      ]
    },
    {
      "cell_type": "code",
      "source": [
        "'   1   2   3   '.split()"
      ],
      "metadata": {
        "colab": {
          "base_uri": "https://localhost:8080/"
        },
        "id": "mdeutaFfqbaF",
        "outputId": "5552e4ee-0cba-4334-b3da-82f5918d2841"
      },
      "execution_count": null,
      "outputs": [
        {
          "output_type": "execute_result",
          "data": {
            "text/plain": [
              "['1', '2', '3']"
            ]
          },
          "metadata": {},
          "execution_count": 12
        }
      ]
    },
    {
      "cell_type": "code",
      "source": [
        "'https://docs.python.org/pt-br/3.7/library/stdtypes.html'.split(sep='/')"
      ],
      "metadata": {
        "colab": {
          "base_uri": "https://localhost:8080/"
        },
        "id": "zRkR0bTfcy1G",
        "outputId": "2e42a53c-a478-4ae3-b9ab-492fec7c9ffd"
      },
      "execution_count": null,
      "outputs": [
        {
          "output_type": "execute_result",
          "data": {
            "text/plain": [
              "['https:', '', 'docs.python.org', 'pt-br', '3.7', 'library', 'stdtypes.html']"
            ]
          },
          "metadata": {},
          "execution_count": 13
        }
      ]
    },
    {
      "cell_type": "code",
      "source": [
        "'Vinicius'.startswith('Vin')"
      ],
      "metadata": {
        "colab": {
          "base_uri": "https://localhost:8080/"
        },
        "id": "m14tz7hhqlPN",
        "outputId": "7afa57e5-b835-4ef8-aad7-51b9069ea3b6"
      },
      "execution_count": null,
      "outputs": [
        {
          "output_type": "execute_result",
          "data": {
            "text/plain": [
              "True"
            ]
          },
          "metadata": {},
          "execution_count": 14
        }
      ]
    },
    {
      "cell_type": "code",
      "source": [
        "'Vinicius'.startswith('Vin', 1, 5) #não tem Vin em [1:5]"
      ],
      "metadata": {
        "colab": {
          "base_uri": "https://localhost:8080/"
        },
        "id": "4FeZuu2Jqx_7",
        "outputId": "5766ad03-f46d-4f96-aa54-302f0deef10b"
      },
      "execution_count": null,
      "outputs": [
        {
          "output_type": "execute_result",
          "data": {
            "text/plain": [
              "False"
            ]
          },
          "metadata": {},
          "execution_count": 15
        }
      ]
    },
    {
      "cell_type": "code",
      "source": [
        "str(12).zfill(5)"
      ],
      "metadata": {
        "colab": {
          "base_uri": "https://localhost:8080/",
          "height": 35
        },
        "id": "GDLWIU2AhRW_",
        "outputId": "8993d1cc-f237-4c2b-fee6-6ad4cf372cb7"
      },
      "execution_count": null,
      "outputs": [
        {
          "output_type": "execute_result",
          "data": {
            "text/plain": [
              "'00012'"
            ],
            "application/vnd.google.colaboratory.intrinsic+json": {
              "type": "string"
            }
          },
          "metadata": {},
          "execution_count": 16
        }
      ]
    },
    {
      "cell_type": "code",
      "source": [
        "'vinicius-gomes'.count('i')"
      ],
      "metadata": {
        "colab": {
          "base_uri": "https://localhost:8080/"
        },
        "id": "C4-2f_HhXV7k",
        "outputId": "85044a1a-ba89-4cf5-cbbb-6286da65e089"
      },
      "execution_count": null,
      "outputs": [
        {
          "output_type": "execute_result",
          "data": {
            "text/plain": [
              "3"
            ]
          },
          "metadata": {},
          "execution_count": 17
        }
      ]
    },
    {
      "cell_type": "markdown",
      "source": [
        "# Tipo de Mapeamento — dict\n",
        "\n",
        "Um objeto de mapeamento mapeia valores hasheáveis para objetos arbitrários. Mapeamentos são objetos mutáveis. Existe no momento apenas um tipo de mapeamento padrão, o dicionário.\n",
        "\n",
        "Similar ao Map do Java e objeto em Javascript.\n",
        "\n",
        "[Referência](https://docs.python.org/pt-br/3.7/library/stdtypes.html#mapping-types-dict)"
      ],
      "metadata": {
        "id": "8epFM-5GNgUn"
      }
    },
    {
      "cell_type": "code",
      "source": [
        "dict_coordenadas = {\"estado\": \"PE\", \"latitude\" : -9.1223227, \"longitude\" : -36.43874}"
      ],
      "metadata": {
        "id": "R8Od3p64S5Lx"
      },
      "execution_count": null,
      "outputs": []
    },
    {
      "cell_type": "code",
      "source": [
        "dict_coordenadas['estado']"
      ],
      "metadata": {
        "colab": {
          "base_uri": "https://localhost:8080/",
          "height": 35
        },
        "id": "XRMl8SaikUQp",
        "outputId": "98d30813-1f8a-47c3-9eb4-87cf4dbba4da"
      },
      "execution_count": null,
      "outputs": [
        {
          "output_type": "execute_result",
          "data": {
            "text/plain": [
              "'PE'"
            ],
            "application/vnd.google.colaboratory.intrinsic+json": {
              "type": "string"
            }
          },
          "metadata": {},
          "execution_count": 19
        }
      ]
    },
    {
      "cell_type": "markdown",
      "source": [
        "### Objetos de visão de dicionário\n",
        "Os objetos retornados por **dict.keys(), dict.values() e dict.items()** são objetos de visão. Eles fornecem uma visão dinâmica das entradas do dicionário, o que significa que quando o dicionário muda, a visão reflete essas mudanças.\n",
        "\n",
        "[Referência](https://docs.python.org/pt-br/3.7/library/stdtypes.html#dictionary-view-objects)"
      ],
      "metadata": {
        "id": "7YpcckPvNzk4"
      }
    },
    {
      "cell_type": "code",
      "source": [
        "dict_coordenadas.keys()"
      ],
      "metadata": {
        "colab": {
          "base_uri": "https://localhost:8080/"
        },
        "id": "rln-fNvETFnK",
        "outputId": "85988546-d971-4ad4-b7a0-4d9bba7e96f9"
      },
      "execution_count": null,
      "outputs": [
        {
          "output_type": "execute_result",
          "data": {
            "text/plain": [
              "dict_keys(['estado', 'latitude', 'longitude'])"
            ]
          },
          "metadata": {},
          "execution_count": 20
        }
      ]
    },
    {
      "cell_type": "code",
      "source": [
        "dict_coordenadas.values()"
      ],
      "metadata": {
        "colab": {
          "base_uri": "https://localhost:8080/"
        },
        "id": "sM6nEv5MTIIk",
        "outputId": "680ad736-28c1-46ee-92f2-6c32d917b3f5"
      },
      "execution_count": null,
      "outputs": [
        {
          "output_type": "execute_result",
          "data": {
            "text/plain": [
              "dict_values(['PE', -9.1223227, -36.43874])"
            ]
          },
          "metadata": {},
          "execution_count": 21
        }
      ]
    },
    {
      "cell_type": "code",
      "source": [
        "dict_coordenadas.items()"
      ],
      "metadata": {
        "colab": {
          "base_uri": "https://localhost:8080/"
        },
        "id": "N7j99yv9TKqB",
        "outputId": "e79d6083-a8b7-4ccf-a195-f5b4f146535f"
      },
      "execution_count": null,
      "outputs": [
        {
          "output_type": "execute_result",
          "data": {
            "text/plain": [
              "dict_items([('estado', 'PE'), ('latitude', -9.1223227), ('longitude', -36.43874)])"
            ]
          },
          "metadata": {},
          "execution_count": 22
        }
      ]
    },
    {
      "cell_type": "markdown",
      "source": [
        "# Tipo Set\n",
        "Um objeto set é uma coleção não ordenada de objetos hasheáveis distintos. Usos comuns incluem testes de associação, remover duplicatas de uma sequência, e computar operações matemáticas tais como interseção, união, diferença, e diferença simétrica\n",
        "\n",
        "[Referência](https://docs.python.org/pt-br/3.7/library/stdtypes.html#set)"
      ],
      "metadata": {
        "id": "wDlnW6AeNUiy"
      }
    },
    {
      "cell_type": "code",
      "source": [
        "{1,2,3,4,3,3,3,3,3,3,3,5}"
      ],
      "metadata": {
        "colab": {
          "base_uri": "https://localhost:8080/"
        },
        "id": "cu4YTZPtTT0y",
        "outputId": "5ed9ac4a-f141-4853-bdad-8a2385bbff7d"
      },
      "execution_count": null,
      "outputs": [
        {
          "output_type": "execute_result",
          "data": {
            "text/plain": [
              "{1, 2, 3, 4, 5}"
            ]
          },
          "metadata": {},
          "execution_count": 23
        }
      ]
    },
    {
      "cell_type": "code",
      "source": [
        "s1 = {1,2,3,4,5}\n",
        "\n",
        "\n",
        "s2 = set()\n",
        "s2.add(1)\n",
        "s2.add(3)\n",
        "s2.add(4)\n",
        "s2.discard(3)\n",
        "s2.update('a')\n",
        "print(s2)"
      ],
      "metadata": {
        "colab": {
          "base_uri": "https://localhost:8080/"
        },
        "id": "q4w8AVfvyBLm",
        "outputId": "824fde2a-8ff1-418f-d007-591f7f9286b8"
      },
      "execution_count": null,
      "outputs": [
        {
          "output_type": "stream",
          "name": "stdout",
          "text": [
            "{1, 4, 'a'}\n"
          ]
        }
      ]
    },
    {
      "cell_type": "code",
      "source": [
        "#union\n",
        "s1 = {1,2,3,4,5}\n",
        "s2 = {1,3,5,6,7,7,8}\n",
        "s3 = s1 | s2\n",
        "s4 = s1 & s2\n",
        "s5 = s1 - s2\n",
        "s6 = s1 ^ s2\n",
        "print('union: ', s3)\n",
        "print('intersection: ', s4)\n",
        "print('differrence: ',s5)\n",
        "print('symmetric difference: ', s6)"
      ],
      "metadata": {
        "colab": {
          "base_uri": "https://localhost:8080/"
        },
        "id": "dtuvxZR2yJpQ",
        "outputId": "6e68449e-e191-49a7-a195-9f6fc5417d2b"
      },
      "execution_count": null,
      "outputs": [
        {
          "output_type": "stream",
          "name": "stdout",
          "text": [
            "union:  {1, 2, 3, 4, 5, 6, 7, 8}\n",
            "intersection:  {1, 3, 5}\n",
            "differrence:  {2, 4}\n",
            "symmetric difference:  {2, 4, 6, 7, 8}\n"
          ]
        }
      ]
    },
    {
      "cell_type": "code",
      "source": [
        "#Neste caso as listas são diferentes, mas os sets são iguais\n",
        "l1 = ['a', 'b', 'c']\n",
        "l2 = ['b', 'a', 'c', 'c','c','c','c']\n",
        "print(l1 != l2)\n",
        "\n",
        "s1 = set(l1)\n",
        "s2 = set(l2)\n",
        "print(s1 != s2)"
      ],
      "metadata": {
        "id": "G7A41i_4ycV0",
        "outputId": "1c2491af-6429-4ecf-acfb-5eae1f4e250f",
        "colab": {
          "base_uri": "https://localhost:8080/"
        }
      },
      "execution_count": null,
      "outputs": [
        {
          "output_type": "stream",
          "name": "stdout",
          "text": [
            "True\n",
            "False\n"
          ]
        }
      ]
    },
    {
      "cell_type": "markdown",
      "source": [
        "#Caracteres de escape\n",
        "\n",
        "| Caracteres de Escapes (Escapes Sequence) | Significado                                      |\n",
        "| ---------------------------------------- | ------------------------------------------------ |\n",
        "| \\\\newline                                | A barra invertida e a nova linha foram ignoradas |\n",
        "| \\\\\\\\                                     | Backslash (\\\\)                                   |\n",
        "| \\\\'                                      | Aspas Simples (')                                |\n",
        "| \\\\\"                                      | Aspas Dupla (\")                                  |\n",
        "| \\\\a                                      | ASCII Bell (BEL)                                 |\n",
        "| \\\\b                                      | ASCII Backspace (BS)                             |\n",
        "| \\\\f                                      | ASCII Formfeed (FF)                              |\n",
        "| \\\\n                                      | ASCII Linefeed (LF)                              |\n",
        "| \\\\r                                      | ASCII Carriage Return (CR)                       |\n",
        "| \\\\t                                      | ASCII Horizontal Tab (TAB)                       |\n",
        "\n",
        "[Referência](https://docs.python.org/pt-br/3.7/reference/lexical_analysis.html#string-and-bytes-literals)"
      ],
      "metadata": {
        "id": "7N4SH_Lka7fS"
      }
    },
    {
      "cell_type": "code",
      "source": [
        "print('vinicius gomes costa')\n",
        "print('Jr')"
      ],
      "metadata": {
        "colab": {
          "base_uri": "https://localhost:8080/"
        },
        "id": "ft5Cv2czfI7s",
        "outputId": "7dcdd82a-0dab-4d1b-cde8-4302487192b2"
      },
      "execution_count": null,
      "outputs": [
        {
          "output_type": "stream",
          "name": "stdout",
          "text": [
            "vinicius gomes costa\n",
            "Jr\n"
          ]
        }
      ]
    },
    {
      "cell_type": "code",
      "source": [
        "help(print)"
      ],
      "metadata": {
        "colab": {
          "base_uri": "https://localhost:8080/"
        },
        "id": "flsO3ZU5WzwM",
        "outputId": "d7e3cc04-5978-49dd-de23-7e3fc1e7b274"
      },
      "execution_count": null,
      "outputs": [
        {
          "output_type": "stream",
          "name": "stdout",
          "text": [
            "Help on built-in function print in module builtins:\n",
            "\n",
            "print(...)\n",
            "    print(value, ..., sep=' ', end='\\n', file=sys.stdout, flush=False)\n",
            "    \n",
            "    Prints the values to a stream, or to sys.stdout by default.\n",
            "    Optional keyword arguments:\n",
            "    file:  a file-like object (stream); defaults to the current sys.stdout.\n",
            "    sep:   string inserted between values, default a space.\n",
            "    end:   string appended after the last value, default a newline.\n",
            "    flush: whether to forcibly flush the stream.\n",
            "\n"
          ]
        }
      ]
    },
    {
      "cell_type": "code",
      "source": [
        "print('vinicius gomes costa', sep='_', end='\\t')\n",
        "print('Jr')"
      ],
      "metadata": {
        "colab": {
          "base_uri": "https://localhost:8080/"
        },
        "id": "5QVbJG6VXECZ",
        "outputId": "85f3da36-6ed0-474e-c29e-05d557161a24"
      },
      "execution_count": null,
      "outputs": [
        {
          "output_type": "stream",
          "name": "stdout",
          "text": [
            "vinicius gomes costa\tJr\n"
          ]
        }
      ]
    },
    {
      "cell_type": "markdown",
      "source": [
        "## UNPACKING  \n",
        "operador splat"
      ],
      "metadata": {
        "id": "IDHIJ-C_clxo"
      }
    },
    {
      "cell_type": "markdown",
      "source": [
        "The thing that sep separates is multiple arguments to print, not the elements of any list you're trying to print. But, there's an easy way in a function call to unpack the elements of a list and treat them as multiple individual arguments, the * operator (the splat):\n",
        "\n",
        "print(*list_of, end='', sep='-')"
      ],
      "metadata": {
        "id": "LeWk5DtsZ8V5"
      }
    },
    {
      "cell_type": "code",
      "source": [
        "print(*nome, sep='_')"
      ],
      "metadata": {
        "colab": {
          "base_uri": "https://localhost:8080/"
        },
        "id": "84Uf9CDUYO40",
        "outputId": "1b44cc67-1857-4937-a50f-d40fe5e2ca95"
      },
      "execution_count": null,
      "outputs": [
        {
          "output_type": "stream",
          "name": "stdout",
          "text": [
            "V_i_n_í_c_i_u_s_ _G_o_m_e_s_ _C_o_s_t_a_ _J_ú_n_i_o_r\n"
          ]
        }
      ]
    },
    {
      "cell_type": "code",
      "source": [
        "print(*lista, sep='_')"
      ],
      "metadata": {
        "colab": {
          "base_uri": "https://localhost:8080/"
        },
        "id": "aXnL24gVZZSv",
        "outputId": "7548baec-047c-407f-d883-90b8ea6330f8"
      },
      "execution_count": null,
      "outputs": [
        {
          "output_type": "stream",
          "name": "stdout",
          "text": [
            "Vinícius_Gomes_Costa_Júnior\n"
          ]
        }
      ]
    },
    {
      "cell_type": "markdown",
      "source": [
        "# F-String"
      ],
      "metadata": {
        "id": "FTuO2VJrSRL4"
      }
    },
    {
      "cell_type": "code",
      "source": [
        "lat = dict_coordenadas['latitude']\n",
        "lat"
      ],
      "metadata": {
        "colab": {
          "base_uri": "https://localhost:8080/"
        },
        "id": "mw2dhwlTaZph",
        "outputId": "2b88caf4-760f-47a3-ec2f-51238e78df66"
      },
      "execution_count": null,
      "outputs": [
        {
          "output_type": "execute_result",
          "data": {
            "text/plain": [
              "-9.1223227"
            ]
          },
          "metadata": {},
          "execution_count": 123
        }
      ]
    },
    {
      "cell_type": "code",
      "source": [
        "long = dict_coordenadas['longitude']\n",
        "long"
      ],
      "metadata": {
        "colab": {
          "base_uri": "https://localhost:8080/"
        },
        "id": "H-3SGnhqiHLt",
        "outputId": "5102a943-bc46-4905-9141-bceaddfb9829"
      },
      "execution_count": null,
      "outputs": [
        {
          "output_type": "execute_result",
          "data": {
            "text/plain": [
              "-36.43874"
            ]
          },
          "metadata": {},
          "execution_count": 127
        }
      ]
    },
    {
      "cell_type": "code",
      "source": [
        "uf = dict_coordenadas['estado']\n",
        "uf"
      ],
      "metadata": {
        "colab": {
          "base_uri": "https://localhost:8080/",
          "height": 35
        },
        "id": "w5jDrEF0aiMW",
        "outputId": "822446f9-bfa0-4e29-8f19-1f8ccd122238"
      },
      "execution_count": null,
      "outputs": [
        {
          "output_type": "execute_result",
          "data": {
            "text/plain": [
              "'PE'"
            ],
            "application/vnd.google.colaboratory.intrinsic+json": {
              "type": "string"
            }
          },
          "metadata": {},
          "execution_count": 124
        }
      ]
    },
    {
      "cell_type": "code",
      "source": [
        "print(f'Estado: {uf}, latitude: {lat}, longitude: {long}')"
      ],
      "metadata": {
        "colab": {
          "base_uri": "https://localhost:8080/"
        },
        "id": "8BFo2ZEIbDIe",
        "outputId": "a61920c2-f4ef-4b1b-8f6d-fa405ed9ed53"
      },
      "execution_count": null,
      "outputs": [
        {
          "output_type": "stream",
          "name": "stdout",
          "text": [
            "Estado: PE, latitude: -9.1223227, longitude: -36.43874\n"
          ]
        }
      ]
    },
    {
      "cell_type": "code",
      "source": [
        "print(f'Estado: {uf}, latitude: {lat:.2f}, longitude: {long:.2f}')"
      ],
      "metadata": {
        "colab": {
          "base_uri": "https://localhost:8080/"
        },
        "id": "WeWES4HdiTnM",
        "outputId": "affadfd4-c834-4667-d99c-831252841829"
      },
      "execution_count": null,
      "outputs": [
        {
          "output_type": "stream",
          "name": "stdout",
          "text": [
            "Estado: PE, latitude: -9.12, longitude: -36.44\n"
          ]
        }
      ]
    },
    {
      "cell_type": "code",
      "source": [
        "site_principal = 'https://www.apac.pe.gov.br/'\n",
        "meteorologia = 'previsoes-do-tempo'\n"
      ],
      "metadata": {
        "id": "l_8AKKYgZtxK"
      },
      "execution_count": null,
      "outputs": []
    },
    {
      "cell_type": "code",
      "source": [
        "URL = site_principal + meteorologia\n",
        "URL # Na última linha pode-se omitir o print"
      ],
      "metadata": {
        "colab": {
          "base_uri": "https://localhost:8080/",
          "height": 35
        },
        "id": "J2Nb9tCDSoDv",
        "outputId": "d0e07351-42c0-4e78-c5c6-05c9ec1343d9"
      },
      "execution_count": null,
      "outputs": [
        {
          "output_type": "execute_result",
          "data": {
            "text/plain": [
              "'https://www.apac.pe.gov.br/previsoes-do-tempo'"
            ],
            "application/vnd.google.colaboratory.intrinsic+json": {
              "type": "string"
            }
          },
          "metadata": {},
          "execution_count": 95
        }
      ]
    },
    {
      "cell_type": "code",
      "source": [
        "site_previsao = f'{site_principal}{meteorologia}'\n",
        "site_previsao"
      ],
      "metadata": {
        "id": "Xn12ccIahmb5",
        "colab": {
          "base_uri": "https://localhost:8080/",
          "height": 35
        },
        "outputId": "b041b39e-a5fe-4ba2-d784-27ba4fe1efa3"
      },
      "execution_count": null,
      "outputs": [
        {
          "output_type": "execute_result",
          "data": {
            "text/plain": [
              "'https://www.apac.pe.gov.br/previsoes-do-tempo'"
            ],
            "application/vnd.google.colaboratory.intrinsic+json": {
              "type": "string"
            }
          },
          "metadata": {},
          "execution_count": 96
        }
      ]
    },
    {
      "cell_type": "code",
      "source": [
        "import requests\n",
        "r = requests.get(site_previsao)\n",
        "r.status_code"
      ],
      "metadata": {
        "colab": {
          "base_uri": "https://localhost:8080/"
        },
        "id": "avPj93sWGPL9",
        "outputId": "d03dcf4d-114d-4988-8391-212e23ec272d"
      },
      "execution_count": null,
      "outputs": [
        {
          "output_type": "execute_result",
          "data": {
            "text/plain": [
              "403"
            ]
          },
          "metadata": {},
          "execution_count": 97
        }
      ]
    },
    {
      "cell_type": "markdown",
      "source": [
        "# Controle de fluxo\n",
        "\n",
        "[Referência](https://docs.python.org/pt-br/3.7/tutorial/controlflow.html#more-control-flow-tools)"
      ],
      "metadata": {
        "id": "7yqcXPMiThVI"
      }
    },
    {
      "cell_type": "markdown",
      "source": [
        "## IF"
      ],
      "metadata": {
        "id": "36ZZVO-6L983"
      }
    },
    {
      "cell_type": "markdown",
      "source": [
        "| Operação | Resultado                                      |\n",
        "| -------- | ---------------------------------------------- |\n",
        "| x or y   | se x é falso, então y, do contrário x          |\n",
        "| x and y  | se x é falso, então x, do contrário y          |\n",
        "| not x    | se x é falso, então True, caso contrário False |"
      ],
      "metadata": {
        "id": "QJHuBOuoOSQr"
      }
    },
    {
      "cell_type": "code",
      "source": [
        "x = int(input(\"Entre com um número inteiro \"))\n",
        "\n",
        "if x < 0:\n",
        "  print('Negativo')"
      ],
      "metadata": {
        "colab": {
          "base_uri": "https://localhost:8080/"
        },
        "id": "wbVAxQ6YNFOs",
        "outputId": "58579559-a6e2-4f92-eb76-7c9b319fc13b"
      },
      "execution_count": null,
      "outputs": [
        {
          "output_type": "stream",
          "name": "stdout",
          "text": [
            "Entre com um número inteiro -1\n",
            "Negativo\n"
          ]
        }
      ]
    },
    {
      "cell_type": "code",
      "source": [
        "x = int(input(\"Entre com um número inteiro \"))\n",
        "\n",
        "if x < 0:\n",
        "    print('Negativo')\n",
        "else:\n",
        "    print('Zero ou Positivo')"
      ],
      "metadata": {
        "colab": {
          "base_uri": "https://localhost:8080/"
        },
        "id": "zkJ30p3NNQZW",
        "outputId": "d1c35f66-f0c1-4661-a640-1cd37155f93b"
      },
      "execution_count": null,
      "outputs": [
        {
          "output_type": "stream",
          "name": "stdout",
          "text": [
            "Entre com um número inteiro 0\n",
            "Negativo\n"
          ]
        }
      ]
    },
    {
      "cell_type": "code",
      "source": [
        "x = int(input(\"Entre com um número inteiro \"))\n",
        "\n",
        "if x < 0:\n",
        "    x = 0\n",
        "    print('Valor negativo convertido para zero')\n",
        "elif x == 0:\n",
        "    print('Zero')\n",
        "else:\n",
        "    print('Positivo')"
      ],
      "metadata": {
        "colab": {
          "base_uri": "https://localhost:8080/"
        },
        "id": "Jgls65ZuL8ra",
        "outputId": "c9bbb214-d8a6-4744-a768-d6b6c92dc2b2"
      },
      "execution_count": null,
      "outputs": [
        {
          "output_type": "stream",
          "name": "stdout",
          "text": [
            "Entre com um número inteiro 1\n",
            "Positivo\n"
          ]
        }
      ]
    },
    {
      "cell_type": "code",
      "source": [
        "x = int(input(\"Entre com um número inteiro \"))\n",
        "\n",
        "if x < 0:\n",
        "    x = 0\n",
        "    print('Valor negativo convertido para zero')\n",
        "elif x == 0:\n",
        "    print('Zero')\n",
        "elif x >= 10 and x <= 20:\n",
        "  print('Positivo entre 10 e 20')\n",
        "else:\n",
        "    print('Positivo')"
      ],
      "metadata": {
        "colab": {
          "base_uri": "https://localhost:8080/"
        },
        "id": "YUMMCp1LMDkN",
        "outputId": "5600b970-5e3a-4455-ad26-92eaacfb9669"
      },
      "execution_count": null,
      "outputs": [
        {
          "output_type": "stream",
          "name": "stdout",
          "text": [
            "Entre com um número inteiro 21\n",
            "Positivo\n"
          ]
        }
      ]
    },
    {
      "cell_type": "markdown",
      "source": [
        "## Estruturas de Repetição"
      ],
      "metadata": {
        "id": "VnIAKBJXPXy1"
      }
    },
    {
      "cell_type": "markdown",
      "source": [
        "![image.png](data:image/png;base64,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)"
      ],
      "metadata": {
        "id": "DTmoHBWtU225"
      }
    },
    {
      "cell_type": "markdown",
      "source": [
        "### FOR"
      ],
      "metadata": {
        "id": "SfmT-QRCPUda"
      }
    },
    {
      "cell_type": "markdown",
      "source": [
        "Programa para imprimir 5 números sequenciais"
      ],
      "metadata": {
        "id": "KAN3iaX5PnHO"
      }
    },
    {
      "cell_type": "code",
      "source": [
        "print(0)\n",
        "print(1)\n",
        "print(2)\n",
        "print(3)\n",
        "print(4)\n",
        "print(5)\n"
      ],
      "metadata": {
        "colab": {
          "base_uri": "https://localhost:8080/"
        },
        "id": "99b1oEa0PCsN",
        "outputId": "23b08a1a-6335-4c89-8601-59a43e502b7e"
      },
      "execution_count": null,
      "outputs": [
        {
          "output_type": "stream",
          "name": "stdout",
          "text": [
            "0\n",
            "1\n",
            "2\n",
            "3\n",
            "4\n",
            "5\n"
          ]
        }
      ]
    },
    {
      "cell_type": "markdown",
      "source": [
        "De maneira mais prática, se você precisar iterar sobre sequências numéricas, a função embutida range() é a resposta. Ela gera progressões aritméticas:"
      ],
      "metadata": {
        "id": "AhIUJFSsQmWJ"
      }
    },
    {
      "cell_type": "code",
      "source": [
        "for i in range(5):\n",
        "  print(i)"
      ],
      "metadata": {
        "colab": {
          "base_uri": "https://localhost:8080/"
        },
        "id": "PIixyB_eQo--",
        "outputId": "a701511c-93a8-41e2-b508-1376b8b96c65"
      },
      "execution_count": null,
      "outputs": [
        {
          "output_type": "stream",
          "name": "stdout",
          "text": [
            "0\n",
            "1\n",
            "2\n",
            "3\n",
            "4\n"
          ]
        }
      ]
    },
    {
      "cell_type": "code",
      "source": [
        "soma = 0\n",
        "\n",
        "for i in range(5):\n",
        "    soma = soma + i\n",
        "\n",
        "print(f\"soma: {soma}\")"
      ],
      "metadata": {
        "colab": {
          "base_uri": "https://localhost:8080/"
        },
        "id": "el5VDszMQbCn",
        "outputId": "aad7f7f5-c593-4db9-ae4a-fbd201732147"
      },
      "execution_count": null,
      "outputs": [
        {
          "output_type": "stream",
          "name": "stdout",
          "text": [
            "soma: 10\n"
          ]
        }
      ]
    },
    {
      "cell_type": "markdown",
      "source": [
        "O comando for do Python itera sobre os itens de qualquer sequência (seja uma lista ou uma string), na ordem que aparecem na sequência"
      ],
      "metadata": {
        "id": "Dirx_SuYQIOq"
      }
    },
    {
      "cell_type": "code",
      "source": [
        "lista_num = list(range(5))\n",
        "lista_num"
      ],
      "metadata": {
        "colab": {
          "base_uri": "https://localhost:8080/"
        },
        "id": "oMujj3ELRdtR",
        "outputId": "e00fba3a-5aaa-445c-9f95-158075d7791a"
      },
      "execution_count": null,
      "outputs": [
        {
          "output_type": "execute_result",
          "data": {
            "text/plain": [
              "[0, 1, 2, 3, 4]"
            ]
          },
          "metadata": {},
          "execution_count": 28
        }
      ]
    },
    {
      "cell_type": "markdown",
      "source": [
        "**observação**"
      ],
      "metadata": {
        "id": "gpFdNpS0R_LU"
      }
    },
    {
      "cell_type": "code",
      "source": [
        "sum(lista_num)"
      ],
      "metadata": {
        "colab": {
          "base_uri": "https://localhost:8080/"
        },
        "id": "ZKOixAp3RjnI",
        "outputId": "fda3dd7d-551d-4393-d302-793af4eabd32"
      },
      "execution_count": null,
      "outputs": [
        {
          "output_type": "execute_result",
          "data": {
            "text/plain": [
              "10"
            ]
          },
          "metadata": {},
          "execution_count": 30
        }
      ]
    },
    {
      "cell_type": "code",
      "source": [
        "palavras = ['Apac', 'Agência', 'Pernambucana', 'Águas', 'Clima']\n",
        "for p in palavras:\n",
        "    print(f'{p}: {len(p)} letras')"
      ],
      "metadata": {
        "colab": {
          "base_uri": "https://localhost:8080/"
        },
        "id": "nkcCeMaRSBdX",
        "outputId": "7cdda0f8-027b-45b6-f846-50ea4258a593"
      },
      "execution_count": null,
      "outputs": [
        {
          "output_type": "stream",
          "name": "stdout",
          "text": [
            "Apac: 4 letras\n",
            "Agência: 7 letras\n",
            "Pernambucana: 12 letras\n",
            "Águas: 5 letras\n",
            "Clima: 5 letras\n"
          ]
        }
      ]
    },
    {
      "cell_type": "code",
      "source": [
        "alunos = (\"Vinícius\", \"Thiago\", \"Roni\", \"hailton\", \"Victor\", \"Alessandro\") # tupla\n",
        "notas = {} # dicionário\n",
        "\n",
        "for aluno in alunos:\n",
        "\tnota1 = int(input(f\"Qual a nota 1 do(a) {aluno}: \"))\n",
        "\tnota2 = int(input(f\"Qual a nota 2 do(a) {aluno}: \"))\n",
        "\tmedia = (nota1 + nota2) / 2\n",
        "\taprovado = \"Não\" if media < 6 else \"Sim\"\n",
        "\tnotas[aluno] = {\"n1\": nota1, \"n2\": nota2, \"media\": media, \"aprovado\": aprovado}\n",
        "\n",
        "print(notas)"
      ],
      "metadata": {
        "colab": {
          "base_uri": "https://localhost:8080/"
        },
        "id": "1PfaVNXM72bm",
        "outputId": "f18d9d92-e0bf-41b6-f5ec-fda4ff90351a"
      },
      "execution_count": null,
      "outputs": [
        {
          "output_type": "stream",
          "name": "stdout",
          "text": [
            "Qual a nota 1 do(a) Felipe: 10\n",
            "Qual a nota 2 do(a) Felipe: 53\n",
            "Qual a nota 1 do(a) Renata: 12\n",
            "Qual a nota 2 do(a) Renata: 5\n",
            "Qual a nota 1 do(a) Guga: 0\n",
            "Qual a nota 2 do(a) Guga: 9\n",
            "Qual a nota 1 do(a) Thais: 4\n",
            "Qual a nota 2 do(a) Thais: 56\n",
            "Qual a nota 1 do(a) Victor: 55\n",
            "Qual a nota 2 do(a) Victor: 5\n",
            "Qual a nota 1 do(a) Max: 10\n",
            "Qual a nota 2 do(a) Max: 4\n",
            "{'Felipe': {'n1': 10, 'n2': 53, 'media': 31.5, 'aprovado': 'Sim'}, 'Renata': {'n1': 12, 'n2': 5, 'media': 8.5, 'aprovado': 'Sim'}, 'Guga': {'n1': 0, 'n2': 9, 'media': 4.5, 'aprovado': 'Não'}, 'Thais': {'n1': 4, 'n2': 56, 'media': 30.0, 'aprovado': 'Sim'}, 'Victor': {'n1': 55, 'n2': 5, 'media': 30.0, 'aprovado': 'Sim'}, 'Max': {'n1': 10, 'n2': 4, 'media': 7.0, 'aprovado': 'Sim'}}\n"
          ]
        }
      ]
    },
    {
      "cell_type": "markdown",
      "source": [
        "#### Enumerate"
      ],
      "metadata": {
        "id": "AcOF7zTMnFWp"
      }
    },
    {
      "cell_type": "code",
      "source": [
        "for i, palavra in enumerate(palavras):\n",
        "  print(f'{palavra} na posição {i}')"
      ],
      "metadata": {
        "colab": {
          "base_uri": "https://localhost:8080/"
        },
        "id": "MuRXL6f1SJUf",
        "outputId": "916fb43e-7920-48b7-dabb-29339bb83790"
      },
      "execution_count": null,
      "outputs": [
        {
          "output_type": "stream",
          "name": "stdout",
          "text": [
            "Apac na posição 0\n",
            "Agência na posição 1\n",
            "Pernambucana na posição 2\n",
            "Águas na posição 3\n",
            "Clima na posição 4\n"
          ]
        }
      ]
    },
    {
      "cell_type": "markdown",
      "source": [
        "### While"
      ],
      "metadata": {
        "id": "i7aYEvUUS_Kw"
      }
    },
    {
      "cell_type": "code",
      "source": [
        "i = int(input(\"Insira o valor inicial de i (menor ou igual a 5): \")) # Para comparação com o exemplo for utilize 0\n",
        "soma = 0\n",
        "\n",
        "while i < 5:\n",
        "    soma = soma + i\n",
        "    i = i + 1\n",
        "\n",
        "print(f'Último valor de i: {i}. Soma Final: {soma}')\n"
      ],
      "metadata": {
        "colab": {
          "base_uri": "https://localhost:8080/"
        },
        "id": "kv_yfFN2TAjv",
        "outputId": "7687aa4d-5695-45d8-a517-7138d686a05e"
      },
      "execution_count": null,
      "outputs": [
        {
          "output_type": "stream",
          "name": "stdout",
          "text": [
            "Insira o valor inicial de i (menor ou igual a 5): 0\n",
            "Último valor de i: 5. Soma Final: 10\n"
          ]
        }
      ]
    },
    {
      "cell_type": "markdown",
      "source": [
        "# Funções"
      ],
      "metadata": {
        "id": "MHwUp8sOVaUA"
      }
    },
    {
      "cell_type": "code",
      "source": [
        "def fatorial(num):\n",
        "\n",
        "    if (num < 0) or (type(num) != int):\n",
        "        raise ValueError(\"Apenas números positivos são aceitos\")\n",
        "\n",
        "    produto = 1\n",
        "\n",
        "    while(num > 0):\n",
        "        produto = produto * num\n",
        "\n",
        "        num = num - 1\n",
        "\n",
        "    return produto"
      ],
      "metadata": {
        "id": "tsvMgtc1VchH"
      },
      "execution_count": null,
      "outputs": []
    },
    {
      "cell_type": "code",
      "source": [
        "fatorial(3)"
      ],
      "metadata": {
        "colab": {
          "base_uri": "https://localhost:8080/"
        },
        "id": "H9i1Ogvua5Ww",
        "outputId": "6669ac2d-83e7-4de1-a21d-2a212a94f41c"
      },
      "execution_count": null,
      "outputs": [
        {
          "output_type": "execute_result",
          "data": {
            "text/plain": [
              "6"
            ]
          },
          "metadata": {},
          "execution_count": 82
        }
      ]
    },
    {
      "cell_type": "code",
      "source": [
        "fatorial(-5)"
      ],
      "metadata": {
        "colab": {
          "base_uri": "https://localhost:8080/",
          "height": 287
        },
        "id": "rKJNpNSGaEoq",
        "outputId": "84f80f78-07dc-4a1f-f28c-cd876af36148"
      },
      "execution_count": null,
      "outputs": [
        {
          "output_type": "error",
          "ename": "ValueError",
          "evalue": "ignored",
          "traceback": [
            "\u001b[0;31m---------------------------------------------------------------------------\u001b[0m",
            "\u001b[0;31mValueError\u001b[0m                                Traceback (most recent call last)",
            "\u001b[0;32m<ipython-input-83-3a473d4b66d2>\u001b[0m in \u001b[0;36m<module>\u001b[0;34m\u001b[0m\n\u001b[0;32m----> 1\u001b[0;31m \u001b[0mfatorial\u001b[0m\u001b[0;34m(\u001b[0m\u001b[0;34m-\u001b[0m\u001b[0;36m5\u001b[0m\u001b[0;34m)\u001b[0m\u001b[0;34m\u001b[0m\u001b[0;34m\u001b[0m\u001b[0m\n\u001b[0m",
            "\u001b[0;32m<ipython-input-81-d51e6626c95e>\u001b[0m in \u001b[0;36mfatorial\u001b[0;34m(num)\u001b[0m\n\u001b[1;32m      2\u001b[0m \u001b[0;34m\u001b[0m\u001b[0m\n\u001b[1;32m      3\u001b[0m     \u001b[0;32mif\u001b[0m \u001b[0;34m(\u001b[0m\u001b[0mnum\u001b[0m \u001b[0;34m<\u001b[0m \u001b[0;36m0\u001b[0m\u001b[0;34m)\u001b[0m \u001b[0;32mor\u001b[0m \u001b[0;34m(\u001b[0m\u001b[0mtype\u001b[0m\u001b[0;34m(\u001b[0m\u001b[0mnum\u001b[0m\u001b[0;34m)\u001b[0m \u001b[0;34m!=\u001b[0m \u001b[0mint\u001b[0m\u001b[0;34m)\u001b[0m\u001b[0;34m:\u001b[0m\u001b[0;34m\u001b[0m\u001b[0;34m\u001b[0m\u001b[0m\n\u001b[0;32m----> 4\u001b[0;31m         \u001b[0;32mraise\u001b[0m \u001b[0mValueError\u001b[0m\u001b[0;34m(\u001b[0m\u001b[0;34m\"Apenas números positivos são aceitos\"\u001b[0m\u001b[0;34m)\u001b[0m\u001b[0;34m\u001b[0m\u001b[0;34m\u001b[0m\u001b[0m\n\u001b[0m\u001b[1;32m      5\u001b[0m \u001b[0;34m\u001b[0m\u001b[0m\n\u001b[1;32m      6\u001b[0m     \u001b[0mproduto\u001b[0m \u001b[0;34m=\u001b[0m \u001b[0;36m1\u001b[0m\u001b[0;34m\u001b[0m\u001b[0;34m\u001b[0m\u001b[0m\n",
            "\u001b[0;31mValueError\u001b[0m: Apenas números positivos são aceitos"
          ]
        }
      ]
    },
    {
      "cell_type": "markdown",
      "source": [
        "### Argumentos padrões e nomeados"
      ],
      "metadata": {
        "id": "_ePjshVMb7wO"
      }
    },
    {
      "cell_type": "code",
      "source": [
        "def fatorial(num=5):\n",
        "\n",
        "    if (num < 0) or (type(num) != int):\n",
        "        raise ValueError(\"Apenas números positivos são aceitos\")\n",
        "\n",
        "    produto = 1\n",
        "\n",
        "    while(num > 0):\n",
        "        produto = produto * num\n",
        "\n",
        "        num = num - 1\n",
        "\n",
        "    return produto"
      ],
      "metadata": {
        "id": "kI4lNk0HaGnp"
      },
      "execution_count": null,
      "outputs": []
    },
    {
      "cell_type": "code",
      "source": [
        "fatorial()"
      ],
      "metadata": {
        "colab": {
          "base_uri": "https://localhost:8080/"
        },
        "id": "Fpubk9U3cCs_",
        "outputId": "478e3497-5bde-4099-ce96-be07ae19bf41"
      },
      "execution_count": null,
      "outputs": [
        {
          "output_type": "execute_result",
          "data": {
            "text/plain": [
              "120"
            ]
          },
          "metadata": {},
          "execution_count": 85
        }
      ]
    },
    {
      "cell_type": "code",
      "source": [
        "fatorial(5)"
      ],
      "metadata": {
        "colab": {
          "base_uri": "https://localhost:8080/"
        },
        "id": "mnFZc3PVcD1X",
        "outputId": "b1cdbd5c-7e90-4646-8e51-a782e5f83c80"
      },
      "execution_count": null,
      "outputs": [
        {
          "output_type": "execute_result",
          "data": {
            "text/plain": [
              "120"
            ]
          },
          "metadata": {},
          "execution_count": 86
        }
      ]
    },
    {
      "cell_type": "code",
      "source": [
        "fatorial(num=5)"
      ],
      "metadata": {
        "colab": {
          "base_uri": "https://localhost:8080/"
        },
        "id": "xikncMUacJ-I",
        "outputId": "4541874c-0e9b-4f3d-838e-bbfe02fce136"
      },
      "execution_count": null,
      "outputs": [
        {
          "output_type": "execute_result",
          "data": {
            "text/plain": [
              "120"
            ]
          },
          "metadata": {},
          "execution_count": 87
        }
      ]
    },
    {
      "cell_type": "code",
      "source": [
        "def Graus_to_radianos(a, pi=3.14159265359):\n",
        "    x = a * pi / 180.0\n",
        "\n",
        "    return x"
      ],
      "metadata": {
        "id": "wzXkpy7zcMgV"
      },
      "execution_count": null,
      "outputs": []
    },
    {
      "cell_type": "code",
      "source": [
        "Graus_to_radianos(45)"
      ],
      "metadata": {
        "colab": {
          "base_uri": "https://localhost:8080/"
        },
        "id": "Ql7glXrVdBmI",
        "outputId": "ea9527c0-0e5b-456f-86fc-d54176275a4b"
      },
      "execution_count": null,
      "outputs": [
        {
          "output_type": "execute_result",
          "data": {
            "text/plain": [
              "0.7853981633975001"
            ]
          },
          "metadata": {},
          "execution_count": 89
        }
      ]
    },
    {
      "cell_type": "code",
      "source": [
        "Graus_to_radianos(45, 3.14)"
      ],
      "metadata": {
        "colab": {
          "base_uri": "https://localhost:8080/"
        },
        "id": "12Jxv-aRdD5m",
        "outputId": "c5dd401d-7663-46da-f35b-778edf1f6419"
      },
      "execution_count": null,
      "outputs": [
        {
          "output_type": "execute_result",
          "data": {
            "text/plain": [
              "0.785"
            ]
          },
          "metadata": {},
          "execution_count": 90
        }
      ]
    },
    {
      "cell_type": "markdown",
      "source": [
        "### Escopo"
      ],
      "metadata": {
        "id": "4AjASh0diwAX"
      }
    },
    {
      "cell_type": "code",
      "source": [
        "pi = 3.14\n",
        "e = 2.71\n",
        "\n",
        "def f1(v1):\n",
        "    print(\"v1 no escopo local de f1:\", v1)\n",
        "\n",
        "    print(\"pi no escopo local de f1:\", pi)\n",
        "\n",
        "    e = 3\n",
        "\n",
        "    print(\"e no escopo local de f1:\", e)\n",
        "\n",
        "\n",
        "f1(pi)\n",
        "print(\"e no escopo global:\", e)\n",
        "\n",
        "# print(\"v1 no escopo global:\", v1)"
      ],
      "metadata": {
        "colab": {
          "base_uri": "https://localhost:8080/"
        },
        "id": "3GuluQl5iuo7",
        "outputId": "7fb213fb-f881-47f8-8e26-1c8ce07516be"
      },
      "execution_count": null,
      "outputs": [
        {
          "output_type": "stream",
          "name": "stdout",
          "text": [
            "v1 no escopo local de f1: 3.14\n",
            "pi no escopo local de f1: 3.14\n",
            "e no escopo local de f1: 3\n",
            "e no escopo global: 2.71\n"
          ]
        }
      ]
    },
    {
      "cell_type": "markdown",
      "source": [
        "### Parâmetros *args e **kwargs"
      ],
      "metadata": {
        "id": "brF81IXQeX7p"
      }
    },
    {
      "cell_type": "code",
      "source": [
        "def concat(*args, sep=\"/\"):\n",
        "    return sep.join(args)"
      ],
      "metadata": {
        "id": "UPsheQPreBi_"
      },
      "execution_count": null,
      "outputs": []
    },
    {
      "cell_type": "code",
      "source": [
        "concat(\"Terra\", \"Marte\", \"Venus\")"
      ],
      "metadata": {
        "colab": {
          "base_uri": "https://localhost:8080/",
          "height": 35
        },
        "id": "NW2nikjzeivE",
        "outputId": "3a9fb6d6-d8ad-4375-9692-5a9ff91850d8"
      },
      "execution_count": null,
      "outputs": [
        {
          "output_type": "execute_result",
          "data": {
            "text/plain": [
              "'Terra/Marte/Venus'"
            ],
            "application/vnd.google.colaboratory.intrinsic+json": {
              "type": "string"
            }
          },
          "metadata": {},
          "execution_count": 92
        }
      ]
    },
    {
      "cell_type": "code",
      "source": [
        "planetas = [\"Terra\", \"Marte\", \"Venus\"]\n"
      ],
      "metadata": {
        "id": "ZqgF1y_Aeku6"
      },
      "execution_count": null,
      "outputs": []
    },
    {
      "cell_type": "code",
      "source": [
        "concat(planetas)"
      ],
      "metadata": {
        "colab": {
          "base_uri": "https://localhost:8080/",
          "height": 235
        },
        "id": "AyhECKY4e1tB",
        "outputId": "db2ac295-c6dd-4165-aaf8-0e9257dde390"
      },
      "execution_count": null,
      "outputs": [
        {
          "output_type": "error",
          "ename": "TypeError",
          "evalue": "ignored",
          "traceback": [
            "\u001b[0;31m---------------------------------------------------------------------------\u001b[0m",
            "\u001b[0;31mTypeError\u001b[0m                                 Traceback (most recent call last)",
            "\u001b[0;32m<ipython-input-94-f47e3a6cbc76>\u001b[0m in \u001b[0;36m<module>\u001b[0;34m\u001b[0m\n\u001b[0;32m----> 1\u001b[0;31m \u001b[0mconcat\u001b[0m\u001b[0;34m(\u001b[0m\u001b[0mplanetas\u001b[0m\u001b[0;34m)\u001b[0m\u001b[0;34m\u001b[0m\u001b[0;34m\u001b[0m\u001b[0m\n\u001b[0m",
            "\u001b[0;32m<ipython-input-91-9af82bf954d4>\u001b[0m in \u001b[0;36mconcat\u001b[0;34m(sep, *args)\u001b[0m\n\u001b[1;32m      1\u001b[0m \u001b[0;32mdef\u001b[0m \u001b[0mconcat\u001b[0m\u001b[0;34m(\u001b[0m\u001b[0;34m*\u001b[0m\u001b[0margs\u001b[0m\u001b[0;34m,\u001b[0m \u001b[0msep\u001b[0m\u001b[0;34m=\u001b[0m\u001b[0;34m\"/\"\u001b[0m\u001b[0;34m)\u001b[0m\u001b[0;34m:\u001b[0m\u001b[0;34m\u001b[0m\u001b[0;34m\u001b[0m\u001b[0m\n\u001b[0;32m----> 2\u001b[0;31m     \u001b[0;32mreturn\u001b[0m \u001b[0msep\u001b[0m\u001b[0;34m.\u001b[0m\u001b[0mjoin\u001b[0m\u001b[0;34m(\u001b[0m\u001b[0margs\u001b[0m\u001b[0;34m)\u001b[0m\u001b[0;34m\u001b[0m\u001b[0;34m\u001b[0m\u001b[0m\n\u001b[0m",
            "\u001b[0;31mTypeError\u001b[0m: sequence item 0: expected str instance, list found"
          ]
        }
      ]
    },
    {
      "cell_type": "markdown",
      "source": [
        "Neste caso lembrem de desempacotar os argumentos da lista!!"
      ],
      "metadata": {
        "id": "ZohthlKMfCft"
      }
    },
    {
      "cell_type": "code",
      "source": [
        "concat(*planetas)"
      ],
      "metadata": {
        "colab": {
          "base_uri": "https://localhost:8080/",
          "height": 35
        },
        "id": "_DWNLNlYfBJP",
        "outputId": "f57a468d-0e53-4ad8-80e7-5e78f5884dd2"
      },
      "execution_count": null,
      "outputs": [
        {
          "output_type": "execute_result",
          "data": {
            "text/plain": [
              "'Terra/Marte/Venus'"
            ],
            "application/vnd.google.colaboratory.intrinsic+json": {
              "type": "string"
            }
          },
          "metadata": {},
          "execution_count": 95
        }
      ]
    },
    {
      "cell_type": "code",
      "source": [
        "def imprimir_kwargs(**kwargs):\n",
        "\n",
        "    for k, v in kwargs.items():\n",
        "        print(f\"key: {k}, value:{v}\")"
      ],
      "metadata": {
        "id": "61EsD64YfLP-"
      },
      "execution_count": null,
      "outputs": []
    },
    {
      "cell_type": "code",
      "source": [
        "imprimir_kwargs(estado=\"PE\", latitude=-8.37, longitude=-36.5 )"
      ],
      "metadata": {
        "colab": {
          "base_uri": "https://localhost:8080/"
        },
        "id": "R-sryklsfxGC",
        "outputId": "0e5e859c-7933-48ee-95c9-d40672e208d9"
      },
      "execution_count": null,
      "outputs": [
        {
          "output_type": "stream",
          "name": "stdout",
          "text": [
            "key: estado, value:PE\n",
            "key: latitude, value:-8.37\n",
            "key: longitude, value:-36.5\n"
          ]
        }
      ]
    },
    {
      "cell_type": "markdown",
      "source": [
        "### Strings de documentação\n",
        "\n",
        "[Referência](https://docs.python.org/pt-br/3.7/tutorial/controlflow.html#documentation-strings)"
      ],
      "metadata": {
        "id": "Bz70Md6Pg50n"
      }
    },
    {
      "cell_type": "code",
      "source": [
        "def my_function():\n",
        "    \"\"\"Do nothing, but document it.\n",
        "\n",
        "    No, really, it doesn't do anything.\n",
        "    \"\"\"\n",
        "    pass"
      ],
      "metadata": {
        "id": "JD7663Hefxld"
      },
      "execution_count": null,
      "outputs": []
    },
    {
      "cell_type": "code",
      "source": [
        "my_function()"
      ],
      "metadata": {
        "id": "43hfC_sQhG2j"
      },
      "execution_count": null,
      "outputs": []
    },
    {
      "cell_type": "code",
      "source": [
        "print(my_function.__doc__)"
      ],
      "metadata": {
        "colab": {
          "base_uri": "https://localhost:8080/"
        },
        "id": "pRP7--f_haAJ",
        "outputId": "c1110652-8d70-45af-ceef-c73fbbf85c20"
      },
      "execution_count": null,
      "outputs": [
        {
          "output_type": "stream",
          "name": "stdout",
          "text": [
            "Do nothing, but document it.\n",
            "\n",
            "    No, really, it doesn't do anything.\n",
            "    \n"
          ]
        }
      ]
    },
    {
      "cell_type": "code",
      "source": [],
      "metadata": {
        "id": "7i6BL4HrhbFg"
      },
      "execution_count": null,
      "outputs": []
    }
  ]
}