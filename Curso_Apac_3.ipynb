{
  "nbformat": 4,
  "nbformat_minor": 0,
  "metadata": {
    "colab": {
      "provenance": [],
      "toc_visible": true,
      "include_colab_link": true
    },
    "kernelspec": {
      "name": "python3",
      "display_name": "Python 3"
    },
    "language_info": {
      "name": "python"
    }
  },
  "cells": [
    {
      "cell_type": "markdown",
      "metadata": {
        "id": "view-in-github",
        "colab_type": "text"
      },
      "source": [
        "<a href=\"https://colab.research.google.com/github/viniciusgcjr/curso-python/blob/main/Curso_Apac_3.ipynb\" target=\"_parent\"><img src=\"https://colab.research.google.com/assets/colab-badge.svg\" alt=\"Open In Colab\"/></a>"
      ]
    },
    {
      "cell_type": "markdown",
      "source": [
        "# Métodos de String\n",
        "\n",
        "[Referência](https://docs.python.org/pt-br/3.7/library/string.html)"
      ],
      "metadata": {
        "id": "Ky-hUDMeyaar"
      }
    },
    {
      "cell_type": "code",
      "source": [
        "'   vinicius   '.lstrip()"
      ],
      "metadata": {
        "colab": {
          "base_uri": "https://localhost:8080/",
          "height": 35
        },
        "id": "JVWha4j9pQwq",
        "outputId": "8b123012-beb2-4d47-a35e-ec7a4a9fe2c5"
      },
      "execution_count": null,
      "outputs": [
        {
          "output_type": "execute_result",
          "data": {
            "text/plain": [
              "'vinicius   '"
            ],
            "application/vnd.google.colaboratory.intrinsic+json": {
              "type": "string"
            }
          },
          "metadata": {},
          "execution_count": 2
        }
      ]
    },
    {
      "cell_type": "code",
      "source": [
        "'   vinicius   '.rstrip()"
      ],
      "metadata": {
        "colab": {
          "base_uri": "https://localhost:8080/",
          "height": 35
        },
        "id": "ltCEnf_KpXob",
        "outputId": "62d10fce-ca34-47a1-c012-b11c89e0d79d"
      },
      "execution_count": null,
      "outputs": [
        {
          "output_type": "execute_result",
          "data": {
            "text/plain": [
              "'   vinicius'"
            ],
            "application/vnd.google.colaboratory.intrinsic+json": {
              "type": "string"
            }
          },
          "metadata": {},
          "execution_count": 3
        }
      ]
    },
    {
      "cell_type": "code",
      "source": [
        "'VINICIUS'.lower()"
      ],
      "metadata": {
        "colab": {
          "base_uri": "https://localhost:8080/",
          "height": 35
        },
        "id": "h8Gs7zi3pdeZ",
        "outputId": "8fa5eea4-aefa-4e01-e322-1c87ab5d5fd1"
      },
      "execution_count": null,
      "outputs": [
        {
          "output_type": "execute_result",
          "data": {
            "text/plain": [
              "'vinicius'"
            ],
            "application/vnd.google.colaboratory.intrinsic+json": {
              "type": "string"
            }
          },
          "metadata": {},
          "execution_count": 4
        }
      ]
    },
    {
      "cell_type": "code",
      "source": [
        "'BaseTestCase'.replace('Test', 'Gome')"
      ],
      "metadata": {
        "colab": {
          "base_uri": "https://localhost:8080/",
          "height": 35
        },
        "id": "RzapV9Fppm7B",
        "outputId": "07a02cab-040b-4a3b-f095-11882944d318"
      },
      "execution_count": null,
      "outputs": [
        {
          "output_type": "execute_result",
          "data": {
            "text/plain": [
              "'BaseGomeCase'"
            ],
            "application/vnd.google.colaboratory.intrinsic+json": {
              "type": "string"
            }
          },
          "metadata": {},
          "execution_count": 5
        }
      ]
    },
    {
      "cell_type": "code",
      "source": [
        "'Base-Test-Case'.rsplit(sep='-')"
      ],
      "metadata": {
        "colab": {
          "base_uri": "https://localhost:8080/"
        },
        "id": "dLtjO1qspoTB",
        "outputId": "0e528e9f-1f97-4a89-b41f-f9a03a324eca"
      },
      "execution_count": null,
      "outputs": [
        {
          "output_type": "execute_result",
          "data": {
            "text/plain": [
              "['Base', 'Test', 'Case']"
            ]
          },
          "metadata": {},
          "execution_count": 6
        }
      ]
    },
    {
      "cell_type": "code",
      "source": [
        "'1,2,3'.split(',')\n",
        "\n"
      ],
      "metadata": {
        "colab": {
          "base_uri": "https://localhost:8080/"
        },
        "id": "YebOjAgbp5Kz",
        "outputId": "9dbc38e8-e6c7-4818-ac10-d729d5e947fb"
      },
      "execution_count": null,
      "outputs": [
        {
          "output_type": "execute_result",
          "data": {
            "text/plain": [
              "['1', '2', '3']"
            ]
          },
          "metadata": {},
          "execution_count": 7
        }
      ]
    },
    {
      "cell_type": "code",
      "source": [
        "'1,2,3'.split(',', maxsplit=1)\n"
      ],
      "metadata": {
        "colab": {
          "base_uri": "https://localhost:8080/"
        },
        "id": "gQIve3mwqAjv",
        "outputId": "3c88be76-b77d-40a9-ba50-73901886dc1a"
      },
      "execution_count": null,
      "outputs": [
        {
          "output_type": "execute_result",
          "data": {
            "text/plain": [
              "['1', '2,3']"
            ]
          },
          "metadata": {},
          "execution_count": 8
        }
      ]
    },
    {
      "cell_type": "code",
      "source": [
        "\n",
        "'1,2,,3,'.split(',')"
      ],
      "metadata": {
        "colab": {
          "base_uri": "https://localhost:8080/"
        },
        "id": "rzQnmFkWqXat",
        "outputId": "e89b8f9f-46cb-48ad-a338-5a68c740699f"
      },
      "execution_count": null,
      "outputs": [
        {
          "output_type": "execute_result",
          "data": {
            "text/plain": [
              "['1', '2', '', '3', '']"
            ]
          },
          "metadata": {},
          "execution_count": 9
        }
      ]
    },
    {
      "cell_type": "code",
      "source": [
        "'1 2 3'.split()"
      ],
      "metadata": {
        "colab": {
          "base_uri": "https://localhost:8080/"
        },
        "id": "6BOXBJ5QqZqW",
        "outputId": "fbf71d82-8531-490f-98dd-8d52de878881"
      },
      "execution_count": null,
      "outputs": [
        {
          "output_type": "execute_result",
          "data": {
            "text/plain": [
              "['1', '2', '3']"
            ]
          },
          "metadata": {},
          "execution_count": 10
        }
      ]
    },
    {
      "cell_type": "code",
      "source": [
        "'1 2 3'.split(maxsplit=1)"
      ],
      "metadata": {
        "colab": {
          "base_uri": "https://localhost:8080/"
        },
        "id": "lJvjLusgqaBm",
        "outputId": "5533126a-d6cb-48af-a720-f49654f5aa38"
      },
      "execution_count": null,
      "outputs": [
        {
          "output_type": "execute_result",
          "data": {
            "text/plain": [
              "['1', '2 3']"
            ]
          },
          "metadata": {},
          "execution_count": 11
        }
      ]
    },
    {
      "cell_type": "code",
      "source": [
        "'   1   2   3   '.split()"
      ],
      "metadata": {
        "colab": {
          "base_uri": "https://localhost:8080/"
        },
        "id": "mdeutaFfqbaF",
        "outputId": "5552e4ee-0cba-4334-b3da-82f5918d2841"
      },
      "execution_count": null,
      "outputs": [
        {
          "output_type": "execute_result",
          "data": {
            "text/plain": [
              "['1', '2', '3']"
            ]
          },
          "metadata": {},
          "execution_count": 12
        }
      ]
    },
    {
      "cell_type": "code",
      "source": [
        "'https://docs.python.org/pt-br/3.7/library/stdtypes.html'.split(sep='/')"
      ],
      "metadata": {
        "colab": {
          "base_uri": "https://localhost:8080/"
        },
        "id": "zRkR0bTfcy1G",
        "outputId": "2e42a53c-a478-4ae3-b9ab-492fec7c9ffd"
      },
      "execution_count": null,
      "outputs": [
        {
          "output_type": "execute_result",
          "data": {
            "text/plain": [
              "['https:', '', 'docs.python.org', 'pt-br', '3.7', 'library', 'stdtypes.html']"
            ]
          },
          "metadata": {},
          "execution_count": 13
        }
      ]
    },
    {
      "cell_type": "code",
      "source": [
        "'Vinicius'.startswith('Vin')"
      ],
      "metadata": {
        "colab": {
          "base_uri": "https://localhost:8080/"
        },
        "id": "m14tz7hhqlPN",
        "outputId": "7afa57e5-b835-4ef8-aad7-51b9069ea3b6"
      },
      "execution_count": null,
      "outputs": [
        {
          "output_type": "execute_result",
          "data": {
            "text/plain": [
              "True"
            ]
          },
          "metadata": {},
          "execution_count": 14
        }
      ]
    },
    {
      "cell_type": "code",
      "source": [
        "'Vinicius'.startswith('Vin', 1, 5) #não tem Vin em [1:5]"
      ],
      "metadata": {
        "colab": {
          "base_uri": "https://localhost:8080/"
        },
        "id": "4FeZuu2Jqx_7",
        "outputId": "5766ad03-f46d-4f96-aa54-302f0deef10b"
      },
      "execution_count": null,
      "outputs": [
        {
          "output_type": "execute_result",
          "data": {
            "text/plain": [
              "False"
            ]
          },
          "metadata": {},
          "execution_count": 15
        }
      ]
    },
    {
      "cell_type": "code",
      "source": [
        "str(12).zfill(5)"
      ],
      "metadata": {
        "colab": {
          "base_uri": "https://localhost:8080/",
          "height": 35
        },
        "id": "GDLWIU2AhRW_",
        "outputId": "8993d1cc-f237-4c2b-fee6-6ad4cf372cb7"
      },
      "execution_count": null,
      "outputs": [
        {
          "output_type": "execute_result",
          "data": {
            "text/plain": [
              "'00012'"
            ],
            "application/vnd.google.colaboratory.intrinsic+json": {
              "type": "string"
            }
          },
          "metadata": {},
          "execution_count": 16
        }
      ]
    },
    {
      "cell_type": "code",
      "source": [
        "'vinicius-gomes'.count('i')"
      ],
      "metadata": {
        "colab": {
          "base_uri": "https://localhost:8080/"
        },
        "id": "C4-2f_HhXV7k",
        "outputId": "85044a1a-ba89-4cf5-cbbb-6286da65e089"
      },
      "execution_count": null,
      "outputs": [
        {
          "output_type": "execute_result",
          "data": {
            "text/plain": [
              "3"
            ]
          },
          "metadata": {},
          "execution_count": 17
        }
      ]
    },
    {
      "cell_type": "markdown",
      "source": [
        "# Tipo de Mapeamento — dict\n",
        "\n",
        "Um objeto de mapeamento mapeia valores hasheáveis para objetos arbitrários. Mapeamentos são objetos mutáveis. Existe no momento apenas um tipo de mapeamento padrão, o dicionário.\n",
        "\n",
        "Similar ao Map do Java e objeto em Javascript.\n",
        "\n",
        "[Referência](https://docs.python.org/pt-br/3.7/library/stdtypes.html#mapping-types-dict)"
      ],
      "metadata": {
        "id": "8epFM-5GNgUn"
      }
    },
    {
      "cell_type": "code",
      "source": [
        "dict_coordenadas = {\"estado\": \"PE\", \"latitude\" : -9.1223227, \"longitude\" : -36.43874}"
      ],
      "metadata": {
        "id": "R8Od3p64S5Lx"
      },
      "execution_count": null,
      "outputs": []
    },
    {
      "cell_type": "code",
      "source": [
        "dict_coordenadas['estado']"
      ],
      "metadata": {
        "colab": {
          "base_uri": "https://localhost:8080/",
          "height": 35
        },
        "id": "XRMl8SaikUQp",
        "outputId": "98d30813-1f8a-47c3-9eb4-87cf4dbba4da"
      },
      "execution_count": null,
      "outputs": [
        {
          "output_type": "execute_result",
          "data": {
            "text/plain": [
              "'PE'"
            ],
            "application/vnd.google.colaboratory.intrinsic+json": {
              "type": "string"
            }
          },
          "metadata": {},
          "execution_count": 19
        }
      ]
    },
    {
      "cell_type": "markdown",
      "source": [
        "### Objetos de visão de dicionário\n",
        "Os objetos retornados por **dict.keys(), dict.values() e dict.items()** são objetos de visão. Eles fornecem uma visão dinâmica das entradas do dicionário, o que significa que quando o dicionário muda, a visão reflete essas mudanças.\n",
        "\n",
        "[Referência](https://docs.python.org/pt-br/3.7/library/stdtypes.html#dictionary-view-objects)"
      ],
      "metadata": {
        "id": "7YpcckPvNzk4"
      }
    },
    {
      "cell_type": "code",
      "source": [
        "dict_coordenadas.keys()"
      ],
      "metadata": {
        "colab": {
          "base_uri": "https://localhost:8080/"
        },
        "id": "rln-fNvETFnK",
        "outputId": "85988546-d971-4ad4-b7a0-4d9bba7e96f9"
      },
      "execution_count": null,
      "outputs": [
        {
          "output_type": "execute_result",
          "data": {
            "text/plain": [
              "dict_keys(['estado', 'latitude', 'longitude'])"
            ]
          },
          "metadata": {},
          "execution_count": 20
        }
      ]
    },
    {
      "cell_type": "code",
      "source": [
        "dict_coordenadas.values()"
      ],
      "metadata": {
        "colab": {
          "base_uri": "https://localhost:8080/"
        },
        "id": "sM6nEv5MTIIk",
        "outputId": "680ad736-28c1-46ee-92f2-6c32d917b3f5"
      },
      "execution_count": null,
      "outputs": [
        {
          "output_type": "execute_result",
          "data": {
            "text/plain": [
              "dict_values(['PE', -9.1223227, -36.43874])"
            ]
          },
          "metadata": {},
          "execution_count": 21
        }
      ]
    },
    {
      "cell_type": "code",
      "source": [
        "dict_coordenadas.items()"
      ],
      "metadata": {
        "colab": {
          "base_uri": "https://localhost:8080/"
        },
        "id": "N7j99yv9TKqB",
        "outputId": "e79d6083-a8b7-4ccf-a195-f5b4f146535f"
      },
      "execution_count": null,
      "outputs": [
        {
          "output_type": "execute_result",
          "data": {
            "text/plain": [
              "dict_items([('estado', 'PE'), ('latitude', -9.1223227), ('longitude', -36.43874)])"
            ]
          },
          "metadata": {},
          "execution_count": 22
        }
      ]
    },
    {
      "cell_type": "markdown",
      "source": [
        "# Tipo Set\n",
        "Um objeto set é uma coleção não ordenada de objetos hasheáveis distintos. Usos comuns incluem testes de associação, remover duplicatas de uma sequência, e computar operações matemáticas tais como interseção, união, diferença, e diferença simétrica\n",
        "\n",
        "[Referência](https://docs.python.org/pt-br/3.7/library/stdtypes.html#set)"
      ],
      "metadata": {
        "id": "wDlnW6AeNUiy"
      }
    },
    {
      "cell_type": "code",
      "source": [
        "{1,2,3,4,3,3,3,3,3,3,3,5}"
      ],
      "metadata": {
        "colab": {
          "base_uri": "https://localhost:8080/"
        },
        "id": "cu4YTZPtTT0y",
        "outputId": "5ed9ac4a-f141-4853-bdad-8a2385bbff7d"
      },
      "execution_count": null,
      "outputs": [
        {
          "output_type": "execute_result",
          "data": {
            "text/plain": [
              "{1, 2, 3, 4, 5}"
            ]
          },
          "metadata": {},
          "execution_count": 23
        }
      ]
    },
    {
      "cell_type": "code",
      "source": [
        "s1 = {1,2,3,4,5}\n",
        "\n",
        "\n",
        "s2 = set()\n",
        "s2.add(1)\n",
        "s2.add(3)\n",
        "s2.add(4)\n",
        "s2.discard(3)\n",
        "s2.update('a')\n",
        "print(s2)"
      ],
      "metadata": {
        "colab": {
          "base_uri": "https://localhost:8080/"
        },
        "id": "q4w8AVfvyBLm",
        "outputId": "824fde2a-8ff1-418f-d007-591f7f9286b8"
      },
      "execution_count": null,
      "outputs": [
        {
          "output_type": "stream",
          "name": "stdout",
          "text": [
            "{1, 4, 'a'}\n"
          ]
        }
      ]
    },
    {
      "cell_type": "code",
      "source": [
        "#union\n",
        "s1 = {1,2,3,4,5}\n",
        "s2 = {1,3,5,6,7,7,8}\n",
        "s3 = s1 | s2\n",
        "s4 = s1 & s2\n",
        "s5 = s1 - s2\n",
        "s6 = s1 ^ s2\n",
        "print('union: ', s3)\n",
        "print('intersection: ', s4)\n",
        "print('differrence: ',s5)\n",
        "print('symmetric difference: ', s6)"
      ],
      "metadata": {
        "colab": {
          "base_uri": "https://localhost:8080/"
        },
        "id": "dtuvxZR2yJpQ",
        "outputId": "6e68449e-e191-49a7-a195-9f6fc5417d2b"
      },
      "execution_count": null,
      "outputs": [
        {
          "output_type": "stream",
          "name": "stdout",
          "text": [
            "union:  {1, 2, 3, 4, 5, 6, 7, 8}\n",
            "intersection:  {1, 3, 5}\n",
            "differrence:  {2, 4}\n",
            "symmetric difference:  {2, 4, 6, 7, 8}\n"
          ]
        }
      ]
    },
    {
      "cell_type": "code",
      "source": [
        "#Neste caso as listas são diferentes, mas os sets são iguais\n",
        "l1 = ['a', 'b', 'c']\n",
        "l2 = ['b', 'a', 'c', 'c','c','c','c']\n",
        "print(l1 != l2)\n",
        "\n",
        "s1 = set(l1)\n",
        "s2 = set(l2)\n",
        "print(s1 != s2)"
      ],
      "metadata": {
        "id": "G7A41i_4ycV0",
        "outputId": "1c2491af-6429-4ecf-acfb-5eae1f4e250f",
        "colab": {
          "base_uri": "https://localhost:8080/"
        }
      },
      "execution_count": null,
      "outputs": [
        {
          "output_type": "stream",
          "name": "stdout",
          "text": [
            "True\n",
            "False\n"
          ]
        }
      ]
    },
    {
      "cell_type": "markdown",
      "source": [
        "#Caracteres de escape\n",
        "\n",
        "| Caracteres de Escapes (Escapes Sequence) | Significado                                      |\n",
        "| ---------------------------------------- | ------------------------------------------------ |\n",
        "| \\\\newline                                | A barra invertida e a nova linha foram ignoradas |\n",
        "| \\\\\\\\                                     | Backslash (\\\\)                                   |\n",
        "| \\\\'                                      | Aspas Simples (')                                |\n",
        "| \\\\\"                                      | Aspas Dupla (\")                                  |\n",
        "| \\\\a                                      | ASCII Bell (BEL)                                 |\n",
        "| \\\\b                                      | ASCII Backspace (BS)                             |\n",
        "| \\\\f                                      | ASCII Formfeed (FF)                              |\n",
        "| \\\\n                                      | ASCII Linefeed (LF)                              |\n",
        "| \\\\r                                      | ASCII Carriage Return (CR)                       |\n",
        "| \\\\t                                      | ASCII Horizontal Tab (TAB)                       |\n",
        "\n",
        "[Referência](https://docs.python.org/pt-br/3.7/reference/lexical_analysis.html#string-and-bytes-literals)"
      ],
      "metadata": {
        "id": "7N4SH_Lka7fS"
      }
    },
    {
      "cell_type": "code",
      "source": [
        "print('vinicius gomes costa')\n",
        "print('Jr')"
      ],
      "metadata": {
        "colab": {
          "base_uri": "https://localhost:8080/"
        },
        "id": "ft5Cv2czfI7s",
        "outputId": "7dcdd82a-0dab-4d1b-cde8-4302487192b2"
      },
      "execution_count": null,
      "outputs": [
        {
          "output_type": "stream",
          "name": "stdout",
          "text": [
            "vinicius gomes costa\n",
            "Jr\n"
          ]
        }
      ]
    },
    {
      "cell_type": "code",
      "source": [
        "help(print)"
      ],
      "metadata": {
        "colab": {
          "base_uri": "https://localhost:8080/"
        },
        "id": "flsO3ZU5WzwM",
        "outputId": "d7e3cc04-5978-49dd-de23-7e3fc1e7b274"
      },
      "execution_count": null,
      "outputs": [
        {
          "output_type": "stream",
          "name": "stdout",
          "text": [
            "Help on built-in function print in module builtins:\n",
            "\n",
            "print(...)\n",
            "    print(value, ..., sep=' ', end='\\n', file=sys.stdout, flush=False)\n",
            "    \n",
            "    Prints the values to a stream, or to sys.stdout by default.\n",
            "    Optional keyword arguments:\n",
            "    file:  a file-like object (stream); defaults to the current sys.stdout.\n",
            "    sep:   string inserted between values, default a space.\n",
            "    end:   string appended after the last value, default a newline.\n",
            "    flush: whether to forcibly flush the stream.\n",
            "\n"
          ]
        }
      ]
    },
    {
      "cell_type": "code",
      "source": [
        "print('vinicius gomes costa', sep='_', end='\\t')\n",
        "print('Jr')"
      ],
      "metadata": {
        "colab": {
          "base_uri": "https://localhost:8080/"
        },
        "id": "5QVbJG6VXECZ",
        "outputId": "85f3da36-6ed0-474e-c29e-05d557161a24"
      },
      "execution_count": null,
      "outputs": [
        {
          "output_type": "stream",
          "name": "stdout",
          "text": [
            "vinicius gomes costa\tJr\n"
          ]
        }
      ]
    },
    {
      "cell_type": "markdown",
      "source": [
        "## UNPACKING  \n",
        "operador splat"
      ],
      "metadata": {
        "id": "IDHIJ-C_clxo"
      }
    },
    {
      "cell_type": "markdown",
      "source": [
        "The thing that sep separates is multiple arguments to print, not the elements of any list you're trying to print. But, there's an easy way in a function call to unpack the elements of a list and treat them as multiple individual arguments, the * operator (the splat):\n",
        "\n",
        "print(*list_of, end='', sep='-')"
      ],
      "metadata": {
        "id": "LeWk5DtsZ8V5"
      }
    },
    {
      "cell_type": "code",
      "source": [
        "print(*nome, sep='_')"
      ],
      "metadata": {
        "colab": {
          "base_uri": "https://localhost:8080/"
        },
        "id": "84Uf9CDUYO40",
        "outputId": "1b44cc67-1857-4937-a50f-d40fe5e2ca95"
      },
      "execution_count": null,
      "outputs": [
        {
          "output_type": "stream",
          "name": "stdout",
          "text": [
            "V_i_n_í_c_i_u_s_ _G_o_m_e_s_ _C_o_s_t_a_ _J_ú_n_i_o_r\n"
          ]
        }
      ]
    },
    {
      "cell_type": "code",
      "source": [
        "print(*lista, sep='_')"
      ],
      "metadata": {
        "colab": {
          "base_uri": "https://localhost:8080/"
        },
        "id": "aXnL24gVZZSv",
        "outputId": "7548baec-047c-407f-d883-90b8ea6330f8"
      },
      "execution_count": null,
      "outputs": [
        {
          "output_type": "stream",
          "name": "stdout",
          "text": [
            "Vinícius_Gomes_Costa_Júnior\n"
          ]
        }
      ]
    },
    {
      "cell_type": "markdown",
      "source": [
        "# F-String"
      ],
      "metadata": {
        "id": "FTuO2VJrSRL4"
      }
    },
    {
      "cell_type": "code",
      "source": [
        "lat = dict_coordenadas['latitude']\n",
        "lat"
      ],
      "metadata": {
        "colab": {
          "base_uri": "https://localhost:8080/"
        },
        "id": "mw2dhwlTaZph",
        "outputId": "2b88caf4-760f-47a3-ec2f-51238e78df66"
      },
      "execution_count": null,
      "outputs": [
        {
          "output_type": "execute_result",
          "data": {
            "text/plain": [
              "-9.1223227"
            ]
          },
          "metadata": {},
          "execution_count": 123
        }
      ]
    },
    {
      "cell_type": "code",
      "source": [
        "long = dict_coordenadas['longitude']\n",
        "long"
      ],
      "metadata": {
        "colab": {
          "base_uri": "https://localhost:8080/"
        },
        "id": "H-3SGnhqiHLt",
        "outputId": "5102a943-bc46-4905-9141-bceaddfb9829"
      },
      "execution_count": null,
      "outputs": [
        {
          "output_type": "execute_result",
          "data": {
            "text/plain": [
              "-36.43874"
            ]
          },
          "metadata": {},
          "execution_count": 127
        }
      ]
    },
    {
      "cell_type": "code",
      "source": [
        "uf = dict_coordenadas['estado']\n",
        "uf"
      ],
      "metadata": {
        "colab": {
          "base_uri": "https://localhost:8080/",
          "height": 35
        },
        "id": "w5jDrEF0aiMW",
        "outputId": "822446f9-bfa0-4e29-8f19-1f8ccd122238"
      },
      "execution_count": null,
      "outputs": [
        {
          "output_type": "execute_result",
          "data": {
            "text/plain": [
              "'PE'"
            ],
            "application/vnd.google.colaboratory.intrinsic+json": {
              "type": "string"
            }
          },
          "metadata": {},
          "execution_count": 124
        }
      ]
    },
    {
      "cell_type": "code",
      "source": [
        "print(f'Estado: {uf}, latitude: {lat}, longitude: {long}')"
      ],
      "metadata": {
        "colab": {
          "base_uri": "https://localhost:8080/"
        },
        "id": "8BFo2ZEIbDIe",
        "outputId": "a61920c2-f4ef-4b1b-8f6d-fa405ed9ed53"
      },
      "execution_count": null,
      "outputs": [
        {
          "output_type": "stream",
          "name": "stdout",
          "text": [
            "Estado: PE, latitude: -9.1223227, longitude: -36.43874\n"
          ]
        }
      ]
    },
    {
      "cell_type": "code",
      "source": [
        "print(f'Estado: {uf}, latitude: {lat:.2f}, longitude: {long:.2f}')"
      ],
      "metadata": {
        "colab": {
          "base_uri": "https://localhost:8080/"
        },
        "id": "WeWES4HdiTnM",
        "outputId": "affadfd4-c834-4667-d99c-831252841829"
      },
      "execution_count": null,
      "outputs": [
        {
          "output_type": "stream",
          "name": "stdout",
          "text": [
            "Estado: PE, latitude: -9.12, longitude: -36.44\n"
          ]
        }
      ]
    },
    {
      "cell_type": "code",
      "source": [
        "site_principal = 'https://www.apac.pe.gov.br/'\n",
        "meteorologia = 'previsoes-do-tempo'\n"
      ],
      "metadata": {
        "id": "l_8AKKYgZtxK"
      },
      "execution_count": null,
      "outputs": []
    },
    {
      "cell_type": "code",
      "source": [
        "URL = site_principal + meteorologia\n",
        "URL # Na última linha pode-se omitir o print"
      ],
      "metadata": {
        "colab": {
          "base_uri": "https://localhost:8080/",
          "height": 35
        },
        "id": "J2Nb9tCDSoDv",
        "outputId": "d0e07351-42c0-4e78-c5c6-05c9ec1343d9"
      },
      "execution_count": null,
      "outputs": [
        {
          "output_type": "execute_result",
          "data": {
            "text/plain": [
              "'https://www.apac.pe.gov.br/previsoes-do-tempo'"
            ],
            "application/vnd.google.colaboratory.intrinsic+json": {
              "type": "string"
            }
          },
          "metadata": {},
          "execution_count": 95
        }
      ]
    },
    {
      "cell_type": "code",
      "source": [
        "site_previsao = f'{site_principal}{meteorologia}'\n",
        "site_previsao"
      ],
      "metadata": {
        "id": "Xn12ccIahmb5",
        "colab": {
          "base_uri": "https://localhost:8080/",
          "height": 35
        },
        "outputId": "b041b39e-a5fe-4ba2-d784-27ba4fe1efa3"
      },
      "execution_count": null,
      "outputs": [
        {
          "output_type": "execute_result",
          "data": {
            "text/plain": [
              "'https://www.apac.pe.gov.br/previsoes-do-tempo'"
            ],
            "application/vnd.google.colaboratory.intrinsic+json": {
              "type": "string"
            }
          },
          "metadata": {},
          "execution_count": 96
        }
      ]
    },
    {
      "cell_type": "code",
      "source": [
        "import requests\n",
        "r = requests.get(site_previsao)\n",
        "r.status_code"
      ],
      "metadata": {
        "colab": {
          "base_uri": "https://localhost:8080/"
        },
        "id": "avPj93sWGPL9",
        "outputId": "d03dcf4d-114d-4988-8391-212e23ec272d"
      },
      "execution_count": null,
      "outputs": [
        {
          "output_type": "execute_result",
          "data": {
            "text/plain": [
              "403"
            ]
          },
          "metadata": {},
          "execution_count": 97
        }
      ]
    },
    {
      "cell_type": "markdown",
      "source": [
        "# Controle de fluxo\n",
        "\n",
        "[Referência](https://docs.python.org/pt-br/3.7/tutorial/controlflow.html#more-control-flow-tools)"
      ],
      "metadata": {
        "id": "7yqcXPMiThVI"
      }
    },
    {
      "cell_type": "markdown",
      "source": [
        "## IF"
      ],
      "metadata": {
        "id": "36ZZVO-6L983"
      }
    },
    {
      "cell_type": "markdown",
      "source": [
        "| Operação | Resultado                                      |\n",
        "| -------- | ---------------------------------------------- |\n",
        "| x or y   | se x é falso, então y, do contrário x          |\n",
        "| x and y  | se x é falso, então x, do contrário y          |\n",
        "| not x    | se x é falso, então True, caso contrário False |"
      ],
      "metadata": {
        "id": "QJHuBOuoOSQr"
      }
    },
    {
      "cell_type": "code",
      "source": [
        "x = int(input(\"Entre com um número inteiro \"))\n",
        "\n",
        "if x < 0:\n",
        "  print('Negativo')"
      ],
      "metadata": {
        "colab": {
          "base_uri": "https://localhost:8080/"
        },
        "id": "wbVAxQ6YNFOs",
        "outputId": "58579559-a6e2-4f92-eb76-7c9b319fc13b"
      },
      "execution_count": null,
      "outputs": [
        {
          "output_type": "stream",
          "name": "stdout",
          "text": [
            "Entre com um número inteiro -1\n",
            "Negativo\n"
          ]
        }
      ]
    },
    {
      "cell_type": "code",
      "source": [
        "x = int(input(\"Entre com um número inteiro \"))\n",
        "\n",
        "if x < 0:\n",
        "    print('Negativo')\n",
        "else:\n",
        "    print('Zero ou Positivo')"
      ],
      "metadata": {
        "colab": {
          "base_uri": "https://localhost:8080/"
        },
        "id": "zkJ30p3NNQZW",
        "outputId": "d1c35f66-f0c1-4661-a640-1cd37155f93b"
      },
      "execution_count": null,
      "outputs": [
        {
          "output_type": "stream",
          "name": "stdout",
          "text": [
            "Entre com um número inteiro 0\n",
            "Negativo\n"
          ]
        }
      ]
    },
    {
      "cell_type": "code",
      "source": [
        "x = int(input(\"Entre com um número inteiro \"))\n",
        "\n",
        "if x < 0:\n",
        "    x = 0\n",
        "    print('Valor negativo convertido para zero')\n",
        "elif x == 0:\n",
        "    print('Zero')\n",
        "else:\n",
        "    print('Positivo')"
      ],
      "metadata": {
        "colab": {
          "base_uri": "https://localhost:8080/"
        },
        "id": "Jgls65ZuL8ra",
        "outputId": "c9bbb214-d8a6-4744-a768-d6b6c92dc2b2"
      },
      "execution_count": null,
      "outputs": [
        {
          "output_type": "stream",
          "name": "stdout",
          "text": [
            "Entre com um número inteiro 1\n",
            "Positivo\n"
          ]
        }
      ]
    },
    {
      "cell_type": "code",
      "source": [
        "x = int(input(\"Entre com um número inteiro \"))\n",
        "\n",
        "if x < 0:\n",
        "    x = 0\n",
        "    print('Valor negativo convertido para zero')\n",
        "elif x == 0:\n",
        "    print('Zero')\n",
        "elif x >= 10 and x <= 20:\n",
        "  print('Positivo entre 10 e 20')\n",
        "else:\n",
        "    print('Positivo')"
      ],
      "metadata": {
        "colab": {
          "base_uri": "https://localhost:8080/"
        },
        "id": "YUMMCp1LMDkN",
        "outputId": "5600b970-5e3a-4455-ad26-92eaacfb9669"
      },
      "execution_count": null,
      "outputs": [
        {
          "output_type": "stream",
          "name": "stdout",
          "text": [
            "Entre com um número inteiro 21\n",
            "Positivo\n"
          ]
        }
      ]
    },
    {
      "cell_type": "markdown",
      "source": [
        "## Estruturas de Repetição"
      ],
      "metadata": {
        "id": "VnIAKBJXPXy1"
      }
    },
    {
      "cell_type": "markdown",
      "source": [
        "![image.png](data:![image.png](data:image/png;base64,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)"
      ],
      "metadata": {
        "id": "DTmoHBWtU225"
      }
    },
    {
      "cell_type": "markdown",
      "source": [
        "### FOR"
      ],
      "metadata": {
        "id": "SfmT-QRCPUda"
      }
    },
    {
      "cell_type": "markdown",
      "source": [
        "Programa para imprimir 5 números sequenciais"
      ],
      "metadata": {
        "id": "KAN3iaX5PnHO"
      }
    },
    {
      "cell_type": "code",
      "source": [
        "print(0)\n",
        "print(1)\n",
        "print(2)\n",
        "print(3)\n",
        "print(4)\n",
        "print(5)\n"
      ],
      "metadata": {
        "colab": {
          "base_uri": "https://localhost:8080/"
        },
        "id": "99b1oEa0PCsN",
        "outputId": "23b08a1a-6335-4c89-8601-59a43e502b7e"
      },
      "execution_count": null,
      "outputs": [
        {
          "output_type": "stream",
          "name": "stdout",
          "text": [
            "0\n",
            "1\n",
            "2\n",
            "3\n",
            "4\n",
            "5\n"
          ]
        }
      ]
    },
    {
      "cell_type": "markdown",
      "source": [
        "De maneira mais prática, se você precisar iterar sobre sequências numéricas, a função embutida range() é a resposta. Ela gera progressões aritméticas:"
      ],
      "metadata": {
        "id": "AhIUJFSsQmWJ"
      }
    },
    {
      "cell_type": "code",
      "source": [
        "for i in range(5):\n",
        "  print(i)"
      ],
      "metadata": {
        "colab": {
          "base_uri": "https://localhost:8080/"
        },
        "id": "PIixyB_eQo--",
        "outputId": "a701511c-93a8-41e2-b508-1376b8b96c65"
      },
      "execution_count": null,
      "outputs": [
        {
          "output_type": "stream",
          "name": "stdout",
          "text": [
            "0\n",
            "1\n",
            "2\n",
            "3\n",
            "4\n"
          ]
        }
      ]
    },
    {
      "cell_type": "code",
      "source": [
        "soma = 0\n",
        "\n",
        "for i in range(5):\n",
        "    soma = soma + i\n",
        "\n",
        "print(f\"soma: {soma}\")"
      ],
      "metadata": {
        "colab": {
          "base_uri": "https://localhost:8080/"
        },
        "id": "el5VDszMQbCn",
        "outputId": "aad7f7f5-c593-4db9-ae4a-fbd201732147"
      },
      "execution_count": null,
      "outputs": [
        {
          "output_type": "stream",
          "name": "stdout",
          "text": [
            "soma: 10\n"
          ]
        }
      ]
    },
    {
      "cell_type": "markdown",
      "source": [
        "O comando for do Python itera sobre os itens de qualquer sequência (seja uma lista ou uma string), na ordem que aparecem na sequência"
      ],
      "metadata": {
        "id": "Dirx_SuYQIOq"
      }
    },
    {
      "cell_type": "code",
      "source": [
        "lista_num = list(range(5))\n",
        "lista_num"
      ],
      "metadata": {
        "colab": {
          "base_uri": "https://localhost:8080/"
        },
        "id": "oMujj3ELRdtR",
        "outputId": "e00fba3a-5aaa-445c-9f95-158075d7791a"
      },
      "execution_count": null,
      "outputs": [
        {
          "output_type": "execute_result",
          "data": {
            "text/plain": [
              "[0, 1, 2, 3, 4]"
            ]
          },
          "metadata": {},
          "execution_count": 28
        }
      ]
    },
    {
      "cell_type": "markdown",
      "source": [
        "**observação**"
      ],
      "metadata": {
        "id": "gpFdNpS0R_LU"
      }
    },
    {
      "cell_type": "code",
      "source": [
        "sum(lista_num)"
      ],
      "metadata": {
        "colab": {
          "base_uri": "https://localhost:8080/"
        },
        "id": "ZKOixAp3RjnI",
        "outputId": "fda3dd7d-551d-4393-d302-793af4eabd32"
      },
      "execution_count": null,
      "outputs": [
        {
          "output_type": "execute_result",
          "data": {
            "text/plain": [
              "10"
            ]
          },
          "metadata": {},
          "execution_count": 30
        }
      ]
    },
    {
      "cell_type": "code",
      "source": [
        "palavras = ['Apac', 'Agência', 'Pernambucana', 'Águas', 'Clima']\n",
        "for p in palavras:\n",
        "    print(f'{p}: {len(p)} letras')"
      ],
      "metadata": {
        "colab": {
          "base_uri": "https://localhost:8080/"
        },
        "id": "nkcCeMaRSBdX",
        "outputId": "7cdda0f8-027b-45b6-f846-50ea4258a593"
      },
      "execution_count": null,
      "outputs": [
        {
          "output_type": "stream",
          "name": "stdout",
          "text": [
            "Apac: 4 letras\n",
            "Agência: 7 letras\n",
            "Pernambucana: 12 letras\n",
            "Águas: 5 letras\n",
            "Clima: 5 letras\n"
          ]
        }
      ]
    },
    {
      "cell_type": "code",
      "source": [
        "alunos = (\"Vinícius\", \"Thiago\", \"Roni\", \"hailton\", \"Victor\", \"Alessandro\") # tupla\n",
        "notas = {} # dicionário\n",
        "\n",
        "for aluno in alunos:\n",
        "\tnota1 = int(input(f\"Qual a nota 1 do(a) {aluno}: \"))\n",
        "\tnota2 = int(input(f\"Qual a nota 2 do(a) {aluno}: \"))\n",
        "\tmedia = (nota1 + nota2) / 2\n",
        "\taprovado = \"Não\" if media < 6 else \"Sim\"\n",
        "\tnotas[aluno] = {\"n1\": nota1, \"n2\": nota2, \"media\": media, \"aprovado\": aprovado}\n",
        "\n",
        "print(notas)"
      ],
      "metadata": {
        "colab": {
          "base_uri": "https://localhost:8080/"
        },
        "id": "1PfaVNXM72bm",
        "outputId": "f18d9d92-e0bf-41b6-f5ec-fda4ff90351a"
      },
      "execution_count": null,
      "outputs": [
        {
          "output_type": "stream",
          "name": "stdout",
          "text": [
            "Qual a nota 1 do(a) Felipe: 10\n",
            "Qual a nota 2 do(a) Felipe: 53\n",
            "Qual a nota 1 do(a) Renata: 12\n",
            "Qual a nota 2 do(a) Renata: 5\n",
            "Qual a nota 1 do(a) Guga: 0\n",
            "Qual a nota 2 do(a) Guga: 9\n",
            "Qual a nota 1 do(a) Thais: 4\n",
            "Qual a nota 2 do(a) Thais: 56\n",
            "Qual a nota 1 do(a) Victor: 55\n",
            "Qual a nota 2 do(a) Victor: 5\n",
            "Qual a nota 1 do(a) Max: 10\n",
            "Qual a nota 2 do(a) Max: 4\n",
            "{'Felipe': {'n1': 10, 'n2': 53, 'media': 31.5, 'aprovado': 'Sim'}, 'Renata': {'n1': 12, 'n2': 5, 'media': 8.5, 'aprovado': 'Sim'}, 'Guga': {'n1': 0, 'n2': 9, 'media': 4.5, 'aprovado': 'Não'}, 'Thais': {'n1': 4, 'n2': 56, 'media': 30.0, 'aprovado': 'Sim'}, 'Victor': {'n1': 55, 'n2': 5, 'media': 30.0, 'aprovado': 'Sim'}, 'Max': {'n1': 10, 'n2': 4, 'media': 7.0, 'aprovado': 'Sim'}}\n"
          ]
        }
      ]
    },
    {
      "cell_type": "markdown",
      "source": [
        "#### Enumerate"
      ],
      "metadata": {
        "id": "AcOF7zTMnFWp"
      }
    },
    {
      "cell_type": "code",
      "source": [
        "for i, palavra in enumerate(palavras):\n",
        "  print(f'{palavra} na posição {i}')"
      ],
      "metadata": {
        "colab": {
          "base_uri": "https://localhost:8080/"
        },
        "id": "MuRXL6f1SJUf",
        "outputId": "916fb43e-7920-48b7-dabb-29339bb83790"
      },
      "execution_count": null,
      "outputs": [
        {
          "output_type": "stream",
          "name": "stdout",
          "text": [
            "Apac na posição 0\n",
            "Agência na posição 1\n",
            "Pernambucana na posição 2\n",
            "Águas na posição 3\n",
            "Clima na posição 4\n"
          ]
        }
      ]
    },
    {
      "cell_type": "markdown",
      "source": [
        "### While"
      ],
      "metadata": {
        "id": "i7aYEvUUS_Kw"
      }
    },
    {
      "cell_type": "code",
      "source": [
        "i = int(input(\"Insira o valor inicial de i (menor ou igual a 5): \")) # Para comparação com o exemplo for utilize 0\n",
        "soma = 0\n",
        "\n",
        "while i < 5:\n",
        "    soma = soma + i\n",
        "    i = i + 1\n",
        "\n",
        "print(f'Último valor de i: {i}. Soma Final: {soma}')\n"
      ],
      "metadata": {
        "colab": {
          "base_uri": "https://localhost:8080/"
        },
        "id": "kv_yfFN2TAjv",
        "outputId": "7687aa4d-5695-45d8-a517-7138d686a05e"
      },
      "execution_count": null,
      "outputs": [
        {
          "output_type": "stream",
          "name": "stdout",
          "text": [
            "Insira o valor inicial de i (menor ou igual a 5): 0\n",
            "Último valor de i: 5. Soma Final: 10\n"
          ]
        }
      ]
    },
    {
      "cell_type": "markdown",
      "source": [
        "# Funções"
      ],
      "metadata": {
        "id": "MHwUp8sOVaUA"
      }
    },
    {
      "cell_type": "markdown",
      "source": [
        "![image.png](data:image/png;base64,iVBORw0KGgoAAAANSUhEUgAABJIAAAOQCAYAAABigluaAAAgAElEQVR4nOzdeXxU5b0/8M/nOZMNxAUFXAGtS0Wr9uIGwUrFAkNrN42tKEnsr+VaLZE1IcNtm9YLkYAsSa33Wm0JqL2a6u3tQoBqm94SUFuqtkLba1VQWwUVFBXIMuf7+4PFAHPOTCaTTT/v16u+ZM5zvs93coanzjfPAoiIiIiIiIiIiIiIiIiIiIiIiIiIiIiIiIiIiIiIiIiIiIiIiIiIiIiIiIiIiIiIiIiIiIiIiIiIiIiIiIiIiIiIiIiIiIiIiIiIiIiIiIiIiIiIiIiIiIiIiIiIiIiIiIiIiIiIiIiIiIiIiIiIiIiIiIiIiIiIiIiIiIiIiIiIiIiIiIiIiIiIiIiIiIiIiIiIiIiIiIiIiIiIiIiIiIiIiIiIiIiIiIiIiIiIiIiIiIiIiIiIiIiIiIiIiIiIiIiIiIiIiIiIiIiIiIiIiIiIiIiIiIiIiIiIiIiIiIiIiIiIiIiIiIiIiIiIiIiIiIiIiIiIiIiIiIiIiIiIiIiIiIiIiIiIiIiIiIiIiIiIiIiIiIiIiIiIiIiIiIiIiIiIiIiIiIiIiIiI9GLs7gREPihm1oy8wcF9NLCB2R+rShof6Ugfs5aOGE/njQq6Hm/yf3DHzHVbOtKHiHSvG8bFTjAvflzQdWvx9zzwqwXPdUUuRePnlIA2MOg6d+9auKxhyVtdkYuIiIiI9AyR7k5A5IPCgQUEPhvYgNg1dfGlf1wy7fHN6XfixhCYGXg5m6sBqJAk0otFyJlAZHrQdYtgI4BzuyQZh5sInh10OR7JuRtArywkTRwz+7TsCM5ctvr2Vd2di4iIiEhvokKSSJdhnxzPq0ZYsUlERDrVpLEz+3peTgywGQYsBKBCkoiIiEg7uO5OQORDhbxq5tKRn+vuNEREPoRYOD52g+dl/x+IGMic7k5IREREpDdSIUmki3lk9cwF5/Xt7jxERD4sJk2Yc2FRNNboHFeAPLG78xERERHpzbS0TaSrkYOZfeS3AJR1dyoiIh9kk8bOHOh52ZVmdiNJHTAiIiIikgGakSTSDehsWtmi/HO6Ow8RkQ8yetk3gvyKikgiIiIimaMZSSLdgGAWsuz7AC7v7lxERILQ8CJCfunUQmvtwnREREREpAdQIUmk2/ATpUvzi6pubazt7kxERBJZVj/3092dg4iIiIj0LFraJtKNSC6YtmhE/+7OQ0RERERERCQVKiSJdCdiQFaWV9ndaYiIiIiIiIikQkvbRLqdfa20Ov9HVSWNj3d3JvuVLsq/0CIcBmAwgcEATiGsxQzbCLxuxLO7sWtNTclTr6fbR3HF0Ny+2QP7JrrmM9u/q3ztjkNfn7r4gqOzvCO+SOAcEqcYcCTNXjXDywB+U3VrYwMAS9Z32ZL8wb6Hq+nzdDgMppmZ8WXAXvF9a1g4bd36dN9XkGmLRpwU8bxPO9hHjTyewADQ3jFgK3xuNfrr9mDbb2tK/t6U6b5F0lU8eurRvpfnBV1f/ljlDgB+e2JeN3rGcTk5WRea5z4O8CMEjoTZkXuv8jXAXgP4mll8q+/zhRVrKp9ECn+v93GFY8qPafPnhGPMfjTmFY4pP7bta7sje6xu9eLtqb6fSVeWDXYRdwGdO9E3O5HkiTA7EXs3+N4B37bDcYcZttJv/U3t6vkbU40tIiIi0hOpkCTSzQjSaHcVFODCujrEuyuPmQtGDvSyWWiOXyFw9uFHHBH7zz0igDz0sdKa/A00u/uJ7et+1FCBdm26O7D/iZNJtzTRNQNeA3DCgdxqLj7VWVYlwM+TyHk/IwA8kNc3y2pGvWCweVVTGu9NFHfGkpEXec5VGu0KB/LAnMwDMQjPEaXV+c+aYemCWxvvac97SmTm0lFfcM5iAIYTIEC8/7Pd9+8OIBzy7Pj3SquPr2dr/Lvzp6//c0f7Fuko69N3nQPODro+6cqyISsenf9SKrEKx8/5AmlfAzEWoHfQGHPQoWrc95IHzwHFE+Y8B99+EPeba1esWbgtrI+JE2ac4uA2p5IPAMBhustx09u+1Mfy3gNwRLJbi8bHxtBhigGfIegBgDswSLZ5P47vv+RFUDQh9hIMK1vYdPsDK+/YknKuIiIiIj2ElraJ9AAELzj1svwp3dF3QcWw7NLq/MUul6/AcQFDvjS2RZAELwTd3Zccm/+XWTWjCjohPc5aOuoWZ9l/JvmltkWkAKcRvKesOr922qIReftfLKgYll1WnT/X89x6EmOI8KPASZ7rHH9QWpO/bEr16cn6TGj6HRefWVo9qsFzeITghcn63Nsv+pK4xrK8p0qrR9399cpRxyS7R6Snuz5aenJxNLbKOTxCMrq/6NIOZ8CxyvOyXymOzpnbKUm2Q/HY8o8WR2Mb6fgowM+19/0QHEzypizLfbY4GpsCIOnYICIiItKTqJAk0nN8t3R+/old2eHUxZcOPbV//9+RnEowK/1IPN0BD5VWj1paUID2fkkMVFY96k7n8D0yfHnK4emwMDvL3QPsLSKd1r//IyBjRPtyI1jUB4Pq2tU3gJmLR47Iys5aR+Ly9t67t194JL7W7wj73bRFI05KJ4ZIT3B9dMqRWcz6NchxHQ5GZoGIFUXLF2cgtbRMGjvzVIvwUZDDOhqLxBEgqwsnzJmXidxEREREuooKSSJdxMzuD7tOsh/7cElX5TOzZuQVOZHIH0lcnKmYJEpOuyx/5eSK4X06GqusJr8axNc7kM3EWUtHTT61f/8HQaR/hDl5VdnS/GtTbT6zZuQVzuNjAI9N3jpJ1+A52RG3bmbNxad2NJZIN2AE/WoBnJHRoHRTi6OxLhsr9yu8Ys5JLpLzGMGMFncdMLswWn5NJmOKiIiIdCYVkkS6iMG+bcDLSZoVlC0Z0fHf3CcxdfHwE5y5BwFkfukUOfbo/rk/6lAI4HiAHV7q5xz+k8TnOxoH5JLRFcn3lJtVddHxDvwxybxkbdvR92Bn2StQofFaepeiaPkskin//TNY6nvEkbfeMK7s/LQSSxNzbCmBTinqkvx2Z8QVERER6Qz6YiLSRZr9+LtAvCRpQ899r7hiaG4npsIcL285ieNSaWywFpg9BeCFlDsgry1dml+edoaJ8jD7jW/4pvn+V8xQbWbPphcIm8y323zzbzRgrsGSn9BGnHDh0ZcOT9bM5easIDgwSf+vG/Bf8G0WzL/ZzO6BWejmwCTyS/uPmpY0T5EehOCtgRfN3vbNauJ+62X+Hpy81Xbm1q6cl41dzSfEzR9tsPvMwjfwjzivNONJB5g4YcYQJClKm9mbvlkNzErM4jfAMA1m883wVLL4BM8tvGKOlrGKiIhIr6BT20S6UNWU9T8tq87/Ocirglvx9IHHnDwb2FzRGTmUVufPBHFlsnZm9ojvx6ua3BtP7z+S/pZ5Fx/bt09WPj0uBnBaaADH22bUjPjvO6as/2tH8jXYNsZxddXUxrWHXiurHnkv6L6SWhzEzcfNC3asvQcVBx1XztLqUQtJTA+6FwA8z10O4Img67OqR45N9nM1s/rd2FVUM+Wp19u+PrlieJ+j+ucucuS/htx929TFF9y7ZNrTb4X1IdITXB8tPRlk4J5vcfLKFSvn/uHQ15c1LHgNe09t/O2k8eX/7eAeJBP/t4qB106cMCPW9uSz7F1vbvVzjv/U/j/T875M4P8FJmr2gO/7h8ygdIfNjMqy3G+QwXusGeyXu97aXVC3fvHuBJdnF0bLryH4EBm86b7l4F8A/CMwVxEREZEeQoUkkS7W2mxTIjkYAzB4HyFi9qyll9y/4NYnnstk33tPMmMstJFZs8FmVZWsqz700p2xJ98E8LOy24f/1vrk/pDkF4PCEPA8cxUAvpxuvmb2Dnx8Yv7Uxr8lvL6bU5lnV4AcmjSY79+44NZ1KxKFqSpZO6O0ZlQ09MQ6Y+hpdg6cEZ6APVxV0lgAwA69cnfFhl0Abiqtzt9Jclaiu0nm5Xh9rgNwV3g/It0vwqxLAi+avb1p2xvPJIuxYlXlI0XR8u8Bbur792K70Z6B2TNmeDp7t2tqe8+yhmV7ADy6/8+F0djwkNoNDHhx+erbHw1sAKAABR5onwk6XM0Mz4cUkQAAy+srf1I0IXY/gBuC2tBwSlgeIiIiIj2FlraJdLE7Zq7bAth3wtqQyKGL3Jnpvr0sXk3i6LA2vuGWREWktubP3vB2VUnj1QasDu2QuLZsUf45aaS673ZbWhVQRAKAqrLGdwz4RbI4BltflbiI1LbNL8Ov48iga9PvuPhMkGNDbt/T2mQzkKCI1Na723d8F4ZXg1vwxrD7RXoK8+3cwIvkUecMOu7mVOL4Lf5iM/s3H/5Ve1p3D15WP/fY2pXzrqitr5y2fFVl7b4ZTJ2qDnXx2pXzzo63Ng3y4/FP+fBnwFBrhqdg1kT488OKSPvR7H/Drjtn4ctiRURERHoIzUgS6QZPvLlu0cX98yeRDPyyRfBTs2ryv7RgSuODmerXA4OXeAAws2c3r21MeaNsP95S6rnIp0AmLEoTpB+xqwFsbGeqAIDmVvuPZG3M+NeQCQd78/AttDAGAM7H78NK6wQDC0lZWZExYbHNxw/3FhDDfb9i07tlS/MXgVyQOAleNGPhyCGpxBLpVuSboZcNi4snxD5p4Aq/tWnVijUL30vUbsWj818CMLdTcmynFWsWbsPe2U4HZjCNHj06MqBhQGiBeD8zvhA2VpllcJN+ERERkU6kGUki3aChAq3G+E0GC/0CQmDRlOpLAgsY7TFj4cghBlwe1sYMZXV1SPnkpIVTn/gTgOVhbQimdQqdwbYtnr4+6X4hDvZ6sjbNvnsyWRsf/s7wfIJnJIEcleTepMt4DrS18LZejn081Vgi3ceeD7u6d68gfo7AT1wkZ3vRhNivC6PlsRvGlV8WjU7J6aosO6qhoaG1DnVJx8wbxpWdD8frwtoQ1mvet4iIiHy4aUaSSDdZMOXxxtLq/HtBfDWoDcET85B1G4Dg049S5CL2McKFbBZiOxfc2riyvXF98x909IoDGxCXlM7P71dV1vhOe+LS8HQq7eKwJi9g75K97O3F0xpfTBbHfL4dWloP2PAXAMw4InSmgfP/nqz//Vp8f1O2F7inLwCeD+CnqcYT6Q67tzz3WN8hZ24H0T9ZWwLZAD9J8pPOAwZZv6biaOxxg/0awGNbdq9/oqGhIfQEtx7GFY0rO5vOjQRcvtGuJJj0RDajJZlbKSIiItIzqJAk0o1aWv2y7Ij3ORADAhsRt0yvHrFsUcn6pEdIh6FzoRtSG/FCepH95xF8mBEIeJYdPxnAX9oT1RC+NGY/z2xPkkCvIsneRHvjMHRGUhjCTgraiBcAnPGWsuqR16cSyxhS7Nvb4Lz2ZSfS9eo21TUXDond6cBvtvtmMgfA5QQvB/CdoXkjXy+KjnwYsPtq6ysbM55sB103esZxWTm5+XR2GYBLAVxAsu/+6wwtdLdhB50mKSIiItJjqZAk0o0WT1+/fVb1qJkOqA1qQ8DLoncXKjCyY73Z0LBiB4HQpShBNu94Z8tp/Y/xg/ZJAoA43QC0s5AEWMI9Uw6LbV5T2PwdgCnFMYfWdKYDTK4Y3gdkdmgG5BfDfvYHtU3e4uTUMhPpXhu3vXHbuQOPi5K8sEOByAEEbgJ4U1E09jh9/zvLVt++KkNppmXihBlDsvzsSaD7Mol9Bwp0dEIRU15WLCIiItKdtEeSSDdbULJ2OWANSZpdUtY//2sd6YfkCWHXzdKbkVRXsakZwCthbRxCZlwFIFMrJNGLh882SjFOuo7uH0m6dCezrE/X9ieSng0b7m6xZhtvhrWZiknyUnhefVE0VlswrCC0gNsZikfPOr4oGvtJluW8SOdue7+I1HFGzUgSERGR3kGFJJEeoBX+12HWHNqIrHSG9I+HNuwIb8DwiT3h92aFdk20f38Tn0mP006FGTq1kNTa4nfpviYkVUiSXmP5Y5VvbsPOK2H2LZi9nam4JAv7DjmjKlPxUlE0PjYGedkbSV69d7Pw9rCtBvtNWAunpW0iIiLSS6iQJNID3DFl/V8t6Mj39x1jZEr77CTiA/9M0uS0dOJOWzQiD0TobCf42NbeuOaS72uUEmYoToBF7/z+HwZr6cw+2jJAhSTpVerra5qW1c+7Dbt3DTXzbzaz9RkJTN46KTrnqozESqJ4bPlHSTycyubhAGCwlwx2n5l/s+/b+ctWzjshHrdvh9+lpW0iIiLSO2iPJJEeYtubr/z7wP4nfZnkR4LaMGxX66Tsn0n28EirkOQi/qnJ0qLX/kJSr1EBnzXYAuD0oCZ+PH4V6TIyM4qGLitaiWTSsoYlbwG4C8BdxeNnDzUySjBqwBVtN6duD0csBfDzjCaagEX4Y4JHhbYxaySs1tD669r6BYftORehhQ6UWtomIiIivYUKSSI9xLKKzXvKlpxwCzyvszaRDZ2RRKZZSPLdaeF1JNu1eftbL6cTu7cw4EWGFJLou9eqpjf+oStzEunJlq26fTP2FZUKhhVk5w4+7WLnvMtguIzASDC8aLMfgVMnjpp9zANrb0+ydDfo/uRL1IrHzx4N8ILABmYtZnZN7arKn4XF8enyQqeBa2mbiIiI9BJa2ibSg8yfun61mT3UGbHjLS1/MVjYMq8jSqtHXtPeuHTuxrDrBjTs25D7A4wvhl21CId1VSYivU3dprrmFavmr61dOa+ytn7ehGX18/rHgYt83yrM7NVk92cfgfPT7z18lhAAmHNFodeB8mRFpH0tQ2ddmZkKSSIiItIraEaSSA/THN8zNcfLHQ/yyEzGXTTj9y+XVuevBXFZUBuSlZMnD/+fu+/ekNLyqdLq/Ev3Hm0fwmx1O1PtfQwvhK0apNknACxPJVRZ9chPGzHEb3Wbmrz3NtaUPPV6hrIU6XIFV5YdledFznLwzzLHswCcBbNVtasq7w25zV+xcu4fAPzh+uiUxVnW76WwGUpGng0g8cmXtJawJb2WwiEDBM8Mux73/f9JFgMAnOH0sHHCufC1xyIiIiI9hQpJIj3MkmkbXi2tzp9DoCbTsc2wnCGFJICnH/Wx3G8AWJwsVkEBPAKhG4Sb2e7meFNduxPtZVpa4w9nZXlzA/ewciyeXj2qZlHJ2meShCLIJQRP9yJAH/RFWfWo10HbCMNGwDbG2bpq4ZQnQ2dAiXSnoglzrgZQQthZAAftffWgKskwAGGFpAPur6/ZWRSN/Q+BwqA2RgaeBkfftYbPvfZzk+VgZoPDDmmjtaa2Sbbj50MzAXNSiiMiIiLSzbS0TaQHqtre+H2DZXxPHbd7Tx2APaFtDAtLl+Z/FxXB48OsqouOP/Wy/F+BHBXeI+9aMm1D0qUpvd3i6ev/DkPgkkQCXhbse5MnD88Ki1NanT8R4MF7LREDAI4GeQvgqulTvwCQHo2t/kaYXfZ+EenQBhxWFJ2d8gmUBBLH2cdvjW8OvtkPnV1J8pTkCXBr2GXnsq5IFqJo/OzrAF4S2g1MhSQRERHpFfSFRKQnqoAfX8qbIrQnQWas4Dt/9oa3y2ryfwBwSmAj0pH4Zmn//FG2FAv3cNfv9y2v4vQ7Lj4jEonkw7l5BI4P68vM3tmNXbdnKveejq3xSstyXw7cvJccdcy5eetLl+RfXzW18W+HXp5VPeJyAD8I78VfvuDWJ57LRL7Se5E4pygay/R+Og/X1s8ryESgZWsq/1o0IbYSwKeD2hDu3sJobPvy+nn1YbEKx8duMGBsyOK0rU1rXngi+LK9FbZgzAyfLRwfu+F1vlM3aPc7bM054SKPjNaumhc70Mi3p+A4PDAIOb/wijmrlv967j8SXS4eVz4JZPIZWIa8pG1EREREegAVkkR6qDtuXbuhrCb/TgDBRZ807LKts/pg0CiQHw9rR/KTJD65d3lV/ksGHkni6FT6MJiZbzfWTP3w7O8zf/r6P5fW5P8cwGcDGxHD4bihtDr/lwD/6Jv/V4840cArk+01ZbCW5rh/W6bzlt6JYWut0mBmmY0Xxx30ggtJIHMcsLIoOqcBiN9jxhfQ7F5q9Zr7eJHIic7cWXCYTCC4gAPAfPywDnWBS8t8YmvYJkgkSWLFIOt3j+X1y47s+7leH51y+/31NTsBwMCnwn44JI9FLp4uHh+b1dSC+h8/Nm/rlz9VemK2y7rIeVaebCbSgTjASam0ExEREeluKiSJ9GC7rPXf8hi5muCJmYpZU/L3plnVAwuc4Y8pb+hNDm7Pt0yaza2auu7h9DLsvVrNr4jAG0cicIkKib4ArwVwrbdvsllKP1uz6iXTHg9ewiPSgyxfPe83xdHYAyAnhrUjMRrwRpMAcoFsZO+7kFI3W3y/eW5oi3jrs4gk3U8bIHMO7vKIkwFs2nupebUhazfBwBlDBI6D449ycoDiaKwJ3L/fUeojpwFDUm4sIiIi0o20R5JID1ZT8sROA6dmOu6CknXPAzbRzN7JdGzAauZvX/ftzMft+RaVrH/KBwpgaM1kXPPt3qrt60ozGVOks71X/1yhGe7vnOj2TrzV/9KKNQvfC2u1Ys3CbWbY2N7oEdjJ+/+9tn7B82ZM/e8fQzbNNgvcGBzgsOtGzzgu5X5EREREuokKSSI93IIpa+vMsCrTceeXrPulz5bzYbY2IwENrTD/5vlTGktQgUzv39JrLCxZ+3OfdgPMmjMRz2D/UXVr49c+zD9T6Z3qUBevrZ9b6AMrMhnXgLda4/bpFWsqg/dGatuetqT9nRy8Cffy+rnfM6Q/DhssDsM0o00LakMikpWbe226fYiIiIh0FRWSRHqBljhuMbPdmY67cMqTL87f3ni5+RYzQ+hv9sNZQ6vvj5xfsu6uzGXXey2Y0vig+TgPhkfTjWGwbfBtVtWUxpsBWAbTE+lK/vKVc4vN979qsGc7GszM6m0Pzr1vdeXvUr1n98rnfmRmP2lXP+DJh77WsjM+0YB7zay9fx+fg49xy+rnLrEm/MxCZiw6h5RPsxMRERHpLiokifQCi6etfcGAf++U4BXwq25trPSbdg6Kw59ksF/BLOnsFzO8B7Of+348On9K4yfvmLru952SXy9VNbXxb/NL1n7KEP+CGX6S6jJCMzwHs5u2vfmPIfNvbVwIFZGk9/NrV1XeW7ty3sdaYWMNWNWeYoyZvQdDbWtra35t/bwJQaejBalDXXzL7nXXwTDNzN5M3iH+TMNfDn35gbW376hdOfer5vNSM/tDCnn/n2+Y8uetr59Tu2reYwCw/LHKN0E0hNw2ctLYmacmzVFERESkG2X0lBYR+WCYunj4CVku9+OOOAXAYANPISzuG7c5+Ft94tk92PbbmpK/N3V3rr1FQcWw7KH9jx5N8EwYBsJxEAz9jPYP+Nzs6G9GKzfP39n4Fy1jkw+6wjHlx/oRDvFoJ8PxFBpOMfBk0Aw+3ib5tg97HoY/vLRn3aaGhoZM7Tvmbhhfeoaju4DmzofjUDN7g2bb4PAP+vabZatuT2VTexZFZ53mW+QsB54F4kwj+wL2mjO8jLj9atmayr9mKGcREREREREREREREREREREREREREREREREREREREREREREREREREREREREREREREREREREREREREREREREREREREREREREREREREREREREREREREREREREREREREREREREREREREREREREREREREREREREREREREREREREREREREREREREREREREREREREREREREREREREREREREREREREREREREREREREREREREREREREREREREREREREREREREREREREREREREREREREREREREREREREREREREREREREREREREREREREREREREREREZEMYXcnICIiIu0z6cqywYy4kxJdc3S2rH7u412dk4iIiIh8OKiQJB9KpUvzi+B4Rpd16PvPV9267kdd1p90mul3XHRKlhcZ1gpu37Xb/f2u8rU7wtqXLh0xxoiBAAA6f8GUxge7JNEMKRxf/q8kT2nvfQb4MMQJi4NoNrhdpP8eDTt8w9bmeHzLf/2q6p+dkfMHXeGY8mNdNv8E8sSgNgb7Ru3KeXd2ZV4iIiIi8uEQ6e4ERLoDiYkAxnZVf0b3GAAVknqxmUsuvcS5yAoSZwB7B89+RyBeWjPqUd/379qydt0v6uoQb3vP1ytHHQPazx2ZBwAwvAqgVxWSSBaTvLTd9x38j33/dAABRyDXORRFY68C/IEfb7pzxZqF2zKX9Qcbs/mDsCLSPguKx5Y/tmxN5V+7JClJ28Qxs0/LjuDMZatvX9XduYiIiIikQoUkEZEkSpeOGEN6q8CDx0wCHoBxnnPjTrss/6Wyy2y5xf0Hqt5+/G9T+n/82D7Ad7C/iATAgJe7PPkejOQJAL7lvJzSomhseSvemXV/fc3O7s6rJyuOln8N5BeStSOYZxHeN3z45BEbNtzd0hW5SftMGjuzr+flxACbYcBCACokiYiISK/gujsBEZEerQKOzlt8aBHpMORg0P0bI5FNpf3z381jn3+A+PrBTUyFpARI5JKcHEG/xwrGTevf3fn0VIUTys80cHGia2Zmh75GYPjHBg6o6PzMpJ1YOD52g+dl/x+IGMic7k5IREREpD1USBIRCTGz/6grAHysPfeQzCOYdejrvvkPZyyxDyCSF/Z1fRquGxMb1N259DTDh0/OItwDJPsedtHwIGClCW8kZk8aXzaqs/OT1EyaMOfComis0TmuSGF5ooiIiEiPpEKSiEgID/6hm7K/a2b3GOxbAOpgltJSLDM8t/l36x/KfIYfMMTHcnL4SHen0dOcM2jAdwkMP/R1M9v8Xkvrv9bWVy40s0SFSuforbg+OuXILkhTAkwaO3NgcTR2rzN7kuSI7s5HREREpCNUSBIRCWHARw76s/k3VpU0fq1qSuNt86esvXYXtg6MGz5rZg8C2JMwhuHFVsS/dOhm3BJoZGE0Fu3uJHqK4vGzRzvgsBlHZmg1s4l1j85/G6++H3wAACAASURBVAB27Gy9EYa/HdqO5NAsHFndFblKYvSybwT5FZI6LVdERER6PW22LZKAwTbSkLllSIYXMhZLupZxF2CbD/xxT8vatpdrSv7eBPz95wB+PnXxBUdneX0+TzAfwEkA3zLa7999j8vuKl+/o6tT7xJmfzTwF21fIhDxaVkEIjDkkhgE4CQDLiTopRKWRAWA+s5IuTeZOGr2MaC3HAl/8WMVy1dVrt//p581Vr1zfbT8ixHjk4ctgSOKCqPlv1heX/mTzs5ZRERERD7YVEgSScTw7PySxm93dxrS/apubfwWgG+l0nbJtKffArBs3/8+FHxww/L6uSn9XZk0duZA52UVg+42AtlhbQleXDxu9vgP+5HoXp/W5ni89fJE11asWbjl0Nfur6/cNGnszNMAHLaXUms8e1cnpCgiIiIiHzIqJImISJdYsWbhNgBVk8aW/9bzuBrkUaE3OO8yfMiPRF+xZuF7AF5s5z3bOikdERERERHtkSQiIl1rxZrKJ3zw35K1M9hpXZGPiIiIiIikTjOSRLrZLfMuPjboWnauZ4unr9+eaqyZC87ru7slNzfo+rbmd9+pq9jUHHT965WjjnHWnLDAnJ3r7Vo8ff3uQ1+/Zd7Fx/bpm/UFOJxF8GTAjgX4Jn171Xd4Yo+11teUPJHSyWbtMat65Edo/BTIMwAMADAAtGYYXqJhC4CX4hbf8oe3Ht/QUIHWTPVbtiR/sAEXgDgR2Pc/4kSABLCDsO2A7TBwK1vxm/nTGzdmqu9DlS7Kv9AiHAZgMIHBAE4hrMUM2wi8bsSzu7FrTU3JU693Vg7p2l3/f3f1mXDmtwkcF9iISKuQNOnKssEu4i6gcyf6ZieSPBFmJ2LvRsc74Nt2OO4ww1b6rb+pXT2/3c+oAAVe3pjTjw66/lJ8/dsNDQ0HPnc3jCs733ne9TScDsAD8bz59reWPc0P/7jhjjd60nsrHl2c63snHLY0DgBam8x/YO3th+33VTx66tF+Xp8vOuM5cDgFZkca8aoZXoaP3yxfPa8BgKX2/ryr6XC6GQcTZiBeNuAV862h7Z5QmVJ4xZyTmI1Pw9lHAR4PYADM3gGwlcRWM3/dNrz32/r6mqZ2hHWFY8qPafPnhD/P/WjMKxxTftD/F+yO7LG61YsPGv+763PX1qQJcy50ZsNgNtjoBpM4hWYtRm4z4HVa/Nld4Jq6+sqMjzvXjZ5xXE5O1oXmuY8D/AiBI2G270RCvgbYawBfM4tv9X2+sGJN5ZNI4XMnIiIi7aNCkkj34hH9ssP+Y/5dAP1SDeZy+i05IpdfDbrex46aCODHQdePPML+DGSflOiawa8A8J39f561+NJ/oRf5JmETQLbZ72bfoUSOcAD6INJcVpP/k9Ymi90xc91he7q0x+SK4X2OOTa3xAxfJfkRHHb+Efd2v+91DxFcfGz+lourbdFb25vuubtiQ9p7xJQuHTGGdFOM/AyBkA2j9yZAAMgCyqrzXzJiZbzJbu/o+weAmQtGDvSyWWiOXyFw9uFHQBH7z4UigDz0sdKa/A00u/uJ7et+lMmiWkfUoS5ehDmbAHwisJEdfGJeMkXjY2PoMMWAz+zf1Nsd+GG0+Uk5vv+SF0HRhNhLMKxsYdPtD6y8I6VnlD3htGEO7k9B1wfH8y8BGp4sGFaQ3WfImT8kcf3eTt9vQ0dk5+UuKRofu8/3m+eELUnryvdmuSdNdg5LE13LysFrAE7Y/+dJY2ee6nk5lYB93pE5B94f9/4d2JsHvlk8IfaC+TavdlXlvYniXj9+9kURukoAV+w/2WzfP7H/n3RE0YTYswYsXb5y3j2pvJcwhePnfIG0GGDD9/bZ9uGwzb96GGj93iuKxupbGf/u/Svn/zlZ7IkTZpzi4DYna3eAw3SX46a3famP5b0H4Ii2r3X1526/ffubFYLuKwTOBnngGe8NyveHXnroY2ZF0dgGwu7evHv9j9oWt9Kx71l9DcRYgN5B495BB+Ht//x78BxQPGHOc/DtB3G/uVZLPkVERDJHS9tEpF0mTx6eVbp0VIXzIk+Q+PzBRaQEyGyAEyM57q+lS0femG6/s5bmf/WY/rkvAKwkmXKBgeAQ0i095tjcl0qX5pcDh5efwsyoGfHRsupRG+m8R0F+LryIlCgBDiZ4UyTHPTtr6cgp7e1/v4KKYdml1fmLXS5fgeMCAmen1D1IgheC7u5Ljs3/y6yaUQXp9N8pzP4Zep04Gin8vIrHln+0OBrbSMdHAX4u1ZPh3u+Gg0nelGW5zxZHY2k/o0NFo1Ny+gw985cHvswn6pvIhWOh19yacKZgT31vAFg0IXaL87L/DOJLIHOSND+Nzt1TFI3VFoyYlrf/1YJhBdnF0TlzI86tJzlmfxEpMAp4rgN/UBydsywanZKkz8QKJ5SfWRyNNTiHR0hemKxPACDZl+Q1EXhPFUbn3D1x1Oxjkt3TXTLxuduvYFhBdlG0fLHnZb9CutTHnb0uBN3dQ/JG/qV4/Jy0xp3ro6UnF0djq/Y9q2h7P/8AzoBjledlv1IcnTM3nRxERETkcCokiUjKplSfnnP0uXn1dPg22O4ZjblwvHdW9ajC9tw0ugKRsupR33eOPwA5qJ19tsFj6TivtDp/Uap3zKy5+NQI3KMghqXf7wFHOOeqy5bmz2vvjVMXXzr01P79f0dyKsGs9FPg6Q54qLR61NKCgnYWxDoBycGhDQzbkGRZyqSxM0+1CB8F2eFnROIIkNWFE+a0+xklMpBHVBG4MmlDs5XLGpa8dejLPfm9FUVjdxL8HsnQJVuH58HCvkfn3QPsLVL0GXrGIyBi7S4QEEWD0K+uXfcAKBxfPoLGdSATnoSXvFt6jvhaVj/vd4VXzEk4e7O7dfRzt1/x+NlD+ww943ekmwqmP+6QPB0ODxVNKF9agIKUn/P10SlHZjHr1yDHpdt3mySyQMSKouWLOxxLREREVEgSkdTQEMnjoIdIjEk7BkgS86dUn57aTIIKuEv65z8C4uvp9nlYDuTUWdX530rWbtqiESc5y34MYGa/LDrOLq0eeU2qzWfWjLwiJxL5I4mLM5UCiZLTLstfOblieJ9MxWyvgmj5AIN9PKwNgVfDrhdeMeckF8l5jBl+Rg6YXRgtT/kZJYzh2QTClaTS1mD3H/paT35vhdFYNcn0/06SE4vGz5ncZ8gZDxL8dAfiXFU0LnZtqs0nRWdfQcfHSAbuS5d61ziHubZu0tiZp3Y0ViZ19HO336To7CvMuT8SzNy4A1fSJ3rmyquGT05l3GEE/WoBnJGp/gGAdFOLo7ElmYwpIiLyYaRCkoikiCUEP9vhKMDxfTCoOJW2s/rn/xvIqzra56Ec+Z3Smvz/F9YmO8stJdFJXxL57VRaTV08/ARn7kEAmV9GQ449un/ujzIeN0V9jN8mmJek2T/CLjLHlhKd84zI1J5REAOSnkoHAGbY6Xa/+ovD+u+h743A8Y6c0uEcHP6T5Oc7GgcOS0aPHp10dmTx6FnHO3g/TuEzlzKCg52XvQI96L+lOvq5A4AbxsVOcPQeJJjxcYfE2P6Djks67hRFy2e15/NhsHg7krj1hnFl56fcXkRERA6jzbZFEiFHltWMeqgjIczMqkoav5SplLodeeShL5lhFeg/Dh8vkRxu4ISUii/ETFTgB6iAH9RkxpKRn3BA0i+8BmsBsBHgU4S/08AzYBzJvfvrhPnu5MnDl99994aWw/peOHKIgZ8P3zjF3gTwgO/bcyS3AxgA8HjCxoIMn2lDnjtt0YiTFk9fH1YoYY6XtxwMOdWsbTawFhqeBXkUkNppZySvLV2a/3TVrY2VqbTPhM/ml/Y75sjID0kmnRXjG1cFXZs4YcYQAKFfNM3sTQMecMBzBn874Q0A7HgDx5JIMhuK5xZeMeek5b+eG1rMCrk/1SU8Dy9rWLan7Qs9/b0dlgvsN/Dt13D4B4ALAF5B8Nz2B7JNPvCwM7xgxOnYu/H2iLBbSJ5wSvaI4UDDE6Gh+2SvIDAwSf+vG/AYYBsAvAfjv4C4kuTQkP7zi6KxabX18+4Ijd1FOvK52x/C87g89DTFtsxaDHyWtKMApjbugNcWTYg9XbtyXuC4Q/DWkD7f9oHlZvGH2Bx58fWcnW/U19e0FI+eNTCeFznLkV+F8csMWX4dcV4pELyHlIiIiIRTIUkkAQKnYO//OhIjsEjS65k95cftKwumrXu6zas/AoBZ1SOuc/QeCA/A00uPuvSsKjz+l6AWEY+3AQz/Tb/hl++921J0Z+zJN9u+PG3RiP7ZEfddkLcEZgCeeOTHcr4E4L5Dr7kcfiN0U23DL5tb/YLF09fvTnB179I18qH3z087nBfx/gUhM25Kq/Nngsn3OTGzR3w/XtXk3ni6puTvTQBwy7yLj+3bJyufHhcjWVHJ8bYZNSP++44p6/+arK+OmDR2Zl962Z8gsYjgR5PeYNbSsqcpsJibZbnfIIOfkcF+ueut3QV16xcnfEaF0fJrCD4UttGy5SD0GaXKzAzAT2n2pBGtRneeM/ssyKNghy8v6i3vzQzbfGu9esWq+WsPvVYcjd0L8ispxYHF4fPm2lXz7sHB4yaLx89ZCIfpQfcCgPNwOYDAQlJRdPbYZHsGmVn9LljRoUfWXzV8cp9jBx23COC/Bt5M3FY8euq9bfcbyt715lY/5/hPHWjieV8mEDwL0uwB3/cPmanjUp9lkzBk+z53AFA8PjYTqeyvBHsk3mpVb3jvPl1fX9MEAIVjyo9lFvLpuDiFotJtxWPL/3vZmsrDxp3ro6Ungzwx6MY4eeWKlXP/cOjryxoWvAbgNQC/nTS+/L8d3INBxSQDr504YUYs1ZMMRURE5GAqJIlIu5jhyeb4e+OWTHs64SatC0rW/7isOj8/rIgDAKB3BoCEhaTS6hEXAww+Fh6AAXOrStZ+Ewk2Y148ff12AN8orck/gmBRUAwHNw2HFJIKCuA5w2eCzrYys+dbgotIAICqknU/KVuafz8cbgjsm35goXLaohF5AGNB1/cl0mywWVUl66oPvbSvsPazstuH/9b65P6Q5BeDwhDwPHMVAL4c2l8AB4wvisZWHhyUhFkWiWwYjzZiAIHj2xPXgF/+uOGONxJdK0CBB9pngg4gM8PzIYUWAMDy+sqfFE2I3Q8EPyNax4rJ+7J5x3xeuXz13Cfbvlo8eurRyM27qXZV5W/avt573pu9E7fWT9y3qupvia5u39k69ZgjI1eEzeY5kEvcbly2et6KRJ0sWzV3RtGEOdHQ08LIJCeJeTPCrprZw7X18wqQYCz5+Ya7dwG4qXBCbKcDZyXsHsyzvLzrANy1/7V9s30e3f/nwmhseNjhcAa8uHz17Y8GNmi39n3uAKBgxLQ8c4yFzcQ0oBk+ZtWumnfYuLP8sco3Afys4Mqy3/bN9n4IhI079OAx4bgTYdYlwQnY25u2vfFMSIoAgBWrKh8pipZ/D3BT2yS/3WjPwOwZMzydvds1JYsjIiIiiamQJCIpM5ix1f/qkumJi0j77cLWGXkYVEAweCmJZycHXqO7OTwRe+mtZ/d8B0lO9Hr3zR3fOKL/MdeSAfuimJ09c8kl5y2c+sSf9r9UV4c46hrPnrlg5EDkuPM8888zx/NoOM/AYYTNDysivf8e7H8BBn6Rh+8CfzZeFq8mwpfm+YZbFty67p6wNvNnb3gbwNWlNaNWEQg++Yi4tmxR/m3zpzduDIsXcO8pBA8vSuz/0sz2nzdvhnf9eHPgLJQ61MWxEmdPGjtzIBk5Dx7Pc+bOM+A8woYRNj+s0HIgRbP/BYOfkXMWvhQqFT4mH/plHgD2zV65/dDXe8t7M3BpUBEJAH7WWPVOUbT8FwC/ERrHbH3t6spERaS2nf0SDC4kEThs2e1+hRPKzyQwNrh/7Glh0wwkGUt273rru33yjr6B5AmJc+CNaFNI6nbt/NwBQN5ReUnHHYPdsnzvzLFAdY/OfxvA1cXR2KqwE9cMdm3RuLLbalfPP2jcMd/OpQsYNcijzhl03M0bgKVhOQCA3+Ivdll8w2jPNLc2PfNfaxa9nOweERERSY0KSSKSMhpXzp++/s/J2tWU/L2ptOb4JwF8JjCWz7CTe0aHxfeNVYn2NjrU9ys2vVtWnb8GwOdg9hKAZ4z8E337U6vz//TS79Y/V1eHhMtHFs5atw17ZxQcmCUwugKRARvDv3DuZ2YvhExAgAGBm/56YOhG4Gb27Oa1jSlvlO3HW0o9F/kUmHipIEH6EbsaQPsLSZ3AzJ+5Ys3CF5O1W7Fm4eHPaPToyICGASk+I4Y/I+vwxsxblq2al9Zeaz39vdke/EfSRmTS5ZI0HDaz5TC+/R5e2Gyew/dvaxN/TFglk7QfprK8qa7h++8WRcsXAVwQEOiiiRNmDOkhS6XS+tyRScYd2LO7Vz6X+rhjKHXEpxCwGTlJmnOHjzvkm4naH7hsWFw8IfZJA1f4rU2rVqxZ+F6idisenf8SgLmp5isiIiKpUyFJRFLmww77DXdI45fCzjIyl7iQMv2Oi04hOCT4RvNb4/4PU05jT/NNLVktxUFL8dqjoQKtqbSbXj3qfJhdF9bGOT8n0et7N/rG5aHLSwxlQQWwRBZOfeJPZdX5ywEEnpZHcByA76Yas7OY2dzlqyr/M937GxoaUnpGN4wrOx+Ooc+IsITPKFW+2XJkcK+0nvLezLAtpY2643g9ZKcxAEBzi590TCH8nWFblgEWXEgCR4XFNp9Jl0ntFyefCfuPpmzL/jiAbi8kpfO5mzhhxhCYXR42f9D3rawOdSmPO8tXzftT0YTYcoLB4w5dgnHHng/LY9/eX58j8DkXyWkumhBrNLNHfR+/e9O9++T+PZtERESk86iQJCKp8y31GSsOO8IbMOEX2UhWyP4YAIzcltLSsn0WlP7+tVTbpqUCruzI/LMRsZFG5u/b1PekkH22AQBmidduuIh9jAha1wHAbOeCWxtXBl4P4Jv/oKMX+IUOxCWl8/P7VZU1vtPe2Blh1mLEtNr6eXd2QnRXNK7sbDo3EnD5RruS4ElJU6K1d1XewfcbGjtyf4q64709nbwJYGBTaCdmbz/w2O1JZ5755Nthu+7Tgv9bxsgRYTn4jP89Wf/7uT3chNyQWMbzAfw01XidJZ3PXQTZHwvdnN2wc8WqynaPO4z7D8ILHncMdsln80v7/ayx6sC4s3vLc4/1HXLmdhD9k8YHsgF+kuQnnQcMsn5NxdHY4wb7NYDHtuxe/0SqBVgRERFJnQpJIgmY2eMAvteRGDSmtASlN6HPlH/bTti7ob9VtsRfZM3coLAaDK3jp2h1xIyFw49jVk6+Iy4D3KUALgDRF2A79wKyhDMG6Fzo5sRGvNCubg7wnw+b1UHAs+z4yQjYAL1Tmf28ubVlxgO/WvBcJsJdN3rGcVk5ufl0dhmASwFcQLLv/uspPynr2GyiuGvK+El4PeK9EaFLjw50QdsTNgYY8SqS7E0EADR/Z8DqqFSEFtU8uluKo7GUjoG3JNt9OYfz2pNYZ0nrc2duaOi7o6U17jT78eezvbBxh95ReTho3KnbVNdcOCR2pwO/2e4OyRwAlxO8HMB3huaNfL0oOvJhwO6rra/sisKuiIjIh4IKSSKJbakqaUx4PHKPRiZZSNIx8UjrrpQb+2hN57sfnfUP/75mr7Q/asfMWDhyiMt2k0j7MsFzMhPVApaI2NDQAhzwfDq9bd7xzpbT+h/jB+2TBABxugHo5EKSmRmBV0Fu9n1bY62tD614tKrDfU6cMGNIlp89CXRfJrHvGXVoQhEAduj49R3WnJHZcD3uvfmWcE+aQ3nwm8KXpDGlOHFaazr/sXLV8Ml99s5YCcMvpvqjTNbMgOADBLpQOp87Jhl3YOmNOy3/2Lwle+iZPkIqgc7xsHFn47Y3bjt34HFRkhem0+8B5AACNwG8qSgae5y+/51lq29f1aGYIiIiokKSSM9m7SrF0MxLtqSqI0hLeUmZEa3pZEIfx4TurURuTyNsWmZVXXS8y8v+ngFfZFrnj4Vh4hlJAadC7WeW3oykuopNzWXV+a8AGBzUxgED2hvXzB6Dj7sPu+AxjrjtMfhNRtvjg00Rxrfv2rL55bpNdc3t7SdI8ehZx1te1vdg+CJdZj/8xvRn7ZhhZ0f3aump741EigUgWpLKdkpx0nXkwKOTLo3KsLADBLpEup87AuHjTpozIes21TUXDY29QjBw3EEkcti4s2HD3S3njCkfj2z+lEToPlepInkpPK++KBpbvmvLc1/L5DgkIiLyYaNCkkiPFjx7JHHzzv07zd3tKCQZrTNqWjQ7LvNRD1e6dMQY0D0EsH+734bZVgM2kfxkcKPEhSQYdoTXqzoy64xZYVeNqW0mftA94AvLV89N62SyjioaHxsD8iGmsJfK4fY9IwQ/I9eB5V97l3amrye/N59MeRwIZanNbEpXPN7KrEjoRz6j2AMKSel+7sywI2y8dn4Hxh1DVuhkp3jicWf5Y5VvRqNTrhxk/UoBzAB5VNo5tEGysO+QM3ZgE6ZmIp6IiMiHUdqbDohI5zMk+4X+YTf0Td4ofe/Gczr9NBw/yYwjY/hvzjNhRs2Ij9K5h0mm9iXe7CX4dh/Mvzkebzl/fknjCQZ8O+wWBixt84F/JunttJRyOsS0RSPykOxn52NbOrG7Q/HY8o+SeDiVDXkBwGAvGew+M/9m37fzl62cd0I8bqHPqEPLv5jasq1Eevp7o28Z2f+N6Nx95P5rzaJ/wKylM/toy8BuLySl+7kzWui4Y7S0xp2CEdPyks2yBP3Acae+vqZpWf2827B711Az/2YzW59OHof3yVsnRedclZFYIiIiH0KakSTSgxHMKiiA146j3vt1Zj45ue92+gbipL89SY37xM7OwYP7MRD+228zNBJ+rQ/8ekHJusP2D7E4vfARNvFm24D9M8kSurS+0LmIf2r4fjUAvd5TSLIIf8ykz8gaCas1tP66tn7BYc8okmTlVceWtqU+e++we3v4e+tFfAO2EDg9sAH8qxBPv+jXljHeZUWrwBzS/Nw54z+TrNxNa9zJPjr31GRtyNak486yhiVvAbgLwF3F42cPNTJKMGrAFW03m28PRywF8PN07hUREfmwUyFJpIcbcM6wPNRtSm25AtnuPW56HONrYV9oaByICjhUpPZFeEr1JUfmWtaNRPxZa2rduKD096Eb0c5cPGo0gQsC04O1II5rqqY2/iwsjhexvPCCUMDStiQzksg0C0m+Oy28jmS7Nm9/6+V0Yne14vGzRwMMfEYwazGza2pXVYY+I58uL7Rk2aFT29Kb8dM73lvvQeBFhBSSDO61Favn/qELU0qIGdvcLr3PndH/J8M3Rk9r3PGSj1e7dm3Z3K5xZ9mq2zdjX1GpYFhBdu7g0y52zrsMhssIjEx1CRyBUyeOmn3MA2tv39Ge/kVERESFJJHuZgD2AMgNapDbr+8xAFLc98IGZ3ZD6G6wG4+H7jRCREqPzh9ThcZfpRIul5GoI5YAHpjnoawm/00AG83ns3D+Rmv1H18w7fE/7m/veVYUfnoRy6umrg39Eg8AZtaXId8NjYlnJMVbWv7C7GwL+WJ5RGn1yGuqStb9JFkObdG5G8OuG9BQV7GpV2w+a84VhZ7rB5QnK7Tsa9k39Hh6C5o1loqgU/mS3NUr3lvvYcCLYT9PZzYMQLcXktDeZczBcdL63DXFm/+S4+UaAwYtEkcURsuvWV5f2a5xx4Gh4w4MDR3Z9LpuU10zNmEtgLUAKgG4SRPm/At9+zSJf022rC77CJwPoCHd/kVERD6stEeSSDczWOieQJGsSEp7ApUuvvTsZMuxeoOqssZ/AklOCPI4I9V4NByyDwaPBfgJOtxMuDud513d9qqBZ4bFa2mN/09K/ZKBsyAAAL5L+IVt0YzfvwzD2iSxKydPHp7yLsKl1fmXkvxiaCOz1anG625M8ozivp/SM3IWPFMFAJxLvypLprwc9eD7esF7600s2VhCfiLVWEXjYp8uHD/n5uLxs0cXRMvbN/uT4Xs1WYc20W/TTZqfu/9as+hlMsm4A1YOHz455XGnODrnUiB83DFD4LhTcGXZUYXj5lxcPK58UlE09u9F0Vhd0fjy/5ekW3/Fyrl/WL5q3nda8c5HYfZ2aP/k2UniiYiISAKakSTS3QzbweB9f2gcBeDJpHG8SHkm0+pOZngsbAkXgXEzl448d+Gt654NizNt8ajTAHw+rE1LS0vtIS8FH1MNwMuKp/hFjaH9EpYTdM0My0lcFnL36Ud9LPcbABYny6KgAB6BBWFtzGx3c7ypLlmsnsLMBofN9qK1pvaMXPgz8sHAZ5SMGdLaT6w3vLfexPf9h+m5uQws1FjxDePKau5bPf+ZJKEIhyWOOB3w0BdAcTT2uoEbYbYRtI1+vGXVijULX0x4s+9aw3915wfOSm2PdD93AOADyx2Cxx2Sp5874LhvbEhl3EGBZ8CC8Nl1tjtuOGjcKZow52oAJYSdBXDQ3lcPqnoOA3Bvsv4B4P76mp1F0dj/ECgMzIEMLTSJiIhIYpqRJNLNSLwRdt3Iin0FkUCzqkdcB9oNmc2s+/h+y/eStXHkT2cuueS8oOujKxDJ8rCCDD7JzgzrFs148v/avkZg6/9n787j5Kjq/f+/TnX3bNl3CCFhXxUEZA0quEFw9wcqiCzq9d6LXwKCRECvol52EAEVvYgaNlGuV0QlLKKsQVBE2XcCJIEEQvbM2nV+f5zpmZ6equpluruqe97Px6Mek3Sdqjo9tUyfT5/zOZHHJfPeYnU77bL9jwT2LVIstCHvdXbdiBvyGF4Py0ULLp37Hc4Kf46fdsHem239rrl3YMyB0VUxV3z/Kw+/VqS+yWFM9Dnyip+jYw89/UgwkecoKthXM8383mJw7W3nPQ/m12HrDSaV8tI/KNbT5th5px81rJehMdOMRS1nKwAAIABJREFU4SDjmS+Dd1nWmvAv54wf2SPJGLNl1Pp66OzJ3mht9HPHeOaiY+ad+R0iPj8ed9Bpm3Uctv0dxhD53DG+ueLa284Z8twxff4TWPuuwSBS4UZml2Pnnf7ZqP0OKQ7B++nn92WXlLovERERGaRAkkjMLEROZ2yMGZdJ22tPOGuXsYXrvnrhbmNOu2zuN43xrqtestb4XXTyg49i7e1RZYwx26ZS6QdOu/SAExd8f+6O9CeE+dKX9sqcdtkBH9xn8txHjOGAqH1Ya38+7DXsI5HHhfO/8r39twhbv+DSAz5njFfYy2n4sT3aw9adf/rDa8FeGbkDYzzjmf9aMHnun067dO5hJ162R26ojTnl4n12WHDpAceb9tZHjDEHR9bD2vWdbDyvWH0TxY8+Rxhz/jHv/XroOTrukDNKOkfY8HNUM8383mLSR9+51trQnjrGcODbZkx74OhDF+wYtP5z8854D8aLvB8N9urr77jwudAC1q6J2t5aPnrMoWcePW/eia3HHXRc29GHnPGuYw8985yobartxj+dv9YWe+6A5xnzX8ceduafPnfoGYflDfEzxxx2xg7HHnbG8baj5RFD9HMH7PqNxh/23PnF7ec+jeGWqC0N3lXHzDtzXpF6csyhZx5t4YMRdVjRffuLDxbbj4iIiAynoW0iMctm7a3plIkclmYw+4+dPOnlr10295cWnjfGtljf7GA8Pu5y/jSfPmvOTGMPwpiW8FKmw/PMZQBfu2zuOgwrsWYrTAnPNmtXdJm+4T0VjH2kyGxrUzLp1D9Pu+yA03r87KJLT35wxYLz58702+zeKc87g+I9kfoPQ2gwAGCTXXFaBzMOxJg9IvdjzMHGcHAHY/jaZXNfsZjxxjCxlDpYrLW+Pf7ykx95o5TySWExj0SeIWOm0MY/jzv0zNO6e1n0yzvPWfGZDyyY2eJl9vZS9oxivXUG9kP0OaqFZn5vcbnulvMfO3bemb8HPhpWxsBeKZN++NjDzvyjtfwD3zxtPH+mMeb9xfL8YG0v1v9uVBHfsCJyTjRjjDFcM8OO+6ltH9eS7h/f+Nl5J5533aLL10Uev4reYP1p0+34A40h+rmDOTjlmYPHAMceduYrYMYbSnzuWGsx5vgbF50T+NyxWS42KT4UfnDT6sEtx877+l2Q/am15kV6vFf6Uj0dqXR6pme9HfH4koG9Iuvh87MbubGinFIiIiKjnXokicTs4TWLF2Mp2pA3xkzGmC8bYy4B73zjmS8UBpGsZWntalpfF59038O+NQtK3sCY8WC2KyWIZK3tzPrZj10+/8FhDTRruc1a2xl9KKZ6xvt5Wyrz+oLLDuwyHWZZyvNuosQgEoDFzIlaf/n857t97BFYW3oj0pjZpQaRAIy1Z1948uLflLz/hDCm5zZLkXMEU/HMz1tbzevHzTuzqy2TWealuKnUQAuAhchzVAvN/N7iZPHPwtruqDLGmDEG8ynPmPO8FDcZ4/2oaBAJsHBZ/5T04bJ9kfnc8irROnTmtLGzStquShYturwbeo6wlpKfOwYzu9QgktvAnL3wlrNDnztX33bOX7D2+uK74SBjUtd6nrfYa2NpS6bl2ZTx7jIePykWRAJe9v2es0uus4iIiAyhQJJIzO46iz6sP3/ke7KrbNb/SPFyjePCk+67FGuvruY+LdZaY4696OS/Bg5puHD+4heAkgNYxoTnOoLwGYMM7HLqRXtNjdq3q4s9ylq7vtT6lM5efv5bi79V/f3W3sJFF75gywsyhp+jyFmdzC5HHnRq5DmqtmZ+b3G6etF5j2QxR1hLXzX3a+GqhYvOKXq+rrn9opXW8kS5+09j6xpIAncN4tujoPrPHd/ayxfecnbR587GRc8dYy3XVfv4jl2f7fM/fc3tF22szf5FRESanwJJIglw/kmLbwAqnjXLWvtWts9+ZO3a7meLl24s58+//zgLVfvm2Fq+ceGJ90X+ri+Yf/8PrOXWio8BWWvtV6xvvxJayJBOtbZ+qti+zp+/+I++6d0dayOn5i6jcn1Y/4TzT7x/PmfhV2WfMbh60dk/sIzkHNkslq9YE36OjCGdaWsreo6qrZnfW5yuWXT27y3Zoy30VGN/1tofL7zl7H+D0u4ja+z3yz9IPEm4F952zh+zfT27W0tVnjvW0metf8LVi86ZTwm/rxu5Mbtw0dnH+HBNNY4/UA9Y05e1H7rm9nOVG0lERGQEFEgSSYgX77nvSN/nAkt4UthAlj/2ZLvedtFXFkcm7W5g9oIT7/uGn/UPB16seCeWu/uy/nsunH9/SQls12/kKOvbq8o9H9byHH72kAvm3//9jRv7biaqB4T1Spp96KITH3rp/Lfuf4/17ZnWMoJv0e1dfb5/wPnzF19R+T6So3dd9igLV0UlUg7xHD6H/GLR2d+33dwc1UvF8yh5hqhqaub3FqerF533q6zfu5uFP1W6D2tZaa1/2sJF55wAlHx+Om957ufW2v8t61iYuvdIyrnm9oteWrjo7PdY7JnW2oqfO9ZyV5/NHrBw0bnlPnf8q285+zjr+1+02NKGBkbWwy6yXbzt2tvOvXek+xIRERntFEgSSYgbbyR74Un3fc1ae6i13Iq14d/aWutj7e1+1j/8/Pn3fbihpm6v0IUnL/7N6sc6d7L4X8bycKkBHmtZbP3s+y+Yf99BF5+8+J5Sj3fFGfetvuCk+7+I9fez2L+XsMmz1toT1zzeuesFJz1wJ8APz3xoFXBX2AbGcMBXL99n65IqdBb+BSfdf67fvW5GFv9zFntH5DXSz1o2Yu3vfT877/wT7z/44pMX/62k4zWA6+87b/XCW87+ovXNftYWP0fW2md9y4mPrXhj14W3nnMnwNV3nrsKE36OgAM+98GvlnaOqqiZ31vcrr31gmcW3nL2B7D+J1xgp+QhXM/5vv8fpnPZnIWLzr2IMoJI4HrZvNy5+EgsX7HWriq6geUxY3mqnGPUgL/wlnPO9bM9M3zffg5r76CEHkXW2o1Y+3uy2XkLF5198HW3nlfpc8dfeOu5Vy285Zy392E/aOHWcoKrrh4s7Ovrm7tw0TmHXf3ns5dVWA8RERHJ0zTThYs0m1Mu3nvLdEvLB41lNjDbGmPBf9laXjZk/3TB/AebJrF2JU68bI9p7XR8GsyHjLHvBtMB/YETw1+szV6/YWPq1ivOuG91FQ5nTrvsgG2wZkc8djSwA9aMAfu6tfZV37N3XHziA09X4ThlOfmSvTbPeG17eIYtgdkWs6XBZn1rVnr4K3zD412svPvy+c9HJhluEubYeadt49v0jh5mRww7WOPOkWd5lay94xe3n1v3c1QlzfzeYnfELke0dMzZ9iBLagew0w3MwJhxWJZh7BKyLIHskoW3nf8UJQ5jK4F39KELtveM9w5jvd3xzFbW2jeNtSvxWGZ8+5eiCbxjcvQhZ25ujN3DwJae8Wb7hi0NNos1K63xVxhrH1/Jxrtd4u7qO+Z9Z0zx02ZOythZeGZLY9nSYmZhrMVnrTFmrY99AcvfX+la/ORdd91V1bxYIiIiokCSiDSor11+4K+BI0ILWOtjub7HN9+65Cv3VTwkTkRERERERAZpaJuINJyDziJtrT00spAxHp45OpO2Dyy4bN/Y8oyIiIiIiIg0k3TcFRARKdeekw/cFewTFvsMPs8AyzFmM+AjxjA3v6zBTMdk/hfYL5bKioiIiIiINBENbRORpvK1S+eei2dOH7Yia+ecf/L9r8RQJRERERERkaahoW0i0lS6/a7Lgl7PGrNXvesiIiIiIiLSbBRIEpGmkkm1bRf0ugX1RhIRERERERkhBZJEpFmYr10+d54xXDN8ld308Or7/lX/KomIiIiIiDQXJdsWkYZwwlm7jB07ZdIzYNZi7VqMWWtgHdheLJsB24GZHZj4zXLKXWfRV+cqi4iIiIiINB0FkkSkYRjMTGAmxgx5NXTaAGt9a8y5F8y//yd1qJ6IiIiIiEjTUyBJRJqOxfaCuRaf8y84+b5n4q6PiIiIiIhIs1AgSUQaQt/y9m5/sv2WZ9kej9kWOoB2LGlgOYZX8HnFwiue5fbzT75PybVFREREREREREREREREREREREREREREREREREREREREREREREREREREREREREREREREREREREREREREREREREREREREREREREREREREREREREREREREREREREREREREREREREREREREREREREREREREREREREREREREREREREREREREREREREREREREREREREREREREREREEszEXQERERGpmfy/8za2WoiIiIhI01AgSUREpLmYgp/5bMFPEREREZGypOOugIiIiFSNyS1HvX/BxzKZ9LeBra3lXz09Xafd8OfvPYiCSSIiIiIyAuqRJCJxKXz+qFErMjK5IJJ3+Hvn7zO2bdy9gDe42q5/c/XSnf/wwNUrAB93z+m+ExEREZGyeMWLiIhUlcE9e0zBkntNRMqXfx+lW1Otn2TY33gzbuyYyYcAKYbegyIiIiIiJdPQNhGpl4Gg0fFn7DF52mYdF2L4iMF0+1n/mvsWv3LWAzcu7c4rr54SIuUxuCBRxuJPCSrg+3YakGGwN5LuMxEREREpi3okiUg95Pc8Sk3drOMXxjPHGmMmY9jcS3sL5h4w5zsM7SkhIqXL9UZKAS3W2tagQr6fbccFklKoR5KIiIiIVECBJBGpFwOk9nnfFuM8w6GFKz2PT+IauBpyI1KeIYFaIONjW4IKWt9vZTCQ5OVtLyIiIiJSEgWSRKTWhuRuGTe1dQrGDH/2GCYCLbghtwokiZQv1yMpgyW4R5LxW3H3mIJIIiIiIlIRBZJEpB4GAknZbr8jsIQlw2AgSb2SRCrTf6/ZTOBKO6Q3kj4DiIiIiEjZ9CFSROphIJDk99rgQJIhDbQydMiNiJQmv+dfrmfSMBajHn8iIiIiMiJqrIlIreU3cFN4tIWUS/cvSrgtUpmBe8YYEzi0zRjThu4tERERERkBBZJEpF4MkPLSJjAJsHEBpPwgknpNiJTPAMYY0x600lMgSURERERGSIEkEamHgcCQ55nA3C0Y49E6MCW5iFTOeMYL7PlnTCoXYFKgVkREREQqokCSiNTSsIZqpiUV2FMCYIvNx7SjBq7IyBlvbNDLnueNqXdVRERERKS5KJAkIvViANPalg4NJI2b3poLJIlI6UzBv41nTEggKTWOocFa3W8iIiIiUhYFkkSknkxLiwntETFpcnvwjG4iUoqBoJBnUsGBJMy4oPIiIiIiIqVSIElE6qqtLRMaSBo3vi3XyFUDV6Q8Az2MJo+d3No/O9swXio9Ac2KKCIiIiIjoECSiNRa/gxsJtVmxocV7Bg3MOwG1NAVqciMadtOCVvnGTOx/5+Fw+FEREREREqiQJKI1IsBTCblTQgr0NqRnoCSbYtUygBm4pgZoYEkY7wxk8dObssvX5eaiYiIiEjTUCBJROphoLGaaklNCivU0pKZzPCGrRq6IqUxgBnbNm56VKEtZ+w8Hd1XIiIiIlIhBZJEpF5cj6SMFx5Iak3lAkn5i4gUNzAktL21PTKQNH7MlBno/hIRERGRCimQJCL1ZFIZb2rYykxraipq4IqUozDXkZdKtc6M2mBMx4TN0X0mIiIiIhVSIElE6sHgnjdeKu1NCyuUznj5Q27UyBUpzZBefJlM6xZRhdsyHbMY3utP95uIiIiIlESBJBGptSGN1VTKzAgrmM4YDbkRqcxAsDbtpWdFFWzJtG7ZX1b3mYiIiIiUTYEkEaml/Iaqt/NeUyd6nhkTVjidSc2kvzGMGrki5TKAl0ll5kQVSqdatmLwHlPgVkRERETKokCSiNTaQGN1q50nz44q6KWYstnsse2ogStSjlxvJLPVFrtMNJ43OapwKp3emqGBJBERERGRkimQJCL1YAAzdVr7ttGFjNntXZtvg3K3iJQq/17xttts112KbZAyqanbzt5zKgomiYiIiEgFFEgSkVrJDwQZwGsfl44MJAFMm9G+HYPPJjVwRUrjAd7YjslvK6XwNjN2ejtDh5DqXhMRERGRkiiQJCK1lN9I9do70jsW22DchJadyBuqU7AfERk0PFjbOmaPUjYc1zFpT5SPTEREREQqoECSiNRarrHqpVtTuxYr3NqR3hVIoSCSSCkGgkhAKpNu3buUjdpaO/ZleCBJ95qIiIiIFJWOuwIi0vQM4M2dt8UW6bQ3o1jhlpbUbrSRomugkZuteQ1FhgsLqiQt2OLhAq+pg3b/xDs8z5tSykaZVGaP2ZvtOumV15/oZDCg5JOs92fLfF1ERERE6kA9kqRRGC0NueQaqKntdpt24PDTOpznmfEf+8xOu+Max4VTlGtprKUR5a7bIddv3uIlZEkVLOnpU7f8RMlv0pjMHtsd8BEgg/tSKWnvL+z3nn9+RERERCQG6pEkSWUKfkrjyD93A43BCZNaP1DqDjbbauwhwIMMNh7B9UJQT4TGkrsWbMHPJBoSAP3cIafP91LeF8FsY6Al5rqNiLU2a4xJFb4+afz084477OvnxVGnCmyy1j7Z5/dcct1tF/0a13sKkn1NiYiIiDQlNdIlaQYac//x9d0365g85jDPYwsw6j3XQKy1xlqMtZhsn5/O9mVbxoxrOcF4pqQGuZ/1V2za0HddOuP1eikv63mu0WiMUaOxofi9vs/LG1b2/O5/zn94A4PBwKSdx/wgUuqYQ06/2kulPh1znapm+Zsv3TRz6tYfj7se1dLX13vWtbdfcA4umJTUa0pERESkaSmQJEkyMGThlIv3/0KmJfV9oC3mOkkNWaw1GD2Hmt/qro09R156+kN3MrTxnxS5oVKpz3zg1M+3ZdquiLtC1bKxa92T/3f3jy/4zPtP/l4m1TI57vpUib9u4+r3/9/dP7ofl0PNMthDSURERERqTL08JCkG8pHMP2/fD2VaUj9GQaSmt3pl59+7NvYti7seUnOTWjsyv/3CmbvtxOCMfEkJIA70RJo0aVJ7S7rlm3FXqIr8J1966IZstrf75defvTHuylSRN6Z9/Ldx+Z2Sdj2JiIiIND0FkiQJBnLpTN2Rtrb29GVxV0jq45F7X7/lhSffWhR3PaT2jDHtE6eP/T6DiZ2T0PgfyIkEpN+322c/6Rlv85jrVDWvvbnkhideevBxoOu+f/3utrUbVt0bd52qJeWl3nXoPkfuxtCk/CIiIiJSBwokSdyGNOSOOGrvw41nZsdcJ6mDN5Zv+Mvf71r+1B+ue/bODet6no27PlJ76ZT3vs+eslvhjHxxM7j6ZNpa20ue9SyprPW7u3o2Pf/c0n9edNtD110PdAKbgM7f3vPjC5eufOFnPX3dS621vTFXdcTGj53xSVyvpPzZHUVERESkxjRrmyRBriGXbh+b/kzclZHaW/1G1wO/vPyxK4BesvCbK5849/Av7XrGmHEtO8RdN6mtKdM7jgKeYDBXkiGefEn5QezUmDFj2lOpzMFBBV9a/sSP7v7nTXeSzNnnCoMnFugDeoHu/p8+7n22/OnvN9wI3MRgr7D87ZIkVzfvw3OPP3bqhJkfKSzQ0tJ6CHAe7v0mMfeWiIiISFNSIEniNKQht+3bJk9IZ1LvCSr41spNd29c1/NaXWsn1TLQWO3uzG585fm1T/3tz8ufxjVws4B5fcnGrh+c+dCp7/7oVntN32LM1i0tJj8/lhqGDWji1Padxk1sfUfh6y2t3jzgLNy594kvkAR5z58Ddv7YnsaYsYUFrLW9jzx37wMM1jfJ085bXD1zQaRuoIfBQFJr//9bGTrEMGmGzKL34tLH7wkKJKW99K7bztp10gtLn+jBBZNy2ybx3IiIiIg0DQWSJG4DDbn9PzBzf2NoLSzg+7b7Vz94/Mp1q3s2oameG1GuYZebWakX15jtwTV6wT2LWu65eclfgb8ztIGrc904BoLDu+83Y86hn91+WCAplfa2e9dHZ8269+alL+Hu/TiDSQPDaseNmbhfUIHO7o3PrNu4ajXuuu1jcJawpF2XuTrl90bK75GUArpwkxi0kOxE1QN/F4D0ky//7em9djp4TSqVmVhQztth1h77vrD0iVtw71NBJBEREZE6UCBJ4pTfIykzblLb/kGFNqzpfnzd6p4NDDbiNISh8eSCSFkGg0jdDAaSMrjGbW7J5dCRxjGkh+G//rrixfcevs2KltbUjMKC2+08Zf97b176KvE2/ofkZ2tND+89BbB+05p/4XIMdTEY/Mw9g5IiP8CexT0rc/dZbtiXh7vPuvt/FuYWSlIwaeC84HpPtXV2b3x8bMfEAwsLdrSNfwdwG0PfS5LOjYiIiEjTUSBJ4pbLj5RqbU8HNuRWrex8BJcwNvftelJ7BEiw3HnyGewtkd8jKXcN5IJIuZ4SSUnGLKXJ70WSAVrXvdX16NTNx3ygsGD72Ja9gP/rL+9R//vZ5P1MAelUumWnoIKr1698FBdI2ogLJuUC2pCsZ1B+r79cMCm/robBnkq5YW1JTFI95AsGoB3w129a+1hQIKkl07YL7v3oeSEiIiJSJwokSVzyG3IekM5kvJ2DCr62ZP2jwAZcMCn/G3ZIVkNOwgU1cHNDbvJ7H2QYbBSqYdg4BhIj0x9EAvrWrOp+LCiQ1NKW2pn+ADKDuW3qLXfdeRMmTG9PeemtgwotWfHMEwwGkjoZDGZDsp4/+YnAc/dafu/NgffL0PsrafdYfiCphf5nxNoNK5/afOqcYYXTXiZ3LRX2rkrSuRERERFpKgokSZwGejC8bd/pU72UN2wIjIXso39d+QSuEbeRoTk/1FBoHIW9JXI/c+cw17BNkexGroTL9e7J4PLw+MtfWv/Edm+bPKxgJpPaifgb/wPJnHfa8p3bGDP872HW73vr9TdfXIHridTJYCApic8fW/DvoGB7LnCbf28l8R7LXUu5+mZefP3pp3faau9hBT0vvWVbW1tLV1dX7nrKDiskIiIiIlWlQJLEaeAb8h3eMSlw2vferuyytau61uMacLk8JbmGHCSvMSfh8vO4FOa5yl0L+b0RpHEUDkfygdQ/H3jtmXd9eE7WGFL5hb2UmbrTXpMmP/3w6k3EE8jIr683eey07YIK9fb1vox73uQv+cPFkqYwmJT/7/xAXf7vPKmBpNwzPg30rHzrlVV+tm+Nl0oPSbhtDOndtn331g89cfu/UPBZREREpC4USJK4DJneefzEjsCGXHdX9mWGJmfuRkPbGpkN+ZlrOCa5l4SEy52vXC8SD2jpXN/X2duTfa2lNTWrcIMdd5+23dMPr36NeIcwGsBrzbRuFbSyp7fzVQaHYeYCSEnP0RZWr6DAUlT5OOXqlj8Utq832/tqa0EgCWDi2GlbAY+hhNsiIiIidaFAksRpoEdAa3tqePILoLuz72WCG3J+UHlJrKBGXVSPCVAwqRHlzl/unu3t6c6+EhRIGj+pdSvgfuo/tK0wP5uXSbcNqx9Ad2/3UoY+c2zB0siSXv/8obBZINub7V3WSvvbCwu2Zdq3RDnVREREROpGgSSJQ+GwilSmxQtsyHVu7F3GYADJz1uaoSEnQxWeT53fxpILBA1t/HdnlwUVbmvP5Br/cQxjHNIjMp1KzQwq1NWzYRlDnz2FPemkNgoDdlkg29PbtZz28cMKt6RbZ6G8aiIiIiJ1ozwkEpchOUrSGW/zoELrV3flGnL5PQJADTmRpCnMgZUFsl0be5cHFc60pWYyvPFfzyDAwPMn5aWHJfoH2LBp7WsE90aS+skF8bK9fZ2vBxXwUpkZDE/Sr4CSiIiISI0okCRxGggmpVLe9KACa97oVkNOpPEMBJM2behbEVQgnfGmE+8MfQPPH89LTQ0qsG7jqhWoF2Sc8gOTfmdX58qgQikvlbuWFEASERERqQMFkiQuQ3okpdImsCG35IX1+Q25JE65LSKDCnsl+RvW9gQ2/tMpbxrxB5EM4BnPmxxU6OU3nss9fxREqr/C4W3+hq51YYGkKShHkoiIiEjdKJAkccgfxmK23HbsGGNMe2Eh69ueV59dvRYFkEQayZDG/6qVmwIb/17aTCaeQFL+sbzZm+80yWBShYWs9Tdt2rS2BwWx4zYQlFyzceWqoALG8yYSb+82ERERkVFFgSSJy0BvgFnbTJwSVMD3bS6IpKElIo1lIJC08uX1gY1/zxsWSKp3MMkAZvrELQJ7I2V9fw3NN1NbIxq4lt5YteStoAIeqVwgSUEkERERkTpQIEniZiZM7whuyPUNNOQURBJpLAO9SF5+Yf16a21fYQFjTNvkzVraGPp3qO7BpLb0mIlBK62fzQ9k5z979ByqPwvYtZvWdllruwpXGkN6+sStx1LQ27WeFRQREREZTRRIkjgZwHR0eBOCVvq+XU/wTG1qyIkk17DcNtZnfVDBOdtMnEB8s2wZwLS2dgyfTx7IWn8D6o0Ut2E5t3yb3RBUcOqkaeNRAElERESkLhRIkrgMNB5b29Pjggpk+2xhQ05Ekq2w544P+NmsDWz8T5jRkQsk1Ysp/JnxMoGBJN/P5gey9fypv8JryQLWt8HX0ti28QokiYiIiNSJAklSb6bg3yaV8QIDSX7WV0NOpDHl9x601rcbgwq1d6Rzw5HiaPwbwPPS6TFBK63vb0TPniQY0ivM+tlNQYXaWsbkD20TERERkRpSIEnikD+UxaRSXkdQoWyWTtSQE2lUg71IfBvY+G9pzXRQ/6FtQ54/aRP8/PFtNv/5o+dQ/NwwSWxn0EovlWonvmGSIiIiIqOKAkkSJ9eQSxPSkPNzDTlQY06k0eQHkgIb/62tJujer2tAyfNS7UErfZfUufCZo+dPPAbOg/X9wGsplWrND0rmKKAkIiIiUgMKJElcBnOVGK81qICfJaghJyKNxVpru4NWGM/kZm2LI9F2/79MS1AB3/rd6PmTNNa3tidoRdrzWlDgSERERKQuFEgdHdhnAAAgAElEQVSSuBnPkApc46YMV08kkcZTkNfGZoMKeWlTeO/XO/G2MQyrQ//KgecP6PkTp8LhhYHXEgz8HdHwNhEREZEaUyBJ4uQ+6HsmHbTSWvrqWhsRqQWLNb2BazyTId6GvzGEPH9cIEmSxYINvJYMXu5aEhEREZEaUyBJ4mYMBDbkfNeLIb83knoFiCTfsJxC1gb3SAq79+vJesF1sHr+JMHwa4mQ3m3GS6NAkoiIiEhdKJAksTMhDTksvagRJ9LI3NC20Ma/SRHzMKSwHkkw8PzR0NpkcOchZJgknskf2iYiIiIiNaRAksTNGmMCr0ML+TmSRKSxDAaBTfDQNs81/uO8x61nvMDnjz80R5LEa+Basobga8l4cV9LIiIiIqOGvrmTejO4AGYGaAPGAROA8UAHbqhLH7ARWAesBTYAXbgeAj5qKIgkWf493o67xyf2/+zAJUXuxd3jaxm8x7tx934t73E9fxpLkq8lERERkVEr9vwUMmpZ3If8PlxDoBvXYEjhZuXp7n891xjw46mmiFQod49ngR4G73EPd1/nGvv5uYjq1ejX86exJPlaEhERERl1FEiSOOQ+5Ocacl24BoHf/zPb/1oXwxsHIpJ8+VO19zB4j2cZeo8XBgCg+vf5OGB9QN30/GkMQdfSOFzPo3pfSyIiIiKC+/ZVpN5Mwb9zDYU+Br9tzjUMCocoqGEgSdUKzMINiRrtTMFPGAzc5IIBuaWHwQAAVPce3w34G/AG8K+AOun5k3yF19KewE3Aa8A/qd+1JCIiIiL9RkmPJJubGSiA6atrVerGGmAzYCtg6/6fY4HV/cubwFPAc2DqPWwj/xvm3rx/585TrlGXG3aSRbkuJLm2A64A3oPL5bIeuBr4Gi53S6OLeH6GyuW28Rm8x/sYfo/nho/VotfPHsAdwBTgZ/2vLUTPn0aTf752A27A5bQ6D/c37XJqfy2JiIiIyOhjl4O1IUuTzVxndwT7a7CdEe85f9kI9qo6VzLXyEwxmPS2A9coGNf/swPXwyNDZQ1ZkXrYDhc4sgHLgzRHr8/lBL+/UpaPE889vhfwVkFdssCx6PnTaHLnax/clyCF19jl6HyJiIiISPWNhkCSnQP2Z2D7Sgwg5S/3xlDhXOMgv0GXAVry/p3qX29Qw0CS6VaiAynz46ta1YwkkPQx6n+P701wwCEXTDoMPX8azR6En1OL652k8yUiIiIi1dTsgSS7P9juCgJIcQaScvIbdIWLYWjvgWovzcDD9b5YgAtqnBxvdUaVDC6HTlQg5Q+x1a56RhJI+iil3ePVsh+wJqI+f8X1OMqpZ92kctOBZ4i+1k5B50tEREREqqeZA0l2LNgXRhBEijuQlM8Q3Hh7kMobslHL5Jq+m9rZCvgy8H8MH77z9RjrNdrMovg19q/QrRvHSANJ+cLu8WrYCZfoPKwujxJ9z9eybjJyWwIvE35+feDo2GonIiIiIs2mqQNJV5UYLPLBrgabTXAgKYwCSUP9mPD3pEBSfUUNt7HA9fFVrWqqGUiqlTRudrawejyPm3xAGtsOwArCz3MnsHtstRMREREZJUbJrG3Nyn4E+HxEgR7gMuAXwAtguvoDZ5OBqbgZcPbHDdERkfL9gujhhD+vV0VqaD7QHrH+m7ik43H6FvDOkHXLgPcDr9evOlIjzwIfBO4CJgasbwN+hbsWNtSxXiIiIiLSfJq1R5K9OeJ9rQe7S9w1rBL1SBpKPZKSowO4n+BzcU6M9aqnxcTbI2l/3LTvQcd/E9i5DnWQ+joA2Ej4dXdNfFUTERERkSbRjIEkm+kPFoW9r/+Iu4ZVpEDSUAokJYsH/CfwW+BhYCGuB8xoEWcgaSxu2FrY8T9d4+NLfL5I9PP9Q/FVTURERKS5aWhb49qZobMP5dsA/KSOdYnTSlxejEr41ayIjFo+cEX/IvV1CbBtyLpbccOcpDldhRvavX/I+kuAO3BDvEVERESkihRIalzTItY9CcbWrSbxOh64Je5KiEjdHYbrlRKkEzihjnWR+rO4noAPA6mA9dvj8pddUM9KiYiIiIwGTRJIsh4wHZjSvxhgDbAUzKo6HH8zYDZuVqBJuJmc3gCWgHmtRgedGrHu6RodU4bycOdhc9y5nwFkgfXAWlxi2Fqd/6RI4xItz8Ddg+3AW7jcNEuIJ8FxG7AV7p6chjsPjwFdMdSllkb79fffEeu+A7xUr4rkmYS79ubgJjF4FHiO5uv9aHAzqG2Lu96exc2mFmZLXGDHBx7BXZ/V8C/gB8BJIeu/geudW63jRfEYHFYnIiIi0tQaOJBkZwNHAu8GDgTGh5RbSnTQpdLjbwkcB3wC2COi3GPAIuAiMG9UsQIdEes2VvE4Mmg2MK9/2RsXOCl2D70B3AtcC/yR0oZZHAycHbF+m4h1X6L03CB/xjW0ypXB5Z75CG4GpaDZk3KeAv4E/Az4ZwXHAriZ4Hv4bNzvNGdPXA+FI4ExBWX7gCeB3wNn9f9/pMcvxQLgvgq3LVSv668RHEL4c/dx4OIqHGMscHvA62tx5yDH4O65E/rrVZh3byMukPl9yhtqNwOXdyvIk4T3xip0J8Gz7m0iOJdX0PPnGVzvT3CJri/H3W/5fgecCLya99r2wPeAD+e9Zvv393nggeLVL+qbwKdwAdVC4/qPc0kVjhPms7hzvzsukPsP4CKGPptEREREJF52Z7DXgO2NSDRdzlJmsm3bDvYssJvKPM5KsP9fFX8Px0cc60fVO04iRCXbPqwOx/8S8EREHUpdXsAFXoo5vArHKmW5sczfgwE+Q3Ry47DFB36D68VQruUh+5zfvz6Na7iVWpd7cD14Rnr8UpZqJJuu9/VXrjiSbd8VccxqJTqfGLL/TXllpgG3RdSlcPkJwUGdILMj9vNQGe8jbHaz9SHlg54/j/ev2w/3/sPq9TSuRyC43kqvRZTt7D9WNRwVcZwXGR7cq5ZrIo6rIXUiIiIiyWD/DWwn1Qkg5ZYyPmDaLcA+McLj/RLslCr8LhRIcks9Akn/G3H8SpZiAcUkBpLagf+rwjHX4HptlCMskPPN/nrdXUE9lgM7jfD4pSzVCKTU+/orV70DSbtGHO8VXMCzGsICSX7/MXYDlkXUJWz5O6X1Bk5SIOk53LC9lSW8vwW4YNIzJZRdw/Deg5VIF6lbLa7Dz0ccL7eU+6wTERERaQi1+pauBuyPgf9h8NvOeh9/G9wQkV1GuKPPAP8AO27kdZIGdSUuZ0ijmILrAfKJKuxrAm7IxxFV2NdE4Ke44a3l2hz4VhXq0Iga7forFHXt3IBrwNeSwQWzbgVmVrD9Xrhh0Y2kFXe/RE3ykPM+4AxK6304AdebaKT6cAHXMNV43hRaUEKZr9bguCIiIiKxa5AcSfZ04N9jPH4LcBOwdZGCr+ESju5I9PCF2bjeFKdFHPN0XGMlTNiU1wDvA3tNxPp8q8CcXGJZCZbFnftuXAO9pUj5SbicNQeT/CS8BlfXfaq4zxRu6u5HcMPkKnUMLshVqSNwDd4lI9hHEjTz9RckKihwXZ3qcCvBOXlK9U3csKju6lSn5qYBXy6x7FzgPWXs+wu44OZI3YDLkRZkHu65k63CccDlXiolULZXlY4nIiIikigNEEiyHyQ68TC4Lu134IZY/A33vqbhAjoH4/KCBE0PXKrvAm8PWdcDfBu4cjCZtvWAdwJXMDwhac5JYK8CEzbD2vuoPNfHDpSei+ZV3BTJUpq3cEO8/oIbRvMKbuhTLnmzh+ulcDwuUBjW8+zduMbWXwLWvYTraRPmQMKHZf2d0pNa/72EMl8FDi2h3Ju4+68Pd81vVaT8OFwwY78S9h0mKIhkcQm1F+MS0n+I8MZcCjiFwVxLYa7H9ZwI81Fc4ut6qMf1l2Q7E94r9EncLF71sEXAa9245NGP42Ztey/hw7a2xAVCqxFAqYfCnsDfxCWhvxj3typf4XteiEu4fSzufiu0YzUqiEtqv5zgXmJTgP2pXuL7FKUNocyVq3UvOREREREZZA3Yx4jOObQYbJFGnF0esX2R4X12e7DZkG3fBLt7xLZpsNdFHPuOiG3vKPK+q7W8Ev3+EyHuHEk/BX6OC6hkythuG1wekrC6/78K6/PjiH1+vcJ9BplKdGJdi5uFKqghOJnoRLS55b0l1KPUHEWPM7znVAtu5quwbVaXcPxiap0jKGnXX6F65kj694hjVfPah/AcSUHLPQwP3u9KdA6lHxY5fpJyJOUvF+aVPbBI2TsYDLhkgK6QctUasn5JRF2qPZT1hYhj5Za7q3xMERERESnOHkF0EOTXYFtL2M9IAkmXRWx7bAnHngr2rYh9HBCynQJJg+IOJI3EKYTXvdKk6PUKJJ0VcRzbX49iedZOLbKPP5RQj1ICSQ8TPsxtK9wQrrBtO0qoQ5Q4Zi0rVS2uv0L1fP9R135EUL8ipQaSfkV4j9f/F7HdoiLHT2Ig6VWG9jiaElG2D3hbwb7DZh8sNmy8VPtF1Ccqh1IlvhpxrNzymSofU0RERESKs4sJD4CsAzupxP1UGEiy48GuD9mujC7y9hsRx/+vkG0USBoUFUh6HTcUrNylkgTNlXhHRN0r/ba6HoGkNPBGxHFuLWNft0fsJwuML7J9sUDSs7hGf5SoYMdIG7FJDiTV4vorVM/3/1DEsaKGH1ailEDSTUQPEZ8Rse0zRY6fxEBS4TDo1oiyvw3Y919Dyu5dxvuJ0hZRn7Bh5JXygNsijnd1lY8nIiIikhgJzpFkJxKd4PcKMNUYlhLlYGBsyLrfl7GfqJw1YQGNfxLd22Mm4XlyllG8kZLzRonlkmpGhdtFJUOvpuci1lXrW/ha2As3tC3MpWXs6yLgAyHrPFwvgtvL2F++Llzy5TVFyi3B5UgJMgMXXGxGjXr9BUkRnqtuPbC2jnUBN5TyaAbzUwVZicujF5QAvVgesaTZAPys4LWoZOFBQ/d6QspWawbZLly+tqBn13a4QFNXlY7l45J4n4RL8r1d/2tP43JH/bxKxxERERFJnAQHkjiI8OEC3bjknbX2roh195exn6jG3Jzgl03EjG4A9niGf6jPuRnMCSXUS2ovqtEykgTwtXZQxLoXKL9H0jOEJ9U9kMoDSadQWoLlqCDDZhUeuxE06vUXZDLhuXSW1rMiuKDKJ/p/RrG4BOlB11gLLoDSKDPn3QqsK7HsGuBPAa/b6lUn1FKCA0kpXND45Soey8flZboE17OyD5dXTkRERKSpJTmQFBXEeRbMijrU4cCIdZ8He1SJ+4lKkBvV60OSrR3XQ2J3XA+x8bhZsvJz7lTrm/Z6C8ndBcAtlN8gfJzwQNL2Ze4rX6lDTK8BHg1Z99QIjh+nZr7+gkQNX3y1brVwlgHPl1i2HsGTegjrTRSkt2a1KG4pbkhnkGLDaEei1CCbiIiISMNLciApqpfAkjrVYZuIdcdX6RjVzushtTUV+BQuiepcmquhnm/ziHWV9P6I2qbEXGcjsrh/aXSj5foLEvWsrHePJEmuqGuhloEkERERkVEjyYGkqJ46dQgkWYMbSlFrUfk1pLhluGSy5Sp3+EEHbpaeBQydtahZhc2ABpU12pdFrKvHfdboRtv1FySqR9LKutVCki6qd9q4utVCREREpIklOZAU1ZCtR4+k8dQnh0hnHY7RzL6EG2pVS3NwU3XvXOPjJElUcOf1CvYX1dDviFgno/P6K9e0uCsgiRE1rE5/b0VERESqIMmBJBOxrh7DOVrrcAyo/0xDUp6ZwANED/VqRlH5UKKCvJVsU2zGtdFstF5/QaJy0MyqWy0k6aKuBf29FREREamCJAeSXgX2DFlXj2+fV0es6wW+WKXj6INtsv2U4o34+3GN/Vdww77yv/VOAX+oTdVqajUwPWTdlhXsL6pxt6qC/Y0Wo/X6CxL1rFQgSXKink8KWouIiIhUQZIDSa9ErKvDTGemF+x6gnMqZIA7wUTlfZHGNxeYF7H+ceA/cA35MI02xXpOVCB1dgX7i2rcKb9NsNF8/QVRIElKoUCSiIiISI0lecaflyPWldEjyU6h8gSbUblg3l7hPqVxHBWx7k3gw0Q34htZVMLaHcrclwfsHbH+b2Xub7QYzddfkBXAhpB1E4CxdaxLo5iJ++JjNAkLKr6JAkkiIiIiVZHkQFJUj6T9wZbQm8p6wC+pvIHxQMS6sGF30jz2iFh3PdHBzlryI9ZVqzG9OGLdIcD2ZezrUFzC6DB3l7Gv0SSp119cLK4XVphKhlwmWTZiXSnT2LcAv2F0BZJagBkh6/5Rw2MejJtV8STgQJL92UpERERkxJL8YafY0Lb3l7CPc4EPjKAOd0WsOxWsEuA2t5kR6x4tcR9fqEZFCiyNWLd1lY4R1dPFA04vY1//GbFuGfBMGfsaTZJ6/cXpsYh1I3nWJ9HrhM9AtkUJ2/8I2K961WkIOxM+UccjNTjensDfgT8DFwLfB+4F7qP8npsiIiIiDSPJgaQnga6I9UUaSPYMYMEI63AH4d8KTwauHOH+JdneiFhXSu+Hk4CfVKku+Z6LWLcv1cl99gjRQzs/B7y3hP2cAHwoYv0V5VRqlEnq9RenhyPWfaZutaiPLOFfqIwF9onY9ns0XxCxFJ+OWFftHkmzcAGkoGHu+wN34oZcioiIiDSdBAeSzHqiZxs6HOw5w1+2bWAvAgLWlV2HpcANEQU+BPZXYCsYUmEngg3rgi/J8FTEuiMJH0bWAvwY9+10LTwfsW4rXALmkeoDfhCxPgPcDnwloszXgR8S3kNgE+73JMGSev3F6ZaIdfsRPYSyEb0Qse7buHOdbxxwFdH3ZbMyuPsiSC/wpyof71KiA0WzgO9U+ZgiIiIiiZDkWdsArgEOj1h/Bti9cd8KPoP7ZvAoqtul/Lz+fYY1hj8FfBjsxcBfgKfBvDa42o4DpuDyNuyF6zGyD7AjcCpwSRXrKtUV1ZDfAdeoPZXBZNEp4KPAd4Fda1ivqEASuAbOTrhr62VcUAhc4GEG8A5co3sdrq5hfgycCXSErE/hej58CXgQ11skhZttbC7Fp62/EFhVpEzcPk34+8+ZHrHufbj7P8wzhOejSsL1F+f7D/Iq8E/cNVzI4J7HF5axv6R7FvhgyLpDgXuA64DluN/JsTRfrqhS7Y8LpAf5C/BWFY9lKG14fbMNtxQRERFpBNaA/StYO8KlK2JdCb2y7HfLPN5asK+D7SlSbgTfGtvjI/b7o8r3m0gP4hLtBi2H1fC4B0QcN39Zj2vwdZZYPrcsG0Hdbi/xGL39x9kUsO7GEo7zb2W+p1KX+yl9avrlEfup9eyJSyOOXY3lfyKOnYTrL873H+bbEfuLGvpWrokRx3m6jP1EXb/F/v7shAsEj+R33BXy+vqQYx4eUv66kPJBZVeGlL07pPy+Eb+DUv0gZN8W+GIV9p9vZsSx8pdeEt3zW0RERKQyCf+AYywuz0fU7DXFbCB6Gu1SfAu4rYzy43E9P0bTbDnNaDFu1r9ixuJmMWsLWf+/VavRoP/ABYeKSeMaPe0VHudKSvsdlGMJbgjKSO7r0SDJ11+criZ85sI9aa4kx08D145g+7XAcVWqS5Klcb3RgnQDN1X5eK/jPlsU8yLRs2yKiIiINKSEB5IAzINUnvNlE/AJXLf2kdTBBz5J9RvUknyn4IaAVeqrwNeqVJd8L+ICnPVwHPCLKu3rEdwQlKhZGWVQUq+/OL0A3Byxvtny0nwbFwwp10bgI8AD1a1OIh0JTAtZdzXwZpWP5+NmZyvm7iofV0RERCQRGiCQBGB+CnyZ6FncCj0J7APmT7gP1COtwyYwRwHzqW6uBUm214GPAS+Vud1LuPwYF1OV6y/QJcBZhA9RqZYe4HjgZGBNhfvoxuWueTfRs8HJUEm+/uIUlVvu0zRXbpqXgANxweNSPQnsjQt2lNJzsZFNAi4KWedHrBupk3HDScO8CXyjRscWERERkdLZncEuAttHeH6gV8F+HWxBgtjQbSoIptmxYL8K9vGIeoQtS8H+DuxpYMMSg5ZSB+VIckstcyTl68Alls5G1MXiEiSfwdAExWNCyo4kR1K+abgZurqL1C1/WQWcXcGxJuB6Qj1f4nFexeUumV3RO3NGa46kfHFdf0l5/0Huj9jvs0DrCPYNyciRlG8C8CtccCTqfvsv3DnPCTv/zZIj6cqQfVrgNyPYbynej/udFx73GdykGiIiIiJNKWwmsoSzmwEfxs3Qsjlu6MdLuA/3fwbTF7FxtesyHXgPsA0wFTdDUQr3TeVGXI+CpbjZs54EU2mPDkmG8cAuuFmxdsXlp1nWvzyMG7oVl/G463BO3jIFlydlFa4n3QvAo1QniDUHd+1vibv2J+HyhqwEVuCG1DxahePIoCRff/X2TlyQOSwY802iZyVsVOOB3XCztL0dd88twQUv/szgLI2jwVxcr6ugzzKbcL+j52pchwm42RL3xCXX/gfwO6J7K4mIiIiIiIhIDKJ6o3TiAqvSnDLA44Sf/y/HVzURERERERERSaJpuN52YcGE23E9RKX5nEn0eW/QHtciIiIiIiIiUksfIToP0y9QUKHZHIEbwhd0vlcDs+KrmoiIiIiIiIgk3feIDiZdGl/VpMoOxc0kGXauPxtf1URERERERESkEWSInt3RAt+OrXZSLe/CJdEOO8e/jq9qIiIiIiIiItJINsPNShgVTDolttrJSO2Fm4Ey7Nw+hZulUkRERERERESkJNsBKwgPNvi4nErSWHYG3iD8vD4OzIitdiIiIiIiIiLSsPYE1hEccLgL6IivalKhWcBzBJ/TR3Gz94mIiIiIiIiIVGRv4E2GBhzuBcbEWSkZkS2AZxl6Th9Bw9lEREREREREpAp2Bl7FBRweAMbFWx2pgpnAM7hz+ndgcrzVEREREREREZFmMhu4HpgQd0WkajYHrgMmxl0RERERERERERERERERERERERERERERERERERERERERERERERERERERERERERERERERERERERERERERERERERERERERERERERERERERERERERERERERERERERERERERERERERERERERERERERERERERERERERERERERERERERERERERERERERERERERERERERERERERERERERERERERERGpExN3BURkVEgx/HnTF0dFREREREREREQk2e4EbMGyb6w1EhERERERkbJ5cVdAREREREREREQaQzruCoiINLA08E5gCvDHmOsio9tMYFre/33gsZjqIiIiIiIiIjIizTS0bTJwCvAHYB3uvdwYa41kNJsF/A/Qy9D7qzPOSomIiIhI81KPJBGR8uwOXBx3JWTUmwqcDnwZaIu5LiIiIiIyiiiQJCIi0jjG4XrEndr/b5GcaszEa6uwDxEREWlyCiSJiIgkXxvwn8CZuN5IIjmGwSBS4c98UUGi3LrC7cK2UcBJRERkFFMgSUREJLnSwHHAt3D5kETy5YJIpg9+kIIv4RKt+0AW6AG6gR7rfm4CNvru53pgrQ9rDazJwioLb2bhzU2w8g147cvw5l3uOLnAUWHAKT+gpOCSiIjIKKFAkoiISPIY4Ajgu8AOEeWWAy8CB9ajUpIouSCSB6T6wEu5f3t5ZdrzC+ekAv6d/4FwDG4KwL+4ANRrwMs+vGLhpT54vgeeeRGe2QM2MDzIpOCSiIhIk1MgSUREJHnagCtwswQGWQdcAFwCnIYCSaNRLpCUAjJ9kGqt/jFaDMwB5uQHnNqAdwA+vOLDY1l4pBv+9hL8dXdY1V/U9tcvN5OgiIiINAkFkkRERJKnE/gpsKDg9R7gx7ieSm/Wu1KSGLkORh79gaRuSI+pfyVmp9zyoRZgN7A+PNYHd3TBb8fDgwwGkoJ6LImIiEgDUiBJku6dwNy8/3cBPwkoNx74JHAYMBuXS8QHlgL/BH4BPFRhHbYBPlLw2i+BlQFlNwe+AOwHbAuMBR4D/tW/3AqsqbAehXYEPorribAZMAPowDUu3wSeBm4D7qziMQttARwC7IYbCTEd17BZA7yFe+9/A1oq3H/h+Qe4F/hHmfs5ENir4LU7gCcDys4APhOxr+1DXjupzDrdAzxS5jb5knD+pbZ+iJudLYVrfP8K+DpuKJtIfo+klr6hI9biYgzslnHLqT680AM/vBmu/JQLjiqYJCIiIiI19zWGfpvZU7C+A7icwQ+oUcsduEBPuT4asK/9CsrMAK7vr19UHZYAe1dQh3zzcEGpYu83t3QDP6Cy9x7EAz5bZh2Cln1LOFbh+be4YTzluiBgP58PKbvvCN5TOctXKngfEP/5l/q6ERcMLAyE5vsWw897Z+2rJjHKBZBagQnAzOVwnQWbxMWHJW/C+3BfYHoEzyonIiIiDUI9kqTRZHC9fDYA+wDXEtxDJMj7cQ3wgwjuiVKO/FQU83A9nqaXsN0c4D7gFFxvg3JMA67B9QAqRwvwZeB44N9wAa9K7QtcBew6gn1IZZJw/qX+jsc970SC5AIyZib8dztc3gJjM9DeCq2ToWU8ZMZBejK0TIHWCW5pmwQdE6FjLIwZD2PGwvixMKEDxo2BSe0wOZWXrHuElZwzBRa9AYdPg0UMzixnq7F/ERERqS8FkqQRTcQN6/kzbnKZckwD/oALiLwxgjrkAkmnAhdS3rerLbgeIg8Dfy1xm61xw5RKDZoF6QCu69/X2RVs/2lcwKxtBHWQyiTh/Es8FESSKLkeaD6Q7YTeTtcLEaB32fDeP0H/zv855G/ZDtD2Hpj2Npi2NUzfAmZOh5mTYNYY9+VJOX/7MlPgytNhp/OCZ3sTERGRBqFAkjSivXB5kgqDSCuAm4CngCm4nkJ7MfyD7tbANyg/p02+VuAE4KKAdbcB9wMv4AJeH2T4UDiA04GPl3Csqbi8QFsErFsP/BqX/2kZLsi2B7AnLr/QuIBt/ht4rn+7Un0alxcqqNHwCoM5oJ7EnZeZuN5Xh/b/u0M1XIQAACAASURBVJGsxgUbw0xl+Pl8DRcYLEepeW6ScP5FJHnyg0h9uKHVuSGNfbihb6ZggeGBo9DlWeh91gV9luRt54ELMn0K5uwP2+8IO86CXVthUlSFDUz/EnzgPPh9Xt0VSBIRERGRqgrKkbO+4P8bcEPFOgK23wEXYCrcxxpK780UlCPptwx+AM4tDzE8MTS4D92XBuzDB3Yp4fg3B2xrgd/hhvmF2QzXayto29W4pOSl2B431XjQeTi2yLYGF3R5JmD7pOZIKubggH3dWOG+ShH3+ZfkU46k0cnDfSHYjsuTNAMXwN8e2Bl4G/B23GQIu/cv78AFm/fAfdGyFy7ovA/umbwfcADub9mBwLtxw8Hfi8tx9AHc8Np5wIeAD+P+Rn4M+Ph/wsn3wA0b4LWwfEmvumf4eNwXMrlgl4iIiDQQ9UiSRpTfeF6K+xAbNvvVs7gZ1/7C0EDTBOBogmeAK0VhT6JfAscxPBk4uIDRSbgP47vlvW6A/wROjDjO0QyfMQ7gf3A9orIR276O+9B/Fq4HVr6JwBn9xy/maob3bPkHbmaz54psa3HD95bignpSniSc/7hsARxV42P8BBckFWlEuaBhH+7vSe7fGVyQKTesLWoIm5f3M/e6l/czaEnl/RyyXAHPXwEvtcCvn4RTt3VBqSG63fDudH9ds3l1FxERkQahQJI0sqdw35C+VqTcQ8A5uCE9+U6g8kBSvotx37AW+yD8U+Cygte2LrLN1wJeuwr499KqRhb4L9y30h8rWHcMbirxtyK2fy/Dh3F19+9raYl1kMrFff7jtBWuJ1kt/RoFkqSx5Xq39vb/zOK+0AgbzkbA64WBpaiAUlAQKZ23ZIBMD2Q2wtqgCncPlsvVM1cPBZNEREQahFe8iEgirQQOo3gQKScoH0yuu/9I/BT4KqV9AF4U8NqMiPIfxA1NyJdleECsFGcxvI4dwJFFtlsQ8NqVKIhUD0k4/yKSXPlDGbMM5knq7l+6cEMccz/zl015PzfmLRvylvX9y7q8ZU3Asrp/WYMLHm0AOj0X2BomOzQgpWFtIiIiDUiBJGlEnbjhbEvK2OY54PGA17cdQT1up7yhQW8GvBYVSDo84LWbKO995/yzf9tC747YZhIumJGvCzi3guNL+eI+/yKSfPkJq3M9kvoKlt6CpSdiyQ9C5ZaggFNhgGlt/7Kuf92mdMjQ277hw+4UTBIREWkwGtomjehC4MEKtruV4T08gmbCKsVzwBG4D+mlWov7YJ3Ke216RPn3BLxWODSuHD8HPlHw2rD8FXnexfAP+H8Elo+gDlK6uM9/3FbjrrdaUkJqaRa5nklQ/jCxsEBO4XC43M/CYXC5HkZpXKAqC5hUSCDJDh02pyCSiIhIA1IgSRrRhgq3CxoGV2kg6THKz61icbltWgpeTzH8A/d0gpNTP1TmMfO9FPDaLGAywXlyggIZQfuQ6kvC+Y/bk7gZoUSkPOXmGgoqHxSMKgz65Pco8nBfrNj+/7ekQoa2iYiISONTIElGk6ChZbPqXIerSiy3VcBrK3HDDCoVNiRqCsGBhB0DXntlBMeX0iXh/IvI6BUUXMp/LT/QZBgcXufhEmn3hQWS/OAE4CIiItJAlCNJRpOgQFKlPZJqbUrAayMN4mwg+HcwqY51kNIk4fyLiISxIYuft4iIiEiTUiBJRpOgoWgT6l6L0gQFEqoxU9rLAa+NCyk7OeA1BZLqIwnnX0SkFPmBpIH/m/KH2ImIiEiDUCBJRpPNAl5bXfdalCboA3g1GvxjAl5bH1K2I+C17irUQYpLwvkXESmXgkciIiKjgHIkyWgyJ+C1oKE+SRAU4ArKm1OuLQNeWxVS9jWG55CaVoU6SHFJOP9x2w5YUONjnI7yQ4mIiIiIlEWBJBlNZge8ltRGdFAgYTauF2GluScmE9wjJSyYtgzYu+C16RUeW8qThPMftxnAv9X4GGejQJKIiIiISFk0tE1Gk6BA0sN1r0VpgvLhZBhZcvCgHlkvAmvLqEOlPZKCAhiVGg0z/STh/IuIiIiIiAyjQJKMFhngnQGv/7neFSnRq7geQYX2GME+jwh47Z6I8kHHLxzqVoovAvtWsB3AxoDXplawn+0qPH6QvoDXxldx/5CM8y8iIiIiIjKMhrbJaPF5hgdBXupfkmoxwxv/ZwA3V7CvduBLAa9HBdKCesV8HDizjOPuBfygjPKFgmYZK7dXzmnAJ0ZQh0JB18yOVdx/TtznP27Lge/X+BhBMzmKiIiIiEgEBZJkNGghOPhxZb0rUqY/MjyQsB9wKHBrmfv6HMOnlF8F/G/ENg/iZuDJH0q2M7An8I8Sjrl5//5bS6/mMEsCXtumjO0/CZw/guMHWQZsYuisdrNxw/eCelBVKu7zH7eXgK/EXQkRERERERlKQ9tkNDiJ4fmRVgM/jKEu5bgBWBnw+ncoLzizK3BWwOv/P3v3HS9XWeB//HPSIEBCIIQikFCUooJYEFTWhoK97GLXVVfs4rpiwd9asKNiXRVd1rWgq0GxoVJEEBRQQVR6h1BCCCRAQuq9uc/vj2eGDJM55zxnyp2Zez/v1+u8ksw5T5lz7r0w3/uUbwBrCspdB/yuxeuvTWhzF+BcOt9prNWIpIOBRyaUfRbwfbq/plIArm16LSOOFuqmfj9/SZIkSdqEQZImss2ArwOfbXHuOAZ/Wss6WoddBxKnPaWMzHky8Efi6KBGS0ibNtSq/aOAfy0o83Di2jsPa3it3QWdVwB3tXj9QxQHRP8GnEqc0tUL17R47X3AE7rYxiA8f0mSJEl6EKe2aRgdRdyG/hfED9TN26FvR5x+dRytFyf+FfC5Xnawiz5DnJ71qKbXH0Pcce5o4qih5pE72xFHDn2STUevBOB1pG37fipx4eddG17LgP8lLjC9kI1Bz9bA+4H3EBc3r7uaGFp8I6G9Vr4KfLTptZcCmxO3h28ctfPw2rVHNF1/GbBfm+238mXitLPGMH46MbT5FjG8vJFNvza3IX5NPpY4PbDViK9G/X7+6q8ppK0xdmCL16YTg/QinwduqNopSZIkSRpk7yd+8M07VhFHh5xFXFPm1pLr/0EMPKp4QYt6TungPVW1L3FkTtH7WkYMFH5DfI/rC66tslg2xLAir64x4FLgitrfm88vJ45MelGLc6k7uc0ihh55fbgZ+D0xTGnVh18Sg5jm1/+t4n1o9pWCPgXiiKJrgIuIH9bvbTqfuv5Pv5+/+mcqxc+90+OQ8XsrmuAy4i8nZxLXY9t9ESwMEJqPi2LAPZ8YrG9O/Drv9hRkSZIkTWJlQVKV48fEBZGr6neQBHAAcRe1Tt7/KPDmNtrOgJ+20d5i4npGAIe3OJ8aJEEc5dTOe/4VcbH1BS3OdRokbUUMr9p9HlUWku7n81f/GCRpWBgkSZI0ibhGkiaD64HXE6cidXNXrfH0d2Io87M2y/+FuF7ON9soG4BXE6expbqAOH3rT7V/r22j3UafB95doZ71wDHEEHA9vVlU+n7g8cQpe6M9qL9RP5+/JEmSJElDo9WIpJuIo12KftO+BPgB8HLibzs7MQgjkhodSHxvS1v0q/FYBfycGKB167e9ryaGGnltXgi8gk3XXzuoxbVVRiTVPaLWxoac9lcD/wfs31RuVotrOx2R1Ghv4GTgdlpPr2s87gPOJ+4q145+Pn+NL0ckaVg4IkmSpEnExbY1jL5OXCx7LrAncdHnWcQ1ae4ifsButW18u37JYP1P7kXAq4h9OgB4KDAP2BZYCdxJDNr+QucjgZp9v3bsTwx1diGO+LmRuB7QtTnl/kx37uEVxJ3RZgL7EBfXXkBcQ+l24A+03o1vZZfaz3MNcQFwiB+MFgC7AzsSw62VteNWOv/a7Ofz1/jawGD97JEkSZIMkjTUltWOySoAf6sd4+3S2tEva+jfey+zlhgsXdPjdvr5/CVJkiRNUq6RJEmSJEmSpCQGSZIkSZIkSUpikCRJkiRJkqQkBkmSJEmSJElKYpAkSZIkSZKkJAZJkiRJkiRJSmKQJEmSJEmSpCQGSZIkSZIkSUpikCRJkiRJkqQk0/rdAanEpcC3WrwmSZIkSZLGmUGSBt1ptUOSJEmSJPWZU9skSZIkSZKUxCBJkiRJkiRJSQySJEmSJEmSlMQgSZIkSZIkSUkMkiRJkiRJkpTEIEmSJEmSJElJDJIkSZIkSZKUxCBJkiRJkiRJSQySJEmSJEmSlMQgSZIkSZIkSUkMkiRJkiRJkpTEIEmSJEmSJElJDJIkSZIkSZKUxCBJkiRJkiRJSQySJEmSJEmSlMQgSZIkSZIkSUkMkiRJkiRJkpTEIEmSJEmSJElJDJIkSZIkSZKUxCBJkiRJkiRJSQySJEmSJEmSlMQgSZIkSZIkSUkMkiRJkiRJkpTEIEmSJEmSJElJDJIkSZIkSZKUxCBJkiRJkiRJSQySJEmSJEmSlMQgSZIkSZIkSUkMkiRJkiRJkpTEIEmSJEmSJElJDJIkSZIkSZKUxCBJkiRJkiRJSQySJEmSJEmSlMQgSZIkSZIkSUkMkiRJkiRJkpTEIEmSJEmSJElJDJIkSZIkSZKUxCBJkiRJkiRJSQySJEmSJEmSlMQgSZIkSZIkSUkMkiRJkiRJkpTEIEmSJEmSJElJDJIkSZIkSZKUxCBJkiRJkiRJSQySJEmSJEmSlMQgSZIkSZIkSUkMkiRJkiRJkpTEIEmSJEmSJElJDJIkSZIkSZKUxCBJkiRJkiRJSQySJEmSJEmSlMQgSZIkSZIkSUkMkiRJkiRJkpTEIEmSJEmSJElJDJIkSZIkSZKUxCBJkiRJkiRJSQySJEmSJEmSlMQgSZIkSZIkSUkMkiRJkiRJkpTEIEmSJEmSJElJDJIkSZIkSZKUxCBJkiRJkiRJSQySJEmSJEmSlMQgSZIkSZIkSUkMkiRJkiRJkpTEIEmSJEmSJElJDJIkSZIkSZKUxCBJkiRJkiRJSQySJEmSJEmSlMQgSZIkSZIkSUkMkiRJkiRJkpTEIEmSJEmSJElJDJIkSZIkSZKUxCBJkiRJkiRJSQySJEmSJEmSlMQgSZIkSZIkSUkMkiRJkiRJkpTEIEmSJEmSJElJDJIkSZIkSZKUxCBJkiRJkiRJSQySJEmSJEmSlMQgSZIkSZIkSUkMkiRJkiRJkpTEIEmSJEmSJElJDJIkSZIkSZKUxCBJkiRJkiRJSab1uwOSJEnSZBbiL3e3BbYHNgeWAXdnsKqvHZMkqQWDJEmSJGkcBdgTeE7teDSwHTC1xXVrgL8CZ9eOCzIYGceuSj0XYGfgrQWX3JjB/45XfyRJkiRJvZURfzk5E5gL7L4IFgYIzcdF8ElgPrANceTN1Fr5CS9AFuDVAa5qdW8Sj5sDvDXAZv1+P1K3BDiw5Ov+nH73UdKDuUaSJEmS1EMBDgcuAU4C9umgqgXA14GbArygG32TJKkqgyRJkiSpBwJMCfBfwOnAAV2seifg5wGOCy2mxEmS1EsGSZIkSVKXBdgS+Dnwjh41kQHvB34aJsn0QEnSYDBIkiRJkroowFbA74Hnj0NzLwD+cxzakSQJMEiSJEmSuu3rwOPaKLeuzfY+GuDpbZaVJKkSgyRJkiSpSwK8DnhN4uWXA/+PuH7S1lncyW42cGCtjj8m1jMF+GGArSt2V5KkygySJEmSpC4I8DDgawmX3gO8CXhUBp/O4B8ZrADIYGUGF2fw/Qz+CXghcF1CnduTHmBJktQ2gyRJkiSpO44Btii5ZjFwSAYnZjBWVmEGvyQGSjcntP+mhGskSeqIQZIkSZLUoQA7AK8quWw18LQMrqxSdwZ3As8mjmQqsl+AJ1SpW5Kkqqb1uwOSJEnSBPB2YLOSa/4zg2vbqTyDqwN8Avh8yaVHAhe200ZdiAuFPxyYXzt2BUaApcBdxLWdzszi39ttYyowp+CS+zIYbbj+UcSg7qHEsjcA1wCnZHB3U90ZsG1B3SszWN+iT08FngjsRnzPq4kjyK4Afp7BkoS31pbxuOfjoXbvDwQOJ76PHYmDF24Hrifex7a+B9roy3zi+mMPaToyYii7vPbnncA5WXzOkiRJkqQey4i/nJwJzAV2XwQLA4Tm4yL4JPHD3TbEhaWn1soPtQBZgKWt3nPDcVPocDZAgO0CrGuq994AvwnwgQCHhPIwK6/u7QO8J8CVJe+jfowFuCjAG0Mbv5wOcfRUUf2Pr103I8D3C65bE+DEENeIqtc9p6TuVzVcOzXAOwJcVVJmQ4Aza4FWV4z3Pe+lANMDvDvA7Qnv46JaaFcve2DJ9edU7MuhAX4eYDTxvtaPRQFOCLCg+3dIkiRJklRnkASPSPiQ+rEutfW1ACcHOCrAAaHzcGpGgC8GWF/xQ3fjcV2Al1RstzRICrBZgN8mtL8uNIxuColBUoBdAvyh4nsdDXB8iF+7Q3XPeyXA40IcMVf1PXw7wMzQpSApwD4BrujgntaPlSF+fw39zyZJkiRJGkQGSfDmhA+ne/e7n80C7Bbgz1344F0/vpwasIS0IOnLie3+rKnu0iApwCMD3N3Be/1paGP0Vz/veS8EOKwWvLTb/3NDHEHUUZAUYPcAt3XxvoYAnx6PeyhJkiRJk03VIGkBDw6Shn7zlwDfK/lAWrZI9rgL8PQAy7v8wTsEOCOU71yXEiQdW6HNI5rqLguS/j3AjV14r6eGCkFov+95twV4UuhsVFX9WFxyvjBICrBzl55n6deWJEmSJKlzyUHSNfBN4kLGc4kffKcRg6ShHpUU4PqSD6O/73cfGwXYKcBdPfrgHQIsTOhDWZCUur7NfSGGko11lwVJnYygaT7eNSz3vJsCzA5x3a9evZ/GoyxI+kkP275svO6pNEwGapE2SZIkDb8xCK1e3wvetBaedA8svBp+9jS4rnYqsLFMc9mWdQ2YXUrOD8xuUCGGdt8DtkssMkLcMWxrYI/EMi8N8Pess6lBqdO1TslgbcW6t2rx2irgEuJ73Yu42PeshLqOC3BaFneQa2mI7nkVnyWGwmWWA38E/gTcS9zR7QnAPt3oRIgjHF9Uctky4P+IP2+WA/OIu8kdBjy6pOwjA+ycxV3nJEmSJEld0DgiaVtg93/Al1J+2z8GN6yH766Ft94Njz85fsCfRgwR6tPeGo+s4OiLAFskvNeP96t/zQK8N3EkxikBDgoN6wAFmBvgBQFuSCg/GgrCglA+IqnxGAtxTaJjQtzl7Hsh7lYXAhzaou6yEUmNx7oAbw1NwVWAKQGODLA2oY7/HoZ73i21Pq1J6M/pIf5MaFXH0SF91FnuiKQAnysp+6sQfzbllT+i9vVVVMfzu3HfJEmSJElRRvwQXg+Sdns3PGcMRip8mK8fI2Nw1Sj8Yj0cvxbecj88azHs2xAyNQZNeYFT2dG1ICrE9VnK3tf72q2/m0LcIeuehGDlnSX1bF0LPcre948K6kgNklaEODqoufycEIOlTdbYCulB0h2t6m6q6+AAd5bUs7ogMBmYe94tAd6X0I+vtno2TfU8I6T9nGgZJAWYGuCqgnLXh4IQqaGek0raf1u790qSJEmStKl6kLQ5cRHt+cD+5yaOSqp4LB+DK0fhnFE4eRS+vg4+vhaOXgNvWA1H3A+HrYAn3QWPuR32vhEWXAk7XQrbnAFbfhs2PxZmPHXTkU9tBUqJgchbune72xfg1Ql9PbJCfaeX1DUW4BE5ZVODpJe38T5Tg6TXJNb3hnaf8SDd824J8NeSPiwJiYt/J4Q4uUFSQx3bhxhKvTvAdwJcEuJIsjcm9uGNJe0fm1KPJEmSJClNPUjajLimy87Aw4EnLoTj1nd3YeNuHyNjcMlKeAoPDpSShbhz1bAESeeU9POyUGEr+QD7B9hQUueHc8qmBEk3hzZ29QtpQdKVqXUHmF7rS1F9J+WUHZh73g0hjrAqG0WUtAB5rb6Ur4PCICmn3mmp9zXAoSXtf6Zq+9JEN/TbrUqSJKnvQu3YAIwSFwte/zI444nwxvPh5HVxod1BMy2DR28Fp5wVF0JuZ2TSqoRrUhZt7qkQFyV+Ssll78/iM0ySwaXERaSLHJ5aXwvfy2Csg/JFPp1adxa/no8vuewJzS8M6T0v8xiKN2xaC3wjtbIs7op2VqedalHvaMp9DfAo4BUll21Wcl6adAySJEmS1IlQ+3OsdowA64A1wJqL4e5D4KTt4MjPwsf/AaffD3f0q7M55u4Hz6S9aW7LE65ptUvYeNuP4ve0IoPftFFv2bbzB4X2g7Tz2yyX4m8Vr/9zyfk9W7zPYbznZfYrOX9LG7voXdZuZ6oIcQH1R4Q4le07AW4D/g68oaRo3xbzlwZVUZosSZIkpaiPSKqPRlrLxvWHMiBkkE2pjQAJA/jBbHX8/+LpbHwvobjEA5YlXLN1u/3qorKt2m9ss94bSs5PBXYBrmqj7qvbKJNqUcXrb0m4Zi6wsuHfw3jPy2xTcr7qfQW4vZ2OlAlxlOGTgH8CDgYOALZso6pejYqThpZBkiRJkrohsHFE0gM7pD0PZn8aXrkXvHhG+YfQvhiDez4XR5xMI4ZhG6gFYGVlM1gVYD0wo+Cyh3Wlo50pCzXKwok8i4jPvWimwzzaCzWWtNWjcsuzBwc+KZZS/pznNP17GO95meb32KydIGlxOx1ppTad8DXERdq7teh48tRDabIwSJIkSVKnQsOfY8QwZv0VcMQ+8IkpgzEiZxMBNtwP1/8CPvV1WM2Dp7aljkiC+OG5KCx6ZAfdfJBQu5cZ3Fex6E4l59saHZPB+toUofkFl81ro+oVWZwi2Qt3Vi2QxUWXbwP2KLisOWQZtnueoux7OWWEXrOORyQF2BH4KvDPdH/EoyOSpCYGSZIkSeqWB6aF3Q1Hzu3ybkcjsGoV3LMK7r0fVq6CFSvjsfo+WLUCVt0Dq1fA2nth/XJYcy+MrISRFTC6HEbWw9gIjK6H0XUxqFhNHJ3SuC5S1Q+if6Q4SJofYE7WnQXHjwI+HOBs4GfAL7K0kTv3lJxP3jmshekl50fbqPP+djqSaIc2y5Utury+6d/Dds9TlNW7bRt1djTiJ8ChwMlttn0ncCXwtIJrDJKkJgZJkiRJ6pYMmHIO7DEXPlG1cIAN98GSZXDHErjjVlhyA9z1D1h6LixbGj+oh5yDkr83NMMY8cPrSO2oT2cbo9r6SHXnAa8vueb55GwRX9EriCHC4bXj6wEuJIZKP8vyR7mUTR8qGmmTK8BMykfeLG2j6pTd8Nq1bYAtswpt1LaS37HksuagcNjueYqycGy7NuosGllVKMA+wCmkj3q8hfj9egFxMffLgEMoDpKc2iY1MUiSJElSp+qjeaYAU/eHf6F8xAQr4c5FcPUVcN15cMNP4LZaWFQPdJr/DDn/LguXmv8MbAyS1taOeqDUTph0XsI1r6TDIKm2VfnDm16eQlxQ+EnA8QF+msX736wnoQawe8I17YQaa9ooU8WuVFvMewfKRxA1hyzDds9TlAVJ7UypW9BOR2p+SHmIdD7wXeDsrMW6VKH8uToiSWpikCRJkqRuyIgfyKZPKRhhsBxuuhDOOxEu+kWcVlIPhpqPxhFCzeeaw6T632Hjh76iMKlezygxuFpHDJMag6Qqb/zGANcAexdc9owA+2adLYD82oRrLs95vVehRlm51cCtbdTb61Eg86kWJO1ccn6ETdcHGrZ7nqJsGmU7o4vaGpEU4KnEndjyjABHZPDLkqpmlpw3SJKaGCRpIngO8Abib+nuAH4PHEdvh0TbviRJGz0wGgmYPpozGukP8JMnw4/YGBJtqB2jDX8fa/p73pE3Qgk2HZVEzrl62/XRSO2OSAL4AvDNgvPTgBMD/FNWvW5CnH5zVMKlP8p5/apYTe76T1uF+KH7JxW7Vjal7/fZpmsHpeh1kPRK4MwK1x9ccv7vLd7nsN3zFH8pOT8/wIEZXJRSWYg/N57aZl/KgtUPJIRIAFuWnDdIkqQJ5nhaD2W/ng7mW9u+JEnJ6iHSDGAWsNNi+EGIu1w96PhFDFqeR1zb52nEcORg4HHAo4H9iVt270NcvHpP4jSeBcSpSDsDDyGuVbMDsD1xKs084tosc2vHtsA2DcechmPr2jEb2ArYAticGH417tpWSYDNAyxp9b6bjuPaqHtegNsS6r64pJ7zSspfFxKmJDbUd3BCn96ZU3a/knJ/qnqfGuqek9CvkZA2RYwA0wLcVFLfV3LKDsw975YAS0va/2KFul6a8H7OySl7fkm5hyb24ZiSeo5NfT+SpMH3XFqHKPWjym+ZbF+SpPbUp7RtRgxqdr0NftjqA9mv4WvA04EnAI8BHkkMjfYEdmNjWLQjMSSqh0P1MKgeAM0ihkBb1o4tasfMhmPzFsdmDceM2tEcILW9dXiA/5fwoTgE+K8Q206pc0GAPyTW+4KSuo5MqOM/Evs1NaFfq0POotChPEi6MKUfOXWnBEkhwH8n1vfqhLparUs1UPe8WwL8uKQPy0LxNM96PVmAyxLuT16QdGtJudSg8E8l9Xy66j2SJA2u0ygOUgIJ/xGzfUmSOlIPkjYnBj4LboEftfpAdhZ8CTiIGCDtSQyOdiSOKNqWGBbVg6J6QFQPhRoDoOlNx7SGY2riMaXh6ChAqgswM8CliSHGtQFeFHICpQAzQgymViXWVzqVKMDWAdaU1LMhwMdCvC959ewY4OyEPn2+oI5BCJLGAhwbCp59gIMC3FFSzx0hZ1TRIN3zbgnwzIR+3B7iqMK8OmYE+Hbic8oLki4uKfeGhPfyioT2v9DJ/ZIkDZb6Ap1Fx8ttX5KknqoHSTOJYdBui2Bhqw9k58Yp2fsRRx/tSAye6qFRPTBqDIpahUNTco6szaOrAuwdYGXiB+QQ4N4ApwT4YoAPBfhWiCMkqtQxGuI0wZT+fSWxzrMDPCfUduEKcfTIXgFeH8qDlRBgRSjYwSsMRpBUP34aYrDZWMcWAd4cYG1C+cKpT4NyJo8QwgAAIABJREFUz7spwFUJ/bktwAtCDIcby+4VyqelpQRJJ5aUuzsULJIe4DUB1ie0f0K3758kqX+ugdIg5Vm2L0lST2XEsKceJO2eFyRdGNcH2osYIm1NHHHUOL2sVVDU8/Cn20LaKIduHh+s0LfNAlxSsf5FAe6pcP1YyJnq1dCPQQqS6sedAU6t3Z+RCmW2G4Z73k0BjqjQt9EAfwnwswCL23gueUHS2xLK3hXgdSGuqUaAhwR4YSifztZ4pCzYLUkaEt+CwhBlHXFdBduXJKl3GoOkuRQESX+BTxHXLdmOOAppBpuuTzTwQVGKAEeFOGWpnUCjynFqKJgSldO3PQPc18M+fTyhD4MYJLVzPG9Y7nm3BfhuF/t/d8G5vCBpzxDXhEptI2V0WavjH+N9byVJvbMzcA/kBikfsH1JknquapC0G3Hk0sxauUohyDAJceRD6hpH7Rw/DBV2/Grq23NDnArV7T59JSQ809DfIGl5gL924b1WWo+o3/e82wLMDmmLZZcdnwnw/YLzLYOkWh/e0aV7eG/BuZFQMupMkjRcDmLTKV7riXPVp9q+JEk9lxwkXQSfBBYQ10banPjfqgkxAilPgAMDXNnl4GB9gE90Gh4E2D2k7whXdowEeGuFtvsZJN0WYghyXgfv97g2+9a3e94LAeaGOG2t3ffw3RDXgmorSKr14bQO2h8N8K4Q16Equu5t43VPJUnjY3PgGcDRwCuJ/4Nq+5IkjY+qQdJ8JlGQBBDitu1vCmkLJpcd54W46123+jYlwAcC3N9Bn84JcGDFdvsaJNWumxni4uZV3uu9Ad7Sbt9q7fblnvdKgFkBvlOx/ysDvLmhjk6CpG0C/E+I60RV6cO1AQ6t1TE3FK+LdX6v76MkSZIkTRYGSYkCbBlioHRqqDblbVmAEwI8psd9e3WAM0Pa2k73B/hlaHNjjzAAQVLD9c8I5VPdVtTCih3b7VeLfo7rPe+1AE8O8PuS91K/j3s0lW07SGqo4/EBLkq4j9eEOCVuelP535aU272b90saZpPmP9ySJEnqiYwYCE0n7sI2exEcNx9e2nzhxfCpA+GbwEpgDTACjAFhHPs7EEIM0p4KPJS4o9QOxK3b1xLXQLwXuAr4C3BtNo73KMBOwKOBXYnB367ABmApcCdwOXBuFjf2GDgB5hDvYZ7bM9ilRbm9gecQ3++OwArgduBS4IwsPpueGPZ73ijAQ4iLkO9GXNNzBLgZuBr4TQare9h2Rgyp9q4dexEX9l8C3Ar8Nov9kCRJkiT1iSOSNFCqjkiSJFUzYXfJkCRJkiRJUncZJEmSJEmSJCmJQZIkSZIkSZKSGCRJkiRJkiQpiUGSJEmSJEmSkhgkSZIkSZIkKYlBkiRJkiRJkpIYJEmSJEmSJCmJQZIkSZIkSZKSTOt3ByRJkiSpi9YA/1Fw/v7x6ogkTUQGSZIkSZImjAzWAV/qdz8kaaJyapskSZIkSZKSGCRJkiRJkiQpiUGSJEmSJEmSkhgkSZIkSZIkKYlBkiRJkiRJkpIYJEmSJEmSJCmJQZIkSZIkSZKSGCRJkiRJkiQpiUGSJEmSJEmSkhgkSZIkSZIkKYlBkiRJkiRJkpIYJEmSJEmSJCmJQZIkSZIkSZKSGCRJkiRJkiQpiUGSJEmSJEmSkkzrdwckSZKkYRfgtcDDxrHJGzL49ji2px4JsCvwcGA5cH0G95Rcfyiwfe2fYxks7HEXJUmSJEnqmoz4y8mZwFxg90WwMEBoPi6CTwLzgW2AzYGptfJDL8AZrd5zD4+z+v2e1ZkABwW4tum5jgY4PcALQ/z+aC6zTYDVDdcv7kffJU1uTm2TJEmSpHFUG1X0RzYdxTYVOBz4OXBjgI8H2DfAlADziGHszIbrbx2XDktSA6e2SZIkSdI4CfGX+V+k/LPYfOCDtWNN7frpTdcYJEkadwZJkiRJkjR+ng7sV7HMzJzXT+mwL5JUmUGSJEmSJI2f5uls9wM/Am4hBkyHA7MT6rkOOLm7XZOkcgZJkiRJkjR+9mz69+sz+En9HwE2Aw4DXgW8kLgwfbObgJdlsKFnvZSkHAZJkiRJUu9dQXenId3Yxbo0vlYDNzf8+4+NJzNYB5wKnBpgDvAi4EnAzsC9wEXAdzK4Z3y6K0mSJElS92TEX07OBOYCuy+Cha22rL8o7jg1H9iGOMpiaq380AtwRqv33HD8qN99lCSpG6b0uwOSJEmSJEkaDgZJkiRJkiRJSuIaSZIkSdIEEuIUw9zTGSyvUNeWtF7suW5lBusLym9D/i+vV2ewpkWZucCLgb2BXYj/XgbcAfwZOC2DFWnvIF2Ii2A/k7ir2rzasZ64m9qihj//msFoF9udDxwAPKTpyIjrIC2v/XkncE4W19vqiQCPAx5O7NN8YFdgBFgK3AVcDpyZxb9LkiRJklSZayQxOGskBchK+rGyYn0nltT3ipLytxWU/UjTtY8J8LMA60raXBfgBwEWtHOPmtrcIsAxAa4vabPxuDnAOwNs0WHbhwb4eYDRCm2HAIsCnNCN91/rx/YB3hPgysT2xwJcFOCNwYEJkiRJkqSKDJIwSCooXxokBZge4NgAIxUDlTUBXt/BvToywJKKbTYedwf4QKj4NRxgnwBXdNDuA88ywFFV22/ox4wAXwywvoM+XBfgJe20L2l4uUaSJEmSpL4IsBlwGjFUqjq6ZXPgWwH+tWKb0wJ8HTgR2KFim43mAp8CvlCh7d2Bs4jTxzq1FfCVWh8qCbAb8AfgXcD0DvrwUODkAF8OMRiWNAkYJEmSJEnqh2nAycChHdSRAZ+pBVKlQvz881PgrR202exdAT6c0PbOwO+If3bTMQGOSL04wNOBS4DHd7EP7wR+Ezqc7idpOBgkSZIkSeqHdwIv6EI9OwKvS7z2g8Dzu9Bms48GeEPJNV8mjkjqhY+UXwIBdgIWEqeXdtthwLd7UK+kAePiaJIkSVLvPTHE0TedCBm8rCu9GQyzW7x2OvAn4g5pjwWeQ1r48p4AJ2YwlndBgCeTFriMEHdG+xtxd7iHAU8E5pSU+1iA72WxfHPbC4AXlZRfBvwfcB1xp7Z5xJDsMODRJWUfGWDnDG7Pu6C2ltL3gO1K6qobIe7StjWwR2KZlwb4ewafTrxekiRJkjTJuNg2SYttd+PYkNCPYVpsu/G4JMABOXW8IrGOfUv6cm5CHb8K8eu4uey2Ab6aUP7VOW1/LqHdmQV9PyLE3dKK6igcaRXgvYn38ZQAB4WG6YIB5gZ4QYAbEsqPBtinqC+SJEmSpMnLIAmDpILyKUHSn0PJaJ/EECd3mlyAxyeU/0Qo+XoM8J2SOv7aoszUAFcVlLk+FIRIDfWcVNL22wrKzgxwT0n5dSFONyzqw9YhBk1l93JcdimU1B+ukSRJkiSpXwJwZAb3llx3NLC05JpdCs7lhiw1twAfzWJ/irwDWFNwft8A+ze+kMGGLI6W2gF4JvG9fJc4dW4d8JmsuM6680rOb19w7l8on5r39izuApcrg/uyWNcZJXW9NMAjSq6RNKRcI0mSJElSv/wmg8vKLsriaJm/AM8ruKxox7CnljTx2VZrG7Xox/0BzgReSAyf/gFc2nBcl+WMHMtiEHZW7QAgxM9jZeFV3Y0l54tGNZUtBH451RbKfh8xFMsbmJARA6crKtQpaUgYJEmSJEnql79UuPaWkvMtg5QAuxIXu84zBvxvhX68BXhdwiiqUhmMplwX4FGUTCOkYU2jprILgKeUlH1/XgDWSgaXhrhwd9FueYcDH0utU9LwMEiSJEmS1C9VRqzcU3K+ZZACHFRSbmni1DIAMliSem07Qhzlsy9xp7gnAc8Adk7rWkv7FZwDWJHBbyp1MlpIcZB0UIBZWcV1uSQNPoMkSZIkqff+BHy1wzpSp0ANk0UVrr2/5HxeWLJDSbnbK/Sh6wJsRwyM/gk4mLh73ZZtVDWW8/puJeXKpszluaHk/FTiulVXtVm/pAFlkCRJkiT13qIMftDvTrRhao/rX13h2qRpYC1sW3L+tjbrbVttutlrgJfTvUWp86amlQVJZYFQnkXE8KpoA6d5GCRJE45BkiRJkjR5VN21uddBUvKUMtoPkrYpOb+8zXorC7AjcWTaP1M83awdeSOSdiop19aIpAzWhxjCzS+4bF47dUsabFX/QyJJkiRpeFX9//9e/+K5SpDUq6l92/Wo3gcJcChxTah/oXqIdCdwTsk1eUFS2dpSnYSF00vOtxv+SRpgjkiSJEmSJo+qoUE7a/VUsa7H9UP5iKOyETsdC7APcAqwdWKRW4DzgAuA84HLgEOApxWUyZvatrikrT0S+/QgIe6SV3bvlrZTt6TBZpAkSZIkTR7TA0ytsNX7rJ72ZnwWEC8Lkh4yDn34IeUh0vnAd4GzsxbrFoXyEDBvRFJPgiRg94RrDJKkCcggSZIkSZpcZlK+A1rdRFjjZknJ+e0DTMnyg5gHCTAbeD1wOXBFVlJ/gKcSd2LLMwIckcEvS5qeWXJ+vIOksnKrgVvbrFvSADNIkiRJkiaIDEKAtcDmBZdtQ3qQVLSQ8rD4U8n5acT1i36bWN+zgS/V/xFgGXHto8trf/4pg0sarn9tSX0fSAiRoHyaYV6QdFXsZu66TFuFGGT9JKEPjV5fcv73GayvWKekIeBi25IkSdLE0pU1gQLsS/qaPgMriyNyynYmO7pClc9v+vdc4MnA24CvERfTbrRXSX2/SGz3oSXnWwZFWRwV9MeSsp8O5QtnPyDAwcSd54qckVqfpOFikCRJkiRNLGVB0iGJ9Xyg044MkN+VnD88wCPLKglxOteLSi77btO/y0Z1pa5XVdbuZgXnvldS9qHAO1I6UVur6XMll60BfpxSn6ThY5AkSZIkTSx3l5w/NpSsbxPgFcCru9elvvtqwjU/D7B/3skQp8CdRPEUswsyuLbptTtL2n16Wcdqz+OgksuKgqQfE6c8Fjk+wMdCwWfEADsSpwCWhZEnZHBHyTWShpRBkiRJkjSxXFhyfhbw/QBbNZ8IsGWADwM/IH9NnaGTwaXAmSWX7QlcGOCoAHuH2vsPcae7w4C/AU8sqePbLV77W0mZzwTYOe9kgNew6SinVnIX487gPuDEkvJTgA8BZwV4TqgttB4gC7BXiGsi/Q14Wkk9K4HjEvoraUi52LYkSZI0sZxO+bS0JwCLQtyW/npgBnEtnxcR1/yZiP4fcQe1GQXXbAF8pfb3FSFuX78baZ+b7gRObvF6WZA0F/h7gPcCp2VwZ4CHAAcSn2PZSKS63DCq5r3EkUSPLrnuabWDALcQd6mbk9iHALw+g7sSr5c0hAySJEmSpInlAuIH+Xkl120LvL3kmtuAXbrRqX7L4K8B3kfDjmslZteOFGuAF2awosW5M2rnc0cMAdtRG80UYB3F09TyLCg6mcG6AC8h7iiX+r6q7tr3yQxOqVhG0pBxapskSZI0gWQwCryzC1UtY9MdyoZaBl+mfOHpqgLw2gz+nNPmDcQAK1VRiHRfwbmHhxhI5ar15ZXE6Wfd9l/AR3pQr6QBY5AkSZIkTTAZ/IjOds1aTgyRmheOngheB3yyi/V9MCu511lc7Pv0DtrYAPxH7cgzDXhpWUUZ/Bp4FPDHDvrTaBR4WwbvzGCsS3VKGmAGSZIkSdLE9Args8QRM1X8GnhkVr5o91DKIGTwQeAI4MYOqjoXeEoGn0q8/pXAt6j+PK4DDs/ilLxfEoObPK9KqTCDm4CnENeNWlWxP41+DzwxgxM6qEPSkDFIkiRJkiagDDZk8H7gWcTRMEWjRcaIu5odkcHzJsPW7bW1fPYhrhP1V9IDnguAZ2Tw1AzOq9DePRkcCRwMXJxQ5FrgKOARGfyuVscyYniT54kBdk/sz1gGnwZ2IO4M91vSRhStAk4Fnp3B0zK4KKU9SRPHhNnSU5IkSX2RAVOB6cQdr2YvguPmt5hiczF86kD4JnF9ljXACPGDa9URGmpDgF2J29jPrx0BWFQ7zsriwtqTVm27+5cBzwWeTPx6hhicnAP8H3B6Bvd0oa0M2APYu3bsBWwJLAFuBX6bwdWdttNGv3Yi7uq2K/FrZFfitLqlxF3pLgfOzeKC4JIkSZIkVZYR12aZSdzGfPdFsDBAaD4uiuvSzAe2ATYnBlD+YlMDIcDJrb5uG44NAU4KMQCSpEnLqW2SJEmSJrUQw9BnlVw2BXg1cGGAXXrfK0kaTNP63QFJkiRJ6rNHAFcA19SOxcCOxJ3rntR07fbAT4hrHUnSpGOQJEmSJGlSy+AfwBNanPpMiAtSH9P0+kEB5mdwS+97J0mDxaltkiRJkpTvKzmvP3ZceyFJA8IgSZIkSZLyPTTndUcjSZqUDJIkSZIkqUmALMCzgZNanF5NnA4nSZOOayRJkiRJmnQCbEVcWPu+hmMFMEJcaPuhwPyc4u/OYHQ8+ilJg8YgSZIkSdJk9ZDakWoM+HQG3+xRfyRp4BkkSZIkSVKxEeD7wGeyOIpJkiYtgyRJkiRJk9E64CPAw4hT2LYAZhI/Iy0mLqZdP87MXFxbkgCDJEmSJEmTUBZHGX2s3/2QpGHjrm2SJEmSJElKYpAkSZIkSZKkJAZJkiRJkiRJSmKQJEmSJEmSpCQGSZIkSZIkSUpikCRJkiRJkqQkBkmSJEmSJElKYpAkSZIkSZKkJAZJkiRJkiRJSmKQJEmSJEmSpCQGSZIkSZIkSUpikCRJkiRJkqQkBkmSJEmSJElKYpAkSZIkSZKkJNP63QFJktQzU4Es59zoeHZEkiRJE4NBkiRJE9etwE4556YCY+PYF0mSJE0ATm2TJEmSJElSEoMkaaiFKRAeC+F9EE6H8K5+90iSxskU4LHA+4DTAX/+SZIkjQOntklDJ+wGPBc4FHgqsE3DyT/0pUuSND78+SdJktRnBknS8DkGeHO/OyFJfeDPP0mSpD5zapskSZIkSZKSGCRJkiRJkiQpiUGSJEmSJEmSkhgkSZIkSZIkKYlBkiRJkiRJkpK4a5smoLA5cYvo+cA84FrgMsjW9qi9HWtt7Ujcivoe4C7gZsju6E2byjfez/9BbW9Ta3sBMB24FLgOsrHetz0QGt//VsBi4GbgxnHsQ87zpxfPfxrwUGAHYHtgJrAcuJv4vpf0oM1mU2ptz60dGXAvcBuwbBzan8wG4flLkiSNO4MkDYHwS2C7Fic+CdmvG657DPBW4BXAlk3XjkK4EjgVOBay0Q77tCvwOuDFwKMLrrsMOA04HrK7Eut+GvDJggv2KDj3JgjPTWuHsyH7YEE/dgB+lnPySsiOTGsm/I74AavZasiekVC+T88/bAWc2eLEfZA9u+G6DHgu8DbgcDYd6bmq9nXwJcgWlrc7MArePw3vn7L3DzHI+S7wVWBdxX4UPH8anj8lz5+G508n3//TgZcBzwcOA+YUXHsVcBbwv8DfO2iz2Xzi+3wycAgwO+e622h971KUfP+T+P1Pwfc/rb7/O/z5R4WffxT8/Ms1CM9fkiRJUrGwGEJocbyzdn4ahONzrml1nFcbRdROX2ZCOBbC6grtBQhLIfxLYhtHVKy73ePHJf2YX1D2LxXu2aqcOlYmlu/T8w9zcsqvbrhmHoQzKrT9zfg1NBTmAKHF0fD+mQeckXNdq+NyCoPXlhbn1FV7/kwDjq/Qh/OIoweryoCXA9dXaKt+jAGnAHu10W6jfYGTgJE2+tDqKJrePr+gXIXvf1bl1JH3/X9El95b2VHy828Tg/D8B1lG/F6cSRwZt/siWNjqh+BFMSicTxzBuDkwtVZekiRJ6pbcIOHD8UN5ODfnfNGxGMI+FfuxM4Qr2mir8fghhLkl7RgkPbh8n55/bpA0BiGDsD+E29to+2IIwzAaNC9IGiN+6NsfuD3nmqLjPuCACv3IC5I+TPzQem4bfVgMVPn+nwn8tI12mo97iaO22vFGYE0X+tB4GCSlGYTnP+gMkiRJmkRcbFvDbA7wP8TpHVXtBHwk/fKwB/AH4OFttNXo5cAlEGZ1WI/G9fk/SAY8AjgdeEgb5R9LnBY5rDp9/7OJ0z3bnXJVN17Pfy7we+I01k5tTZyO95KK5b4B/DfxQ7fG1yA8f0mSJEnV5I5IuTvn9dRjFMJuCe3PgHBpQn2LIfyNtGlvnytozxFJDy7fp+efOyIpQLitw7ZvgbBZ+j3si7wRSYG49k7eudQjNcjJG5F0d4ftjxIX5S6SEUOvTt9r87GCuEhzimN60H79cERSsUF4/sPCEUmSJE0iwzC9QsrTaopYIC6oewGwBXHh1cfmlJ8KvJuNa63k+TiwX8659cBHgRM3LqYdpgCPA04gLgDcyr9D+BZkV7c4dxNxpEWeQ8iflnMx6Yu6Xpx43aAar+ffys4tXlsHXEhcB2gB8HQ2XfS5blfgX4ET22h7EJS9/32Bg8l//wBvBz5D+7upjcfzfw/wrIS+3F1rc5T4PV8WUM0Cvk+8R0UOo3jhaYClwG9r7V9E/O/6PGBv4sLVhxHf67AYpJ9//X7+kiRJktqTOyKl+bgcwuObys6A8LOCMveUtP0wCBtyyt4N4VEFZadB+EFB279t8358o6DO/2yvzpbtDPqIpB4//8IRSc3HeRCaFtINj6B4DaWvpd/DvigakdR8nMemCwnPIn64Lir3poR+5I1Iaj4uB5qePzOIO4/llSn6/t+OuLB4UZsLiYFNs22Ji2KX9fnpBe1nxN3uispfQNx2vkjR/RvEEUllvlHQry7+/Ov78x82jkiSJEnSIEkKEv5K7iLWYTfiAsl5ZbcoaPsrBeVem9D37SAsL6jjiW3cD4OkcXn+yUHSQgg5Iz7COwrKnZb2/vsmNUhaSP6Il9nAFQVlr6L8A2RKkPRXWo9Qgjg6ZKygbN73/7ElbX6D8nUGjy6p41cFZV9SUvZkIGV6pEFSe/r9/IeNQZIkSZIGSWmQcG380F9YxwUF5XfPKTMbwsqcMn+s0P8PFrT9ofR6HqjPIGl8nn9KkPRzCndgCzsUlL0m7f33TUqQ9HPKp0i/vaSOfUvKlwVJ19b6WqRoZFSr5z8NuKugzOkl7TU6s6CeDcSwrWqfVxA/hKcwSKpuEJ7/sDFIkiRpEnHXNg27tcBLILu35LqbC87tkPP604Ctcs6dWtaxBkVrdrSz45Q26uXzL3M58GrIRguuWUpcR6uVhIXeB1rt/VP0/iGOnCm6Zn4Hfag9f7r9/B9L8a5yXy5pr9HxBeem0HqdnDlsOk2v0QkUT8tTZ/r9/CVJkgaaQZKG3bsh+0fCdfcVnNsx5/V/KihzfkKbddcVnFtQoR5tqpfPv8j9wIshu7/4siwAy3NOziAuzD6Mau+fkvcPxJEdRSNYOgmS3g304vk/teD6G6g+IqVo9NkhOe3nTRdcB3yhQvuqrt/PX5IkaaC5a5uGXeoUs5OAS3POXZXzetH/4P8bhFcmtj294FzRb71VrpfPv8jtkF2feG1oo/5BdzuQ+v4hTq/K00mQ1KvnX7R22W+o/kwvp/WizAAPa/FaUYh9LXBnxfZVTb+fvyRJ0kAzSNIkkV1AXHOkij0Kzr2+g8402rpL9ahQW89f3XNXwblOgqRUVZ//TgXnbmuj/aIyrdY6KholVzRNT93R7+cvSZI00IZ1WoXUYyEjbuHca2Xry0gTwdKCc+MRJFWVtwMctBck3F5wrtXPmaKRigZJvdfv5y9JkjTQDJKk1maTv0ZJN60ZhzakfltVcG7LcetFuqIP90vaqK8oSNuixWtFQYZBUu/1+/lLkiQNNIMkqbXNxqmdokWApYlil4Jzy8atF+nydtqD4pCnnTKtdpwr2grd/273Xr+fvyRJ0kBzjSSptaKttUeAI7vUjkGSJoPdC87dPW69SHcPsH3OuV3bqK9qkHYr8Jic6+e10b6q6ffzlyRJGmgGSVJL2QiElcCsFienA7+DrGjdC0kb7VZwblCDpDztrOlUFD60mvZ0S8H17vTYe/1+/pIkSQPNIfJSvqK1MPYbt14MtfAQYvCmyWsrYM+C8xeNV0cquLXg3F4V65oCHFhwvtX7X1RwfZURSXNpHYaPl2H9/u/38x9GWdOfkiRpAjNIkvJdWHAub9rJeBgrOLdVF9vZUHBudnnxMAM4heH8IKnueQvFCwr/brw6UsEFBecOBx5Woa5nAQsKzp/b4rWiEUlPIG008RTgh7T/M6HD73969f0/Hj//+v38h01jiJQBU2bD1M3ckU6SpAnLIEnK9/uCc0dD2GncevJgRdtPF61FU9US4npQreycUP7rwMHd646G0ObA0QXnLwPuHKe+VHF+wbkpwDEV6nprwbnbgWtavF42te0ZCe1+GnhmwnV5BvX7fzx+/vX7+Q+qrOmY0nBMBaZeAvvfBe+7C87eIefrNBSHgZIkSVI3hMUQQs7RwylmYRcIowVt/6p3bRf26yUFfboJQhfXPgvXF7T1+IJyXygoVz9WJvahX89/TkG7V1eop6j/gxzmzwFCzpH6/j9eUEcAjkqoY3FB+V49/2nAHQXtrgeenlDP24gfmvPq+c+ccrOANQXlflzS7gcKyjYeZV9/1xeULfj+5wsJbSd+/2/iJQV13kR31n7s9/Mfb80BUV5Y9EBgBEz7A2xzDzx5Lbx7BH48BkvKfugHCKfC24lrTc0hhs1TcUqcJEmSuqtfQQJA+H7J/xMvhNDGLj5hDoQd2uzTo0v69I726m3Z1hkF7ZxGnL7WeP0sCN9K+CwRMEgKTNwgaTpwYkH5QBxZsllCP/oRJEH8kF/U/1HgPzoov4ribeF/XFL+Uy3KbA4cX1Ku8Sj7+jujoOxpxOlrjWYB30psu90g6dEl9Xbr51+/n387ykKgomNq0zGNWlh0JzxqBbxgLRy1Hr4yCqePwY0BxlJ+0Dce62HZPvBY4gLkBkmSJA0p/8OtIRAWA3nTyPaH7LIetv1I4FKKv1dWA58HzgGuhuyOhvKziB8WdiBvSUKSAAAgAElEQVT+z/NBxN/k7w0cDdkX2+jTLGBFwQVjwAnAF4FFkI3Wym1V68cBxCknKyD7eElb/0XxB7M/Az8gftg/AHgt6dtj3w9ZwkLA/Xr+YQ75uzddA9k+ifUU9X8qZIM6zaPo/d8HHEec/nkdsJz4YfRRwBOBVxLX8ilyJDF0KFPy/OnV9/9c4hSzovWdIIZqfwb+SvxA/KTaUTb19aPAsQXnXwD8oqSOs4CzidOj9iPe9yqLQU+leJpRj7//21oIvOLPP2o//2jx84+in3/9fv5V1IMjjoUpD68FQ/Ng6vYwYypsvhnM2AxmToctNoMtpsCWU2DrKbA1sHUG20yN73m7KXH65E5ZfA9dW3cvwOj34JjXwenAvcSvgbXEZ1QfuSVJkiR1Qz9HJAGEj1f8pet9EJbEX74WXlf02+yyPp2Z2JcRCLdDWN3iXNn0GCDsQ/H0vpRjbc7rjkga3hFJrUZnrK1w/bcr9KNfI5IA3ljQdifH+cTQoUgG/KkLbRU9l7Kvv32Iz7YX7bc7IgngzMS2R4jrEK1ucS7h519fn3+q+sijqaNwQqsfMoNwrIIln4N3E0O8fYgh1SziqLYp+ItNSZKGyiB/iJEGxUeIUzxSzSb+5ruXu5W9hfjhqMw04hbcM9trJrsa+H57ZYE4cuV1HZTXcJhK2jQ1gPOAN/ewL910InHns266GXgFxbuiQQwc/j3huiL3E0cptWtQv//H6edfX59/isYpbNNGB/D/6e6HO34N33oYvPm9cdTWOuIaU82jkEJeHZIkafAM3P90SIMnGwP+me5/oOhAdiMx4BoPHyX+z39Vq4DnAxd2tzsaYicAhxE/SA6L1wHf6VJdfyNO+Svala3Rn4mhSTtWAy8mTrntxCB+/4/nz79+Pv8y9SBpKjB9tHujnDoR7oWb/gI/+wAcMwve+jz46eI4lXANcYTaOuJosQ1sHKUlSZKGSBd3d5Imsmw18EoIFxLXtdi2zx2CuAbIlsTt1dtZayRRdhOEQ4CFwB6Jha4EjoDsKgjzetc3DYkrgQ8Dp/S7I21YD7we+Dvxe39OG3WsA74CfIw4SqiK/yFO//k8cWHiFFcCLwWuYNMFsau6CWjz+5+rgF59/4/Tz7++P/889alg9YWyZ6yDaVt2qfJUq2Hp3bBoEdx4CVz3Pbjmkvgex4hB0QgxPFpDDBdXszFIGqN4jS5JkiSpXf1eI2mT/mwF4T0QLm9jqYjbIPwCwnsh7Nal/syD8CUI6yr0YxmET1ZsZ2viLnVjBfXeCuFDEBo+z4Qtc651jaSJs0ZSq+MuYnD0PDpb/6SfayQ125o4Eub6gj41HrcCXyVudd6pfYk7pRWtWXQrcbew5gWi88pU+frbmhgmFW1nfyvwIWLAU7dlzrWdrJHUaB7wJWI4kfq1uQyo+PMP6O/zb1YfiTSDGKTtcCecVPU/SGXHGKxfBUuWwGVXw9l/gB+eBF84Go7eC14OvAh4IXFx+OcBzwEOBw4FnkxcE+kA4rpI84nPaxZxKuxUHBkvSdJQcnFDqSNhe+ApxN/Ub0fc9WYqG3/7uoS4zfki4ErI7u1hX2bX+rGg4ZhLXKdkGXFnrRuASyG7vcN29id+ONiP+Nvnm4k7R529cZc4DbmiXduuJU5RO4C4Bs02xNEHy2rHNcTRKKH33eybBcTv/V2J3/vbEL8XlgJ3Eqd0XdqDdnckfmDfjbhg8QriqKGriTu49fr7r+T7v+ftF/Ur8ecfHfz8e0C/nn/dA2sjEUeqbbUYPrsTvDzE77uxAGNjMDoGoxtgZAxGRmDdKKxdD+vWw5q1sHoNrFoFq+6FlctgxVJYcSPc+ze452JY2bCYU3NQNtZ0bCA+/1HiiKP1tWNdw7G+dq5xjaSJ/HNCkqQJySBJktRKUZB0DXGEgaT+qAdJ04mje7YihmmziaPANqudq6+jlCe0+DO0+PcYm4ZHG3hwgNQcJNXDpPrfRxuuM0SSJGmIuUaSJEnScGoMeupBzggxZBpj06ljoUXZvKMeGBUFSI1Hc5jU+NoGNg2QDJEkSRpSBkmSJEnDpzHwGSVOHZtWe22Ejbu4ZWw6wqjx783hUd4IpOYgqTlUagyXWpVrbluSJA0pgyRJkqThEogBUT1EWk8cfdQYIk1h47S2qkFSqzCpOVhqda65jlZT5SRJ0pAzSJIkSRo+9YBmAzE8CmwcmVQPkbKmayE9VGoVMkHrsKi5juZ2JEnSBGKQJEmSNJzqoc4IG0cnTWHTtZHq1zb/PeXPonCoVZ3/v717j7Orru/9//6svWdm7x0CyCXhkplcIICg4gWqKAqo1Ye25VQxWMULqA3J7JFzrAdbtT3mp6cVpbVqM5M45aKIVUE8Vit4wRK0QktRVK4Kuc0ekIRrErLve31+f0wmmZnsvfZlJpk9M6/n4zFmZtZnfddndqabrne+3++a+DkAAJhlCJIAAABmnmpPVhu7nK3eebW+N/F4s18DAIBZjiAJAABgZpoY4lSmcKxGjwEAgDmGIAkAAGBmG7v8LGpGEoEQAACYNIIkAACA2YOwCAAAHFAESQCAanZJOqfGsezBbAQAAAAAAAAAAAAAAAAAAAAAAAAAAAAAAAAAAAAAAAAAAAAAAAAAAAAAAAAAAAAAAAAAAAAAAAAAAAAAAAAAAAAAAAAAAAAAAAAAAAAAAAAAAAAAAAAAAAAAAAAAAAAAAAAAAAAAAAAAAAAAAAAAAAAAMDvZdDcANCDq99QPWhcAcGDwHgcAAIAZIz7dDQARTPtusKrdaHmNzwFgJuA9DgAAADMOQRLa1egNlm1ZnfxCPGbpiQWlsv/Ppetz/dp3g8WNFoCZYu973NbViYFYLFg5saAQKn3CQPZL4j0OAAAAbSSY7gaAKkZvsAJJ8bIUVisqhUpIio2pZ6kmgJlg/HucB53VigqlisR7HAAAANoMQRLalWnkBqqjVK5ekK94QlKH9t1oAcBMMBoKxSR1hPKqQVK2LBfvcQAAAGgzBEloN2P/pT4mqaNQqV5YHpmR1LmnLhD/Yg+g/Y2+R42+x3XueS/bz+6iAo0Pknh/AwAAwLQjSEK7Gv3X+s5CpfrNU6HMjCQAM9JoKBSX1Bm6uqoV7S7KtP97HO91AAAAmFYESWhH4/YPKYVh1Q1mXUGnRm7EmI0EYKYJ9nx0hKF3VCvIVfaGTbzHAQAAoG0QJKFd7V3eViir+uI286TGL2sDgJli3xJes6pL254rhRURIgEAAKDNECSh3Vm+bPlqB+KmlAiRAMw8Y5/CZjEpVa0oV1ROhEgAAABoMwRJaHvFSlg1SIoFlhKPxQYwc40ESYEnqx3cVbSCeG8DAABAmyFIQtvLlS1b7fvxwOcd7F4AYIpZPLCq72VPZiu7JfmeDwAAAKAtECSh3fmOYriz2oG42XyNn43Ev9wDaHc24XOLmR1SrfCx52zXwWkJAAAAaBxBEtqZS9KObPWbqXhg88d8SYgEYCbZG4AHgc+vVnDPtvJO7ZuRxMwkAAAAtAWCJLSr0RsmfyxbebZaQUfgh4vNtgHMPHtDpJcuUDIw65pYELqX7ntSOREeAQAAoM0QJKGduST/1WPVg6R4TIfv+XTiUhEAmBFe2RM/otr3SxXtkBRq/5lIBEsAAACYVgRJaEfjlnL89DHtcPfyxKLALPnChXsfm82T2wDMJCYpOPHw4MhqB0uuZ0SABAAAgDZEkIR255K8GOrpagf/aGl8oQiQAMw8JknHzLOF1Q4Wy3pK7I0EAACANkSQhHYz8V/gXZIXKv5kteJlzwtGgyTCJAAzxd49kg5PVA+S8mU9oZH3v9HlbQAAAEBbIEhCuxq3vC1f0hPVio6dp+O1L0giTALQzibu5xYc2qnjqxU+V/TRIAkAAABoKwRJaGejQVL4XEmPVSs4tMuO1/5PbiNQAtCuRkPvQFIwr0PHVSt6phA+pvGbbRMqAQAAoC0QJKHdhZJ8R96rB0mdwWIxIwnAzLL3PSsZV0+1gkd3+mPat7RtFGESAAAAph1BEtrV2H+FDx97LhyqVpTs0FLtm5FEmARgJtg7KynRYYurFfz3tnCrmJEEAACANkSQhHbkY/50SeEvHws3VytMxscFSQDQ7vaGSJe9OH5cYHbIxIKKe+Gr91Ye1fggCQAAAGgLBEloV3tDJEnhNb+pZCruhYlFscDm/+XL493as9+ICJQAtK+xMyft1Yvt1GpFuZJGZyONfhAkAQAAoG0QJKGd7Q2TSlJld9E3VSt65aLYi8XyNgAzh0kKjjs0eFG1g8/m/RFJFbG0DQAAAG2IIAntauyMpIqkyjMFe7ha4bHz7QxJMfHkNgDty8b8GUiKHZEIXlqtcHvWf6vxs5HGLvcFAAAAplV8uhsAqnDtu+nau7wts6Ny7+JD4+dPLD4iYa/USJA0urwtnFgDNKCZm3SCSjRr795IkoIXHKbkvE69rFrhPY+H92rfjCTezwAAANBWmJGEdrY3RJJU+clQ5Z5qRYm4Lf+7c+LLNBKMjgZKpv2Xu/HBR9RHoPF7bZn2mVgz3b3yMbM+Rn9nYns+4v/3DxPnBWYJTVBxL3zxF6UHxNI2AAAAtCmb7gaAGkZvujolJSUdKul5G1clb+6K28KJxbsKvqFYCf+7M2blmCkMTB4YN15ojgfB488Wy7e97Kri77T/jbs98IHkmckOvcLdj5iO/jBzhS4LXVYKFStWPD6/096Y6AheOLHuiazf9ZJrcpdKekbSTkk5SSWx6TYAAADaBEvb0M7GzUiSVB7eGf7HCUfELphYOL/LzpVi5x7sBjH7LEzEwk29yX9cNpD76Oj31pyqrovPTX4lHthbR75DBo8D4+GnwtsllTV+RhIAAADQNljahnY2brNtSZV/2xjePL0tYfazoDOwD//u0sRfSuqQ1PHuc5Jf2hciAQdGGHr+8/9duFUjQVJZ+2+2DQAAAEw7giS0q7FPKQo1clNVuvK/Svc9mfVfT19bmCuScfv4F87tXHbr27te2xWzd053P5j9Nj4b/vCOx/SURpayTZyRRJgEAACAthCb7gaACGM3qo1pZHZIZ7Him17TE/vjwIzfXxwwZhY/ap7s6FTszR0xLZvufjC7Fcp6euUt+b9+7Dk9KykrKS+pqJFAiRAJAAAAbYMbcbS7sUFSTFLHPds8e0RSm047KnhFLLDO6W0Ps1kibsu74n6KZGyKhAMmW/Jtn/p58a9u2eRbNRIiZSUVNDIziaVtAAAAaCvcHKGdjc5IiknqkpSSNF/SYZLmLztMR/3PMztetfAQWxi3IG5jntJm3HihAb7nPTAR867TF8b+tNHzKqEX7n7cvzP6Nb9vaMTo75v7yJ+lSljcskOZT/9n8ec7C9op7f3YpZGntY3OSAqnqWUAAABgPwRJaHfBno+4pISkeRoJk+bv+Tyx51igkd9nbujRKBvzEdz7geSVz0vY0kZOfOSZ8Kfnfi3/RY3fDJnfPTRi9L+7rpGQqKSRZWy7NRIg7dK+pW1jN9wGAAAA2kJ8uhsA6hjdbDvUvhuumEZuxka/1zHme0AjxoZIMUnxh56s/OdZi+INBUn/9Wh4p0Zmi0x8shY3/GjU6BMpSxqZfTRxSRsBEgAAANoSQRLa3eiNVEUjN/1F7Zt5VNZIsDQ2SCJMQiPGbuTeIanzPx4Nf3HWIr2j7pnu/pXfFH+hkZv+amESUM/o78rYGUmjHwXxOwUAAIA2RpCEmWL0pqs44fMOjV/aRpCERoz+rsQldUpKfPU35fv+4g86SjGzjqgTdxU19MDTelIjQVJO+x7Vzk0/GjU2SCpr5HeopJH3NH6fAAAA0NYIkjATjN5Mjf0X+lAjN2Ax7dtHiRAJjRr7NMAuSZWnC7LnCr75sISdFHXi0zn/rUZCpOc0flYSN/5oxuj72eh7WWXMB79LAAAAaFsESZgpxt5UjT7FaGyARIiERo3+roxu4j66bLLjmYIeOSyhyCBpe9Z/p5ElSFmNbJA88claBABo1GiQNPZP9tsCAABAWyNIwkwyenM1GhyF2hcKECShUWN/Zyp7Pu+QVHxyt29cclj0yVt2hhs1Eh4VxvzJLBK0wqv8ye8QAAAA2hpBEmaisYHS2JsuwiQ0Y/T3JaY9e9Q8tquyZeTL2n7x+3DTnvqyxi9JIgBAMyb+vvD7AwAAgBmBIAkzGTdiaNVoiDS64XFFUvk3T/rW80+ufZK7l795f2VY4wOkiUuSAAAAAGDWCqa7AQCYBmM3bd8bJv1gY2VY7jXDoHxF20v7Hs0+djkbIRIAAACAOYEgCcBcNxoohVt2KlcK7dlahbmyHtf4mUhhrVoAAAAAmI0IkgDMdaOziSqSwkLFn6xVmC/7E9oXIE3cKBkAAAAAZj2CJABz2dglbqGkSq6smkFStqQntP++SBJhEgAAAIA5giAJwFw18ZHrLiksVvR0rRN2l/xpjd9bCQAAAADmFIIkABgzKylf8pp7JD1X9Ge0/1PaCJQAAAAAzBkESQDmunGhUK7iz9Qq3LF/kAQAAAAAcwpBEoC5zCd8HuZLtrNW8a68dojZSAAAAADmMIIkABgTDGUr4a5aRU/nw11ifyQAAAAAcxhBEoC5btym29miP1er8LHd9pyYiQQAAABgDiNIAoAxM5KeKypXq+ixneWsWNYGAAAAYA4jSAKAES7Jd1dsd62Coae1W+yRBAAAAGAOI0gCgDHL27KFSqFW0YM7lBfhEQAAAIA5jCAJAEa4JC+UVa5xeHST7YkzkQiWAAAAAMwZBEkAsI+XvXqQFLoqE2sPQj8AAAAA0FYIkgDMdeNmGe2uWKlGVUXsiwQAAABgjiNIAoB9vFDcb+bRyAGNm6lEmAQAAABgTiJIAoAxsqVy1aVt7jY6IwkAAAAA5iyCJAAY4ZL8ge3atWdj7XHK7jtVfbNtAAAAAJgzCJIAzGUTAyF/4Fnln8rqjomFwzv9NhEiAQAAAJjjYtPdAABMM9vzEZPUIanrvm3lX515XGxhqkMLy6Ht/u3T4f+76Dv5tbvL2i2pIKkoqSJpv5lLAAAAADCb2XQ3AADTLNC+ECklab6kw/b82aWRGUh5Sbsk7djzZ05SSRL7JgEAAACYU+LT3QAATDPXyMyiUCNPZitpZNZRTPue1FbQSJg0Gh6FIkACAAAAMAcRJAHAiNEgaTRE8j2fSyNL2XJ7vi6LIAkAAADAHEWQBGCuG91Ae2yQpD2fx8Z8XtzzMRokjZ4LAAAAAHMGeyQBwPgNt2MaCdnj2vdky4pGAqTRP0dnJBEkAQAAAJhTCJIAYMRomBSM+Rh9jxy7jxIhEgAAAIA5iyAJAPaxMR/S+CDJq3wOAAAAAHMKQRIA7K9akDT2TwAAAAAAAAAAAAAAAAAAAAAAAAAAAAAAAAAAAAAAAAAAAAAAAAAAAAAAAAAAAAAAAAAAAAAAAAAAAAAAAAAAAAAAAAAAAAAAAAAAAAAAAAAAAAAAAAAAAAAAAAAAAAAAAAAAAAAAAAAAAABAbTbdDQCz2VBf4uNBGCSjanaXs58/eVBPTtU1M6s7X2QWvzCqJlTlpz0DhR9N1TWnQiadvMzcFtQ6Xspm/37pl/XswewJ9WVWJY+3wFbXOh5auKmnP3/NwewJAAAAwIETn+4GgNkskJ2uQCuiapIdqUel7Lqpu2g8LdPKyJKy/fuUXW+KmGyVAj2/1vGwMzEo5QmS2owHdpwF+nit4+a2QRJBEgAAADBLBNPdADCbhbLr69WY/M+m6no3rFDMpLdG1bh8+Kr1+Q1TdU0AAAAAwNxBkAQcQNuL2VtcejqqxkxnD/WljpuK6718QeJcmY6KLAr1jTVSOBXXAwAAAADMLQRJwAF0xqBKFoY3RFdZELhH7mnUKFP0MjpJskq57iwpAAAAAACqIUgCDrCK9LV6NW56+2Svc8MKxQIFb4m8jnTfoi+Vfj3ZawEAAAAA5iaCJOAAWzyQ/7nct0TVmOvlm1cllkzmOq88OvEamWo+9UySFIZ1Qy0AAAAAAGohSAIOPA9l/xJZYWbxwCa3vM3qLGtz92JZ0X0AAAAAABCBIAk4CEKvvy+RBdby09vWSIEsqPO0Nv3shMH8UKvXAAAAAACAIAk4CJYMFB+UdE+dspdkLu1a3sr471+deLWkhZFF7myyDQAAAACYFIIk4CAJGwhyPNbirKTAIpe1ubwQev5bLY0NAAAAAMAe8eluAJgrwlLu60Fn8krJaga4ZsHbJX2qmXFHlrVZ5LI2uW5evE7PNDPuqI0rEz0dncGLJR0XSMe5dJyk4+QymT8j19Mme8bdt4VWuW1xf/H+Vq5zMAz1pc4IwvDU0NRjFvTI1W3ykpttl/wJhX5fPpf/0fJr9USr17hhhWIvXKDDax1//H7tOG+DyqNfD1/acbrH4xdJOtGkWGjaGIT2293l7E0nD+rJVvtokWVWJc/0wN9oFvSYdIxLgUyPKvRHihZ+54T+wu8OVjOZVcnjFbM/cvNTTDrGZEe7+y5z3+ZBsM3Dyh2FzYXbl9+iwsHqCQAAAJjrbLobAOaS4b7UjyW9PqomLJdf2LO+eF+jYw6tTrw6iAU/jarx0C/oHsh9u9ExJWlrOvG6QPZBk/5YZrHGz/QhhX5z0XTFsv781kbPGk6nHpDp+bWOF4rh4lb2eHpklRZ0xpPvCdzeFzX+Xu7u0i/kPvjIA/lrx4Y+jcj0db7QFP9NzeHL/vLu9bm77l+hzkMXJK8xs4tqtJGX7PpCJfvxE9drezM9NOvulepY0JH8oEkfNrPjomrd/W6ZX969Nr9BkoZ6U2cGge6KqN/Q3Z87r5l+MunkWyR9zKSXyazOf6d8t7tukVU+2b22eG8z1wEAAADQPJa2AQdRGIZfq1cTxOJvb2ZMq7usTc/mN+e+3+h4m1d2npLpS90fs+BWM/sfzYVIkmQ9CoJVnbL7Mn3JD2qaAuv7V6hzKJ38x65YcjiQXdlQiCRJZmZmZ1gQDJ54WvLB4b5k9NPwWvDwm9R12MLU92uFSHvaSMj8PbG8ilN9/bGG+lJnHNORvDcw+4d6IdKevs4wBbcNp1PXZlYoOZW9bEx3nZTpS24ws2+b2Rn1QyRJsnlm9jbz2D2ZvtTg1tV63lT2BAAAAGA8giTgIMrm8ze5PBdV4+bNBEkm6YLICte3Gl36s+UDiaXxjtitJp3aRA81OrNDTPbFTF/y7yY9VpM2r0osOXRh8meB2f8ys45WxzGzEyW7IZNOfuGGFWoyUKstsSz5WdWZmbbHzUu/rGen6roTDfV2vSFwv01mJzd9suliLUj+wC08dCp62ZJOntWl2B0mO6elAcxiJv15EKR+llmVPH4qegIAAACwP4Ik4CA65RrtMtf3ompMtnxLuuOljYy3dVXylXVnkYRhQ09ry6xKHh9L2E/MbEpvwk32V8O9ybdN5ZhRhlclXhuPBb802R9M1ZhmdtlZC1M3371SqUkPFrc3m9llDV03VN0ZbK3auir5KrPg32R2SKtjmNlrAgu+OtlehlclXhsz/USmIyc7lplOs7ju2PKBxNLJjgUAAABgfwRJwEFWcasb7MQUb+jpbUGgOsuufKh7XT5y/6QxF/2CyQ7IzbcH9okDMe5EW1bqWMWCb5pN/fImk95wTEfy2kmP4/7XjdS5tLOUzf3bZK9XzcMX6dBYTNdPZrbWKJOOncz5m3t1jGLB1002hcvkrCeesK+u4b9xAAAAwJTj/8kGDrInytkfyPVUVI1JF6r+3kKmIHpZm7u+Lsnr9bQpnVhs0p9GFrmecvd/cvllHobvkvuH3P0zku6pN75JLzgIy40s3pm6TqajGil295Kke9x9U+NXsAuH04mPttrgnjEaWiJnrpuWfln5SV2rhq7DE5+V2ZJ6dS49LffvysOPha5eua6V/KGp7KUjSH1VpgV1yp6Q+zdC+eWhq9ddV8l9S/Qp9qr39SY/NGWNAgAAAJAkxae7AWCuOWNQpeF0eIMUrK5ZZLZ4Szr5iiX9uTtrlWxJJ19hskWRF7NKQ0ujOtz6FNQOOFz6vrZnV3TfqGr7O40sXTPdELU5chjYSyU92kg/rcikk/9bDew75PJvy/XZ/Kbcr0b3jnowrSPnWepV5v6PZrYsegT71OaVnf9v6WBx8oHKyBPiviP3uzywsrleJNn5Zjqsovobs7fiwbSONNl767emHyqffeeiq/X0mG+vk6Sh3uSHA9Nnmt+Ifbyh3q43qM7fmUu35Hdn37v8Wj0x9vt3r1RqQUfic4EFl9Y61wJ9avPFuvpA7jMFAAAAzDUEScA0qFTsa7G4agdJkmKut0uqGSQFFr2szaVfN/I49BtWKGaB/rj2OL5R23K1QiRJ0qKB3LcyfcmvmfSuWjUmddfrpVWZFUrK7GNRNS4vynV5d3/uixOPPb9fT0nZ725cqds7O5PXmOytNQcyi3V0xtZIamj5Ye2GfJdX9Pru9bm7xn5788U6PJ5KrLp2IH/bpMav4RBPvt8CS0S35v1X9+cuWyOF1Y73DOT+YevqxK9jMd0iWcv/HbEg9uE6fdzU3Z9boSqz6s4YVFbKr8qkkzvN7PKq48uSsXmpd0jZda32CAAAAGA8lrYB02Dx+tzPXb45ssi0ImKPFwtc0RtYuzc0o+XCG1VZtDb3/Hw5u7BSCf8wdP+wXF+RdI/LCwr9M1Eh0l6hR+7FZEHd5UutOypxgUmHR9a4p6uFSGOdMKgd3WtzF7jrh9Fj6cKt6c7Tmm90n1BaOTFEkqSlX9az3QP5K2qFOJNlZvWeCrhtWyn3kXrXX7wuf6tL32i1j43prpNMekOt4+6eL8k/rDpLM3d67pMu/b7WcZNf0mqPAAAAAPZHkARMEwvtXyKPmx33/tWJV1c7lkkn/0BmETN8PLSCvt5MPyeu1/bF6/K39vTnPreoP3vxorXZlz5yX+6QO5/IX9PI+aGpzl5DPoWbKU8Q2Psjryzdd+f2fGulqqQAACAASURBVOMbZYflj0heO0gxs0BB5P5Ukdy3XtOfu6Hl81s0MnPLXxRZ5H7FyGyfRlQ+22ovHYq9Luq4ma5Z1p/fWm+c0wb0nMs/V3scO3NTOrG4lR4BAAAA7I8gCZgmpXK57tPbzKovnzLVWdbmun3RVbnhVnsbdd4GlS+8UZV6dcOXdpweWPCOyKJQXZPtp5o9G4WfE1nklb9s5OcY1b2u+Bu5XRdVY7I3Njre/ifbdQdqxlGU8MjkS6OWorl7vrQ7t77R8fYsnby1lV5MfnbUcXf7daNjuYeRtfEweEmjYwEAAACIRpAETJOlg8WH5PplZFEQXHDbuVX3Motc1ubyuiFVq9ZIwdZ052mZ3sSfD6dTX86kk8Pq6PiVSZGzgmR1n0LXkpj8hVGbfLu0s7u/cHOz47pXvlmn5OUPvU/zmx1XkkJVft7KeZNlcXth5HFpqNknxYXyuvtw1bjYWZGHK+EjjQ4VVIIHIsey8PRGxwIAAAAQjc22genkfr3MXhpRcfQJp3a9VhsKPxr9xlBv6kyZai7Vcfd8qZS/aapa/O1KHZXsSL0qkL9apldIerFk80ZjoUbzIT9AM3ACD5ZEtWBeb8ldDRVtjIzazWKJROciqfhgs0OX3Sb/xLcWBB4+Txb5Q9VdSrafUI+2+E8Sx0cd9LilM+nURY0MZKrzSxhY9HI+AAAAAA0jSAKmUbmc+0a8I3ll1GPUzWJvl/SjfV/7ijr3zf92wqB2TKavTenE4rj0blPwZ2bas6n05CYUBWp8aVkzzLQk6rjLN7Yy7s6nC1sPW5gMFZG8BBYcLanpIKmyKf94Kz1NlpsdHvW36FLzQZL0WLMn3L1SKZN1RtWY7K1TOIdt0ZSNBAAAAMxxLG0DptGSQf1esn+vU/aW+1do30231VnWFlpDT2urZnOvjsmkk9/qlG0OLPjUvhBp8g7UjCSXjq1T0tKMpNNuVFFS5D5TZnZ0s+O6tHP5LSq00tNkufthdSqeanpQ80ebPeWYMHlE09eZFEsd3OsBAAAAsxdBEjDNKgojgx8zPe+QBV1vkKStq1MvM9nSWrUuPb3ryWzT+wFJ0tZ04nXxIHW/mV0QtedQDdvc/bY6NQdqc+lnog6aVHO2Vz0u64g87lZuflB/rtV+JstUp1+zpgMer1jTM83ynQdmv6ya3AmSAAAAgClCkARMs1wu/22X56JqAgV/JklB4HWe1hbeuGcmTVM2r+w8JVBwk0kNBgk+5PLrQ1evV8qnL1qbPdZD/0TkGWo+cGiEySOXVrlpWSvjZlYoaXVmO4Xy7U0PbNrdSj9TwWSRoZvcj2p6zEA9zZ5z/UDuUXcvNXte65iRBAAAAEwV9kgCptkp12jXcJ++K+nttWpMOj+zQsl6y9oUqqVlbR0d8a/LVG/Z08899K942f+9Z7Cw375DFoue+RMcoBlJoeuxIHLjH2spSAqP6FxabypTUAqbD5LcIkPDAymUPxNETAYyqemleiZf3Oz+WWuk8P0j+zGdWKum4pU/iblNSegWSgcxtAIAAABmN4IkoA1UPLw+NrKpdnVm8+3o1MclnVCzxn1Lz7r8fzR77Uxf4lxJL649rJfc7G09a3PfjRyo4smoKOlA7ZGkOjOSTN5SkKR4nQDKPbvrmUKm2WHNDsym4w1eO3qTb2t+dpG1cM7IpWyzIoIks9jji/qzd7cyNgAAAIADh6VtQBt4olT4oVxPRhYF/pdRh0PZv0jyZq9tHrw36ri7PtqzNhsdIkkyC+ZFFnh4QIKkooIH5V775zY7ZLg3GT2Tq4rAgkuijrtsQyvLCN192oIkheFd0QXWM9SbOrPR4dZIgRSc20orLm2OOh6E4amtjAsAAADgwCJIAtrAGYMqyfyG6CqLnEHo5XKLT2vzkyKvqvBfGxpFXnN2iSQpiFyA1rITB3IZN0XOxHLTp+9eqciNs8caXp18hcneGl3lP2x0vAmmLUjqHig8IumJyCLzdzY63iXp5Ntken5r3Xjk0/Q8CF7T6EjDq7v+aKg31ZvpS5z78CXNL88DAAAA0DiCJKBNlFvc32iPexZ/qfhAKyd6naVJlWKDm2Sb/WmdK3U13FSz3K+LOmxmJx4TT/Y1MtQNKxRToCsjLyfPVUq5G5tpcV8zzc8am0rufnvUcTN7z6bVXSc3MJQFZn/TeiPhTYqYnWXuFw9f2nF6I314EHw+CNRvCm5LzkttH+5Lbc+kk7dl0sm1Q+nU6i0fSNR80iEAAACA5hAkAW1iyUDuDvfoWRq1hKG3HkK5bYs6HOvUa+sNMdSbfIeZvTzyMtIBC5KKpfyN7p6PLAr098N9qU+uiXjf29yrY85akPyxzM6OGspc65YM6vcttjutQoWDUcdNOqIjCP49c2nX8lo1969Q53A6dY1JL2i1j+6BwiNuqj0LzyymeHxtvZlkmd7EO81s4my4o83sXDNLB+ZfjMWc/QABAACAKUKQBLQRG9nnqDnuFQX29Ulc9p6og2bBZzKrksfXOj6cTrzbTF+pd5Eg9GQrzTXihEHtkPTP0VUWSPqb96eTt2bSXW8eswTKNqa7ThrqS1wSt9Q9ZnZe5DDuu3LZ3BVT0fd0WNxf+LHkD0XVmNlxige3DfWlzn/4Ih069tjGdNdJhy1I3ibTxZPvpvLpOvtbnb2wI3VnrRlSmdWJcxRY5N+7u13X/aXCw5NsFAAAAMAe/Cst0EaKYeX6zljsr5s6yey2nrXZyCeXRXHXPRa1e5HpSIvZr4Z6E5eXi/lbll2lbUN9qePkOtPkH5XZyxva/MisZhg1FfKbcpcnT0idLekl0W3YeVLsvOS8lIb7fMhlh5p0+MjBOhdxdzddsvzaOvsMtbtQf6NAkUvzzOx4k/41eXiykknrlzI9KtnLTTp2qtroXlu8dzid/J6k82v3oZd1xoJfDKeT33fply57SNJxZv76evtYuXupXPFPTVW/AAAAAJiRBLSVZesKv3XXL5o5JwzDyeytJJUrP3R5LrLGdFQQBNd2JlKPZ/qS+UB6NDB9p95ytrFctnhSfdax/BYVwmJlhUs7Gz/LevaGSI3V/2332txNzXfXXhYN5L4VSpH7Su1lFjOzM032pzVDJNdTrfZSrpTXuLxQp4l5MrvQzK4ITN8JTAP1N0OXTPri0vX5La32BgAAAGB/BElAmzH59Y3WujyXzecnFWz0DBY2KtRHGq03Wc29jty1o+Z55qf+dqWOara/ZvQMFjZapfJOue+a6rHd/Z+u6s9+YqrHnS6FZ7IfdOm+yY7j8s+6/Aetnr9kfemeMLQVkpcn28v4vnT1Vf25hn+vAQAAADSGIAloMyXPfSPqaVZjmfTdU67RpEOT7oHcWne1HAbIvSL3D7mFH6pdZPFkPHVhy9do0KJ1he+XC3663P9jakb0cujq7e7PXbZGCqdmzOm3/Gva+Zxnz3X3/251jFC6rntt7q8m28vigez3wlDvcnlxsmNJksJwfffa7J/Ppr8vAAAAoF0QJAFtZumAHneznzRSWwltcsvaxgjD7Dtdujpy8+MqXP5wRf7GRf25z+/2/HejZpYE5hdNvtP6llyV33xVf+4cefgxyXe3Oo67bwhDe2VPf3bdVPbXLp7fr6d253Kvk9ffLH0c9+cUalXP2ux7JTX1+1JLz0Dum6VK+CJJt7Y8iGt7KL980UC+d6r6AgAAADAeQRLQhqyRfY9cTz5RzrY+i2iCxev0TPfa7Ae8ole4+931r++/89A/uK2YO21xf/4n0kgwIdmGmueYvXLLBxJLp6rnKGukcFF//tNP7cgt9Er4brl+LHkDM1R8t9y/52HlTd39ufN6BrItz9iZCU65RrsW9WcvDj08x+W3R75G7rtcuroS+umLBrJfmupelq0r/HbR2uwfhhW9xd2/1egSRZc/rFCrSruzi3vW5v5ehEgAAADAAdPQw5YAzDk2tLJrmXXoZPPgZMlPcrN5kh6XKVMuVn68dLAY+Qj5drRlpY6NdXS9xDzWHZp6TN5tsoqbb3fXNnl4X2Fz4fblt6jO5s+z11Bf6jhz/bFLS2Q63qSSe7glcHvo8XLu5jMGlT1Yvdy/Qp3zj+461xScZIEtcNdCmc9XqEfdbEsQVrZUAt9ybX/xQZaxAQAAAAAAAAAAAAAAAAAAAAAAAAAAAAAAAAAAAAAAAAAAAAAAAAAAAAAAAAAAAAAAAAAAAAAAAAAAAAAAAAAAAAAAAAAAAAAAAAAAAAAAAAAAAAAAAAAAAAAAAAAAAAAAAAAAAAAAAAAAAAAAAAAAAAAAAAAAAAAAAAAAAAAAAAAAAAAAAAAAAAAAAAAAAAAAAAAAAAAAAAAAAAAAAAAAAAAAAAAAAAAAAAAAAAAAAAAAAAAAAAAAAAAAAMCUsOluAJjLMr2J95uCpZMdx00Vt7BobkU32xWE/mRovj0s5R9eMqjfT0WvAAAAAAAQJAHTKNOX3GCycw7kNVx61tx/5u7/+sgD+a+ct0HlA3m9g23r6sSywPyk7oHCD6a7FwAAAACY7YLpbgDAgWXS4TL7EwuCq5a/IHlvJt315unuaSr8+t2aN5RO/W0QswdMsbOnux8AAAAAmAsIkoA5xU4xi30/k05+Ybo7mQTLrE6864hDk78LTB8zWdd0NwQAAAAAcwVBEjAHmdllQ73JD093H80a6kudMZxO/txiwVfN7Ljp7gcAAAAA5hqCJGCOCkxXzpRlbo+s0oJMOnV14H6XzM6a7n4AAAAAYK4iSALmKjOTYp+c7jYa0RVLXmKm9430DAAAAACYLvHpbgBAbe76jaTv1DpuJlOowAOPmatD8pRbcILk55qss974ZnrZUDrxmp7+/E+ntHEAAAAAwKxEkAS0MTf9qmdt9hPNnvfwRTo0cXjyr83s8nq1gVmfJIIkAAAAAEBdLG0DZqHlX9PO7v7cR0J53SDJpZcejJ4AAAAAADMfQRIwi228L/d5d38kssjVc8MKxQ5SSwAAAACAGYylbcAsdt4GlTMvsNsknVirxsw6zliQWCTlt7Zyjcyq5PGK2R+5+SkmHWOyo919l7lv8yDY5mHljsLmwu3Lb1Gh0THXSMHb03remB7nRZ5gnnwwrSPHfuuQvLz7aj3d9A8kaagvdUYQhqeGph6zoEeubpOX3Gy75E8o9PvyufyPll+rJ1oZX5JuWKHYCxfo8FrHH79fO87boPLo18OXdpzu8fhFkk40KRaaNgah/XZ3OXvTyYN6cuL5W1fredmg+j8WHLJd2e4blZv4/QfTOvIQJd4it5PNtEiyIyV/KjT9XqH+q7Ajd8vyr2lniz9ypIPxmgMAAACYPIIkYJYzDzfLoicfxkve9HtBJp18i6SPmfQy2ci+33uvaabR71gQU/KE5O5MWrfIKp/sXlu8t97Y70knujst2NJwM2Z/MV+pvxj3vaTvlnKHNDrEI6u0oDOefE/g9j5Jz1cwJoWxkf+x0S8CUzKV9Exav5D74CMP5K8dG/o04qyFnaea4r+pdfyQU/zl2pC76/4V6jx0QfIamV009pF1wZ7/SXUkP59J2/WFSvbjJ67X9r3Hg+S9882Orza2Hx2ukfL/3+jXW9IdL41Z/G8kvdlknRr3bDzbe63E85LFTFrfKsk/tqy/teBxrIP9mgMAAACYPJa2AbOcm9Wc9SJJLi/85zOFhkObjemukzJ9yQ1m9m0zO2MkNarH5pnZ28xj92T6UoNbV++bbTTd7l+hzqF08h+7YsnhQHalTM9v6EQzM7MzLAgGTzwt+eBwX3LFVPf28JvUddjC1PfN7KKINhIyf08sr2Kz49+9Uh2ZvtSauMX/y2R/Wu9JfybrNLN3dsgeGupLXNLs9Ua182sOAAAAIBpBEjDr2YsjD7v97sIbVWlkpC3p5Fldit1hsnNaa8ViJv15EKR+llmVrDpb5mDavCqx5NCFyZ8FZv/LzDpaHcfMTpTshkw6+YWp3G8qsSz5WUmvb6D05qVf1rPNjP3wm9R1TEfyFpM+IVlTM9LMLBG4XT3cm3hPM+dJ7f+aAwAAAIhGkATMYsOXdpxu7n8YVWPyBxsaa1XitTHTT2Tj9yJqhZlOs7ju2PKBxNLJjtWq4VWJ18ZjwS9N9gdTNaaZXXbWwtTNd69UatKDxe3NZnZZQ9cN9bVmhjYL4sllyRtk9rrWmpNkZm7BZx5+k7oaPaXtX3MAAAAAdREkAbNUJp18i3d0bKi39Cx0u73eWJt7dYxiwddNlpy6Dq0nnrCvrpmG96EtK3WsYsE3zaZ+iZ1JbzimI3ntpMdx/+tG6lzaWcrm/q2Zsd10mczOb62zfcx0THJp6uJGamfCaw4AAACgPoIkYBbYfLESD6Z15JbezudnVne9KdOXGjSzb5tqPxVMklx6YOMD2cF643cEqa/KtKBO2RNy/0Yovzx09brrKrnX2XvJXvW+3uSH6l1/ilm8M3WdTEc1UuzuJUn3uPumxq9gFw6nEx9ttcE9YzS0XMtcNy39svJNDS0dOvF77vqBh+GaUOH73L3f5ZsbGcvN/3cDYeDMeM0BAAAA1NXAJrkADpRMX3JD5H5D7hVJhaqHRm7eY2aKqd5j2Woph69btD7/71ElQ71dbwiC2A+jaly6Jb87+96Jj2a/e6VSCzoSnwssuLT2uZ4rP5c7buweP5svViJIJs4e/TqIBX9m0vtrjuH+L2Ho42akxEyVRQP52ybWZtLJy83ss1E/z56+vi3XZ/Obcr9afsvI38GDaR05z1KvMvd/NLNl0QN4pVSqvGDpYPGhaoczfZ0vjHpq24Sx3KXvyP0uD6xsrhdJdr6ZDqt4+PrF/fmfVPk5h63GU9smuKcUlt63dKD0q4kHhnqT7wgC+5d6A5TD8qlLBoo1l0i2y2sOAAAAYPKafuQ3gINoZFZK1b1fJpsCu/zr3XVCJEmyIPbhyHHcb+ruz62Q5BOPnTGorJRflUknd5rZ5VXHlyVj81LvkLLrRr83MsMmf+vo15l08mWKWKFnbpsXr8vdWrNgdJwVSsrsY5E/j7wo1+Xd/bkvTjz2/H49JWW/u3Glbu/sTF5jsrfWbspiHZ2xNZL+rF5fkdx3eUWv716fu2vstzdfrMPjqcSqa6uEZQ0PLb+r/FzujbU26u4ZyH09k06+yszSUeMEQXy5VD1ImpGvOQAAAICaWNoGzDkeuvtnthVz761XuTHddZJJb6g5knu+JP+wqoRIY+303Cdd+n2t4yZv+VHyTTkqcUG95X5yT1cLNMY6YVA7utfmLnBX5EwtuS7cmu48rflG9wmllRNDJEla+mU92z2Qv2KNFLY0sLtLlQ/Ue9pbflPuw3Jtr9PkoprHZuBrDgAAAKA2giRgDnHp9xX3N3T35/7qjEGV6tV3KBb5VC8zXbOsP7+13jinDeg5l3+u9jh25qZ0YnG9cSYtsJrL4yTJpfvu3J5vfNPmsPwRyWsHOWYWKLig8QYnNuRbr+nP3dDy+VFDm93cvbZ4b726PUvM9guyxgm89hPTZtprDgAAACASQRIw63nZ3X/qYfjRbDH7omr76dRi8rOjjrvbrxvuwsPI2ngYvKTRsVqxKZ1YbFLt/agkySt/eeGNqjQ6Zve64m/kdl1Ujcne2Oh4+59s17U846geD6PDoXF9+FDk8dCrPs1vRr7mAAAAACIRJAGzlMtv99AvyD2TO7K7P3dO90D+ipMH9WRTg5jOijxcCR9pdKigEjwQOZaFpzc6Viti8hfKam+05NLO7v7Czc2O6175Zp2Slz/0Ps1vdlxJClX5eSvnNcTs/sYbsWeiDgcKuqp9fya+5gAAAACisdk20M7ct8p0l0sxuc0z+XzJTmrwMepneeA/Hn5U351EB5FP/fK4pTPp1EWNDGT19gcP7EVN9NW0wIMlUR2Yq/FHzY9V0cbISN4slkh0Lqq1GXWUstsBe/qYy+ouSdxXGz5nET9kaNVf2Zn4mgMAAACIRpAEtLHQ7Paetdn9NsUeWtX5giAWG5RZzRlDJus02f898QXJ8zedmDt/2VXa1sy1716plMk6o2pM9tZJPz5un9obNk8BMy2JOu7yja2Mu/PpwtbDFiZDyWpGG4EFR0tqOtSobMo/3kpPjfBSOdtwbWDlVv6aZ+JrDgAAACAaS9uAGahnffG+O7bnXu1h+FHJy1G1JvuDjq7kHUMru05o5hrHhMkjJtdls6z2hs1TwKVj65S0NDvmtBtVlDQcVWNmRzc7rks792x0fUB4Jcg1Whu4In/Hal5jhr3mAAAAAOojSAJmqAtvVKV7IH+Fh95br9bMlllH8NMtK+ve2O+V75zCuUaN8Ignf02NyH1+TIq1OrDLOiKPuzUfxLg/12o/DQ3fmW84SHKTt3iZmfWaAwAAAKiLIAmY4boH8v8sV93Hp5vZcfHO5I13r1TkDfio6wdyj7p7afIdNurAzkgy+WNRx920rJVxMyuUtDozb0L59qYHNu1upZ9GBX7gZjuNmnGvOQAAAIC62CMJmAUeL2X7julIvkpmJ0VX2qsWdiY/J+U+WG/MNVL4fmmrpBNr1VS88icxtykJPELpgIZWoeuxIGqOlVtLoUZ4ROfSetNqglLYfKjh1vCMoVaEuZZnGTV+jZn2mgMAAACoiyAJmAXOGFR2qM8uCuR3Shb5f9cm6xvq7fpez0DhR/XGNdlmRQRJZrHHF/Vn726h5SlV66lh40XPjjF5S6GG4nXCEPfsrmcKmWaHNVOlpX7aysx6zQEAAADUx9I2YJboWZu922V/20htEAT//ND7NL9enUubI8cJw1Mb7e9AMnndvXaKCh6Ue+1ZOGaHDPcm39bstQMLLok67rINezaHboq7z/ggaaa95gAAAADqI0gCZpFtxezfSrqnfqX1HJJMfKZ+nUc+VcuD4DUNtqbh1V1/NNSb6s30Jc59+BI19UQtr7fszetv2nziQC7jpv+IHMb06Ub3kJKk4dXJV5jsrdFV/sNGx5tgxgdJM/A1BwAAAFAHQRIwi5wxqJKr/F6XNzAbw1ZlVifOiSzx8CZFzIwx94uHL+04vYHWzIPg80GgflNwW3JeavtwX2p7Jp28LZNOrh1Kp1Zv+UBiac2TVefx84ESDfQguV8X2aTZicfEk32NDHXDCsUU6MrIy8lzlVLuxoZ626+ZA7+H0UExk15zAAAAAHURJAGzTPfa4r0u/2TdQjOzwAYffpO6ao41UHjETTdEjBFTPL623oySTG/inWY2ca+lo83sXDNLB+ZfjMW85t5OLqs3I6k78vgexVL+RnfPRxYF+vvhvtQn10S8P27u1TFnLUj+WGZnRw1lrnVLBvX7RnqbrXjNAQAAgNmFIAmYhTbel/+Mu9ffBNvspMSy1MeiiyqfrrPPzdkLO1J3blrddXK1w5nViXMU2D9HXcHdruv+UuHhiIJno8436fzM6sS7Hn6TujZfrMTQ6sSrh9Kpv5tYd8KgdkiK7EWyQNLfvD+dvDWT7nrzmGV4tjHdddJQX+KSuKXuMbPzIodx35XL5q6Ivtbsx2sOAAAAzC48tQ2Yhc7boPLW0yoXB4r9wmQ1ZxxJksz/avPKzq8vHSw+VO1w99rivcPp5PcknV9zCNPLOmPBL4bTye+79EuXPSTpODN/fb39bNy9VK74p6JqgtC3Keo58mZmMftq4oTkVebqlJlJ0sMX6YrlX9POsaX5TbnLkyekzpb0kqhrjoQWsfOS81Ia7vMhlx1q0uEjB6POHPmh3HTJ8mv1RJ3KOYHXHAAAAJg9mJEEzFKL+4v3K/Q19epM1hnvjK1XxK16uVJe4/JCnZHmyexCM7siMH0nMA3U3xRZMumLS9fnt0TV5JW/r944I2NZ12iIJEmdh3Qumliz/BYVwmJlhWt8wFRn5J69gUZj9X/bvTZ3U+P1sxuvOQAAADB7ECQBs9idT+SvdPld9epMds5QOlHzkepL1pfuCUNbIXn0ptdNcunqq/pzH6lXd+J6bXfX/c2ObzHbL0iSpJ7BwkarVN4p913NjlmPu//TVf3ZT0z1uDMdrzkAAAAwOxAkAbPYhTeqUgkrF9fd7FiSWXDlmL1p9rN4IPu9MNS7GnsiXAPCcH332uyfr5HCBk/4fLOXMFnNTbgXrSt8v1zw0+Ue+Xj6xnk5dPV29+cua/xnmlt4zQEAAICZjyAJmOWWDBQflPR/6tWZdEQilfyHqJqegdw3S5XwRZJubbkh1/ZQfvmigXyv1Pgj7u/cnr/W3b/V5NWqzkgateSq/Oar+nPnyMOPSb67ybH3cvcNYWiv7OnPrmt1jLmC1xwAAACY2QiSgDng6v7cP8j9znp1ZvburenE66Jqlq0r/HbR2uwfhhW9xd2/1ehSJZc/rFCrSruzi3vW5v5eTYRI0sjsqkfuz71D7h+S66m613PdG5o9WK9ujRQu6s9/+qkduYVeCd8t148lb2B2i++W+/c8rLypuz93Xs9A9r8b+0nAaw4AAADMXPWegwMAke5foc75R3edawpOssAWuGuhzOcr1KNutiUIK1sqgW+5tr/44FQtP1ojBe9Z3bU8bsGLZXa6mS+R60mXb5fp0UpZt9XbwDvKlpU6NtbR9RLzWHdo6jF5t8kqbr7dXdvk4X2FzYXbl9+iOhuQo1G85gAAAAAAAAAAAAAAAAAAAAAAAAAAAAAAAAAAAAAAAAAAAAAAAAAAAAAAAAAAAAAAAAAAAAAAAAAAAAAAAAAAAAAAAAAAAAAAAAAAAAAAAAAAAAAAAAAAAAAAAAAAAAAAAAAAAAAAAAAAAAAAAAAAAAAAAAAAAAAAAAAAAAAAAAAAAAAAAAAAAAAAAAAAAAAAAAAAAAAAAAAAAAAAAAAAAAAAAAAAAAAAAAAAAAAAAAAAAAAAAAAAAAAAAAAAAAAAAAAAAAAAAAAAAAAAAAAAAAAAAAAAAAAAAAAAAAAAAAAAAAAAAAAAAAAAAAAAAAAAAAAAAAAAAAAAAAAAAAAAAAAAgylGtQAAAEtJREFUAAAAAAAAAAAAAAAAAAAAAAAAAAAAAAAAAAAAAAAAAAAAAAAAAAAAAAAAAAAAAAAAAAAAAAAAAAAAAAAAAAAAAAAA4CD4/wHMVq7BYZ4pXgAAAABJRU5ErkJggg==)"
      ],
      "metadata": {
        "id": "qGJaGufEbqxR"
      }
    },
    {
      "cell_type": "code",
      "source": [
        "def fatorial(num):\n",
        "\n",
        "    if (num < 0) or (type(num) != int):\n",
        "        raise ValueError(\"Apenas números positivos são aceitos\")\n",
        "\n",
        "    produto = 1\n",
        "\n",
        "    while(num > 0):\n",
        "        produto = produto * num\n",
        "\n",
        "        num = num - 1\n",
        "\n",
        "    return produto"
      ],
      "metadata": {
        "id": "tsvMgtc1VchH"
      },
      "execution_count": null,
      "outputs": []
    },
    {
      "cell_type": "code",
      "source": [
        "fatorial(3)"
      ],
      "metadata": {
        "colab": {
          "base_uri": "https://localhost:8080/"
        },
        "id": "H9i1Ogvua5Ww",
        "outputId": "6669ac2d-83e7-4de1-a21d-2a212a94f41c"
      },
      "execution_count": null,
      "outputs": [
        {
          "output_type": "execute_result",
          "data": {
            "text/plain": [
              "6"
            ]
          },
          "metadata": {},
          "execution_count": 82
        }
      ]
    },
    {
      "cell_type": "code",
      "source": [
        "fatorial(-5)"
      ],
      "metadata": {
        "colab": {
          "base_uri": "https://localhost:8080/",
          "height": 287
        },
        "id": "rKJNpNSGaEoq",
        "outputId": "84f80f78-07dc-4a1f-f28c-cd876af36148"
      },
      "execution_count": null,
      "outputs": [
        {
          "output_type": "error",
          "ename": "ValueError",
          "evalue": "ignored",
          "traceback": [
            "\u001b[0;31m---------------------------------------------------------------------------\u001b[0m",
            "\u001b[0;31mValueError\u001b[0m                                Traceback (most recent call last)",
            "\u001b[0;32m<ipython-input-83-3a473d4b66d2>\u001b[0m in \u001b[0;36m<module>\u001b[0;34m\u001b[0m\n\u001b[0;32m----> 1\u001b[0;31m \u001b[0mfatorial\u001b[0m\u001b[0;34m(\u001b[0m\u001b[0;34m-\u001b[0m\u001b[0;36m5\u001b[0m\u001b[0;34m)\u001b[0m\u001b[0;34m\u001b[0m\u001b[0;34m\u001b[0m\u001b[0m\n\u001b[0m",
            "\u001b[0;32m<ipython-input-81-d51e6626c95e>\u001b[0m in \u001b[0;36mfatorial\u001b[0;34m(num)\u001b[0m\n\u001b[1;32m      2\u001b[0m \u001b[0;34m\u001b[0m\u001b[0m\n\u001b[1;32m      3\u001b[0m     \u001b[0;32mif\u001b[0m \u001b[0;34m(\u001b[0m\u001b[0mnum\u001b[0m \u001b[0;34m<\u001b[0m \u001b[0;36m0\u001b[0m\u001b[0;34m)\u001b[0m \u001b[0;32mor\u001b[0m \u001b[0;34m(\u001b[0m\u001b[0mtype\u001b[0m\u001b[0;34m(\u001b[0m\u001b[0mnum\u001b[0m\u001b[0;34m)\u001b[0m \u001b[0;34m!=\u001b[0m \u001b[0mint\u001b[0m\u001b[0;34m)\u001b[0m\u001b[0;34m:\u001b[0m\u001b[0;34m\u001b[0m\u001b[0;34m\u001b[0m\u001b[0m\n\u001b[0;32m----> 4\u001b[0;31m         \u001b[0;32mraise\u001b[0m \u001b[0mValueError\u001b[0m\u001b[0;34m(\u001b[0m\u001b[0;34m\"Apenas números positivos são aceitos\"\u001b[0m\u001b[0;34m)\u001b[0m\u001b[0;34m\u001b[0m\u001b[0;34m\u001b[0m\u001b[0m\n\u001b[0m\u001b[1;32m      5\u001b[0m \u001b[0;34m\u001b[0m\u001b[0m\n\u001b[1;32m      6\u001b[0m     \u001b[0mproduto\u001b[0m \u001b[0;34m=\u001b[0m \u001b[0;36m1\u001b[0m\u001b[0;34m\u001b[0m\u001b[0;34m\u001b[0m\u001b[0m\n",
            "\u001b[0;31mValueError\u001b[0m: Apenas números positivos são aceitos"
          ]
        }
      ]
    },
    {
      "cell_type": "markdown",
      "source": [
        "### Argumentos padrões e nomeados"
      ],
      "metadata": {
        "id": "_ePjshVMb7wO"
      }
    },
    {
      "cell_type": "code",
      "source": [
        "def fatorial(num=5):\n",
        "\n",
        "    if (num < 0) or (type(num) != int):\n",
        "        raise ValueError(\"Apenas números positivos são aceitos\")\n",
        "\n",
        "    produto = 1\n",
        "\n",
        "    while(num > 0):\n",
        "        produto = produto * num\n",
        "\n",
        "        num = num - 1\n",
        "\n",
        "    return produto"
      ],
      "metadata": {
        "id": "kI4lNk0HaGnp"
      },
      "execution_count": null,
      "outputs": []
    },
    {
      "cell_type": "code",
      "source": [
        "fatorial()"
      ],
      "metadata": {
        "colab": {
          "base_uri": "https://localhost:8080/"
        },
        "id": "Fpubk9U3cCs_",
        "outputId": "478e3497-5bde-4099-ce96-be07ae19bf41"
      },
      "execution_count": null,
      "outputs": [
        {
          "output_type": "execute_result",
          "data": {
            "text/plain": [
              "120"
            ]
          },
          "metadata": {},
          "execution_count": 85
        }
      ]
    },
    {
      "cell_type": "code",
      "source": [
        "fatorial(5)"
      ],
      "metadata": {
        "colab": {
          "base_uri": "https://localhost:8080/"
        },
        "id": "mnFZc3PVcD1X",
        "outputId": "b1cdbd5c-7e90-4646-8e51-a782e5f83c80"
      },
      "execution_count": null,
      "outputs": [
        {
          "output_type": "execute_result",
          "data": {
            "text/plain": [
              "120"
            ]
          },
          "metadata": {},
          "execution_count": 86
        }
      ]
    },
    {
      "cell_type": "code",
      "source": [
        "fatorial(num=5)"
      ],
      "metadata": {
        "colab": {
          "base_uri": "https://localhost:8080/"
        },
        "id": "xikncMUacJ-I",
        "outputId": "4541874c-0e9b-4f3d-838e-bbfe02fce136"
      },
      "execution_count": null,
      "outputs": [
        {
          "output_type": "execute_result",
          "data": {
            "text/plain": [
              "120"
            ]
          },
          "metadata": {},
          "execution_count": 87
        }
      ]
    },
    {
      "cell_type": "code",
      "source": [
        "def Graus_to_radianos(a, pi=3.14159265359):\n",
        "    x = a * pi / 180.0\n",
        "\n",
        "    return x"
      ],
      "metadata": {
        "id": "wzXkpy7zcMgV"
      },
      "execution_count": null,
      "outputs": []
    },
    {
      "cell_type": "code",
      "source": [
        "Graus_to_radianos(45)"
      ],
      "metadata": {
        "colab": {
          "base_uri": "https://localhost:8080/"
        },
        "id": "Ql7glXrVdBmI",
        "outputId": "ea9527c0-0e5b-456f-86fc-d54176275a4b"
      },
      "execution_count": null,
      "outputs": [
        {
          "output_type": "execute_result",
          "data": {
            "text/plain": [
              "0.7853981633975001"
            ]
          },
          "metadata": {},
          "execution_count": 89
        }
      ]
    },
    {
      "cell_type": "code",
      "source": [
        "Graus_to_radianos(45, 3.14)"
      ],
      "metadata": {
        "colab": {
          "base_uri": "https://localhost:8080/"
        },
        "id": "12Jxv-aRdD5m",
        "outputId": "c5dd401d-7663-46da-f35b-778edf1f6419"
      },
      "execution_count": null,
      "outputs": [
        {
          "output_type": "execute_result",
          "data": {
            "text/plain": [
              "0.785"
            ]
          },
          "metadata": {},
          "execution_count": 90
        }
      ]
    },
    {
      "cell_type": "markdown",
      "source": [
        "### Escopo"
      ],
      "metadata": {
        "id": "4AjASh0diwAX"
      }
    },
    {
      "cell_type": "code",
      "source": [
        "pi = 3.14\n",
        "e = 2.71\n",
        "\n",
        "def f1(v1):\n",
        "    print(\"v1 no escopo local de f1:\", v1)\n",
        "\n",
        "    print(\"pi no escopo local de f1:\", pi)\n",
        "\n",
        "    e = 3\n",
        "\n",
        "    print(\"e no escopo local de f1:\", e)\n",
        "\n",
        "\n",
        "f1(pi)\n",
        "print(\"e no escopo global:\", e)\n",
        "\n",
        "# print(\"v1 no escopo global:\", v1)"
      ],
      "metadata": {
        "colab": {
          "base_uri": "https://localhost:8080/"
        },
        "id": "3GuluQl5iuo7",
        "outputId": "7fb213fb-f881-47f8-8e26-1c8ce07516be"
      },
      "execution_count": null,
      "outputs": [
        {
          "output_type": "stream",
          "name": "stdout",
          "text": [
            "v1 no escopo local de f1: 3.14\n",
            "pi no escopo local de f1: 3.14\n",
            "e no escopo local de f1: 3\n",
            "e no escopo global: 2.71\n"
          ]
        }
      ]
    },
    {
      "cell_type": "markdown",
      "source": [
        "### Parâmetros *args e **kwargs"
      ],
      "metadata": {
        "id": "brF81IXQeX7p"
      }
    },
    {
      "cell_type": "code",
      "source": [
        "def concat(*args, sep=\"/\"):\n",
        "    return sep.join(args)"
      ],
      "metadata": {
        "id": "UPsheQPreBi_"
      },
      "execution_count": null,
      "outputs": []
    },
    {
      "cell_type": "code",
      "source": [
        "concat(\"Terra\", \"Marte\", \"Venus\")"
      ],
      "metadata": {
        "colab": {
          "base_uri": "https://localhost:8080/",
          "height": 35
        },
        "id": "NW2nikjzeivE",
        "outputId": "3a9fb6d6-d8ad-4375-9692-5a9ff91850d8"
      },
      "execution_count": null,
      "outputs": [
        {
          "output_type": "execute_result",
          "data": {
            "text/plain": [
              "'Terra/Marte/Venus'"
            ],
            "application/vnd.google.colaboratory.intrinsic+json": {
              "type": "string"
            }
          },
          "metadata": {},
          "execution_count": 92
        }
      ]
    },
    {
      "cell_type": "code",
      "source": [
        "planetas = [\"Terra\", \"Marte\", \"Venus\"]\n"
      ],
      "metadata": {
        "id": "ZqgF1y_Aeku6"
      },
      "execution_count": null,
      "outputs": []
    },
    {
      "cell_type": "code",
      "source": [
        "concat(planetas)"
      ],
      "metadata": {
        "colab": {
          "base_uri": "https://localhost:8080/",
          "height": 235
        },
        "id": "AyhECKY4e1tB",
        "outputId": "db2ac295-c6dd-4165-aaf8-0e9257dde390"
      },
      "execution_count": null,
      "outputs": [
        {
          "output_type": "error",
          "ename": "TypeError",
          "evalue": "ignored",
          "traceback": [
            "\u001b[0;31m---------------------------------------------------------------------------\u001b[0m",
            "\u001b[0;31mTypeError\u001b[0m                                 Traceback (most recent call last)",
            "\u001b[0;32m<ipython-input-94-f47e3a6cbc76>\u001b[0m in \u001b[0;36m<module>\u001b[0;34m\u001b[0m\n\u001b[0;32m----> 1\u001b[0;31m \u001b[0mconcat\u001b[0m\u001b[0;34m(\u001b[0m\u001b[0mplanetas\u001b[0m\u001b[0;34m)\u001b[0m\u001b[0;34m\u001b[0m\u001b[0;34m\u001b[0m\u001b[0m\n\u001b[0m",
            "\u001b[0;32m<ipython-input-91-9af82bf954d4>\u001b[0m in \u001b[0;36mconcat\u001b[0;34m(sep, *args)\u001b[0m\n\u001b[1;32m      1\u001b[0m \u001b[0;32mdef\u001b[0m \u001b[0mconcat\u001b[0m\u001b[0;34m(\u001b[0m\u001b[0;34m*\u001b[0m\u001b[0margs\u001b[0m\u001b[0;34m,\u001b[0m \u001b[0msep\u001b[0m\u001b[0;34m=\u001b[0m\u001b[0;34m\"/\"\u001b[0m\u001b[0;34m)\u001b[0m\u001b[0;34m:\u001b[0m\u001b[0;34m\u001b[0m\u001b[0;34m\u001b[0m\u001b[0m\n\u001b[0;32m----> 2\u001b[0;31m     \u001b[0;32mreturn\u001b[0m \u001b[0msep\u001b[0m\u001b[0;34m.\u001b[0m\u001b[0mjoin\u001b[0m\u001b[0;34m(\u001b[0m\u001b[0margs\u001b[0m\u001b[0;34m)\u001b[0m\u001b[0;34m\u001b[0m\u001b[0;34m\u001b[0m\u001b[0m\n\u001b[0m",
            "\u001b[0;31mTypeError\u001b[0m: sequence item 0: expected str instance, list found"
          ]
        }
      ]
    },
    {
      "cell_type": "markdown",
      "source": [
        "Neste caso lembrem de desempacotar os argumentos da lista!!"
      ],
      "metadata": {
        "id": "ZohthlKMfCft"
      }
    },
    {
      "cell_type": "code",
      "source": [
        "concat(*planetas)"
      ],
      "metadata": {
        "colab": {
          "base_uri": "https://localhost:8080/",
          "height": 35
        },
        "id": "_DWNLNlYfBJP",
        "outputId": "f57a468d-0e53-4ad8-80e7-5e78f5884dd2"
      },
      "execution_count": null,
      "outputs": [
        {
          "output_type": "execute_result",
          "data": {
            "text/plain": [
              "'Terra/Marte/Venus'"
            ],
            "application/vnd.google.colaboratory.intrinsic+json": {
              "type": "string"
            }
          },
          "metadata": {},
          "execution_count": 95
        }
      ]
    },
    {
      "cell_type": "code",
      "source": [
        "def imprimir_kwargs(**kwargs):\n",
        "\n",
        "    for k, v in kwargs.items():\n",
        "        print(f\"key: {k}, value:{v}\")"
      ],
      "metadata": {
        "id": "61EsD64YfLP-"
      },
      "execution_count": null,
      "outputs": []
    },
    {
      "cell_type": "code",
      "source": [
        "imprimir_kwargs(estado=\"PE\", latitude=-8.37, longitude=-36.5 )"
      ],
      "metadata": {
        "colab": {
          "base_uri": "https://localhost:8080/"
        },
        "id": "R-sryklsfxGC",
        "outputId": "0e5e859c-7933-48ee-95c9-d40672e208d9"
      },
      "execution_count": null,
      "outputs": [
        {
          "output_type": "stream",
          "name": "stdout",
          "text": [
            "key: estado, value:PE\n",
            "key: latitude, value:-8.37\n",
            "key: longitude, value:-36.5\n"
          ]
        }
      ]
    },
    {
      "cell_type": "markdown",
      "source": [
        "### Strings de documentação\n",
        "\n",
        "[Referência](https://docs.python.org/pt-br/3.7/tutorial/controlflow.html#documentation-strings)"
      ],
      "metadata": {
        "id": "Bz70Md6Pg50n"
      }
    },
    {
      "cell_type": "code",
      "source": [
        "def my_function():\n",
        "    \"\"\"Do nothing, but document it.\n",
        "\n",
        "    No, really, it doesn't do anything.\n",
        "    \"\"\"\n",
        "    pass"
      ],
      "metadata": {
        "id": "JD7663Hefxld"
      },
      "execution_count": null,
      "outputs": []
    },
    {
      "cell_type": "code",
      "source": [
        "my_function()"
      ],
      "metadata": {
        "id": "43hfC_sQhG2j"
      },
      "execution_count": null,
      "outputs": []
    },
    {
      "cell_type": "code",
      "source": [
        "print(my_function.__doc__)"
      ],
      "metadata": {
        "colab": {
          "base_uri": "https://localhost:8080/"
        },
        "id": "pRP7--f_haAJ",
        "outputId": "c1110652-8d70-45af-ceef-c73fbbf85c20"
      },
      "execution_count": null,
      "outputs": [
        {
          "output_type": "stream",
          "name": "stdout",
          "text": [
            "Do nothing, but document it.\n",
            "\n",
            "    No, really, it doesn't do anything.\n",
            "    \n"
          ]
        }
      ]
    },
    {
      "cell_type": "code",
      "source": [],
      "metadata": {
        "id": "7i6BL4HrhbFg"
      },
      "execution_count": null,
      "outputs": []
    }
  ]
}